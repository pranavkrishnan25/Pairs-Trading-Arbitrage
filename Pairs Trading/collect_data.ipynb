{
 "cells": [
  {
   "cell_type": "code",
   "execution_count": 1,
   "metadata": {},
   "outputs": [],
   "source": [
    "import pandas as pd\n",
    "import numpy as np\n",
    "import yfinance as yf\n",
    "import datetime as dt\n"
   ]
  },
  {
   "cell_type": "code",
   "execution_count": 2,
   "metadata": {},
   "outputs": [],
   "source": [
    "start_date = \"2010-01-01\"\n",
    "end_date = \"2023-01-01\""
   ]
  },
  {
   "cell_type": "code",
   "execution_count": 3,
   "metadata": {},
   "outputs": [
    {
     "data": {
      "text/html": [
       "<div>\n",
       "<style scoped>\n",
       "    .dataframe tbody tr th:only-of-type {\n",
       "        vertical-align: middle;\n",
       "    }\n",
       "\n",
       "    .dataframe tbody tr th {\n",
       "        vertical-align: top;\n",
       "    }\n",
       "\n",
       "    .dataframe thead th {\n",
       "        text-align: right;\n",
       "    }\n",
       "</style>\n",
       "<table border=\"1\" class=\"dataframe\">\n",
       "  <thead>\n",
       "    <tr style=\"text-align: right;\">\n",
       "      <th></th>\n",
       "      <th>Symbol</th>\n",
       "      <th>Description</th>\n",
       "      <th>Category2</th>\n",
       "      <th>Category3</th>\n",
       "      <th>GICS Sector</th>\n",
       "      <th>Market cap</th>\n",
       "      <th>Dividend yield</th>\n",
       "      <th>Price to TTM earnings</th>\n",
       "      <th>Price to TTM sales</th>\n",
       "      <th>Price to book value</th>\n",
       "      <th>Action</th>\n",
       "    </tr>\n",
       "  </thead>\n",
       "  <tbody>\n",
       "    <tr>\n",
       "      <th>0</th>\n",
       "      <td>AAPL</td>\n",
       "      <td>Apple Inc</td>\n",
       "      <td>Common stocks</td>\n",
       "      <td>Large cap</td>\n",
       "      <td>Information Technology</td>\n",
       "      <td>$2,234,648,016,430</td>\n",
       "      <td>0.64%</td>\n",
       "      <td>0.0</td>\n",
       "      <td>0.0</td>\n",
       "      <td>0.0</td>\n",
       "      <td>Analyze</td>\n",
       "    </tr>\n",
       "    <tr>\n",
       "      <th>1</th>\n",
       "      <td>MSFT</td>\n",
       "      <td>Microsoft Corp</td>\n",
       "      <td>Common stocks</td>\n",
       "      <td>Large cap</td>\n",
       "      <td>Information Technology</td>\n",
       "      <td>$1,808,798,372,569</td>\n",
       "      <td>1.04%</td>\n",
       "      <td>0.0</td>\n",
       "      <td>0.0</td>\n",
       "      <td>0.0</td>\n",
       "      <td>Analyze</td>\n",
       "    </tr>\n",
       "    <tr>\n",
       "      <th>2</th>\n",
       "      <td>GOOG</td>\n",
       "      <td>Alphabet Inc Class C</td>\n",
       "      <td>Common stocks</td>\n",
       "      <td>Large cap</td>\n",
       "      <td>Communication Services</td>\n",
       "      <td>$1,212,009,730,000</td>\n",
       "      <td>0.00%</td>\n",
       "      <td>0.0</td>\n",
       "      <td>0.0</td>\n",
       "      <td>0.0</td>\n",
       "      <td>Analyze</td>\n",
       "    </tr>\n",
       "    <tr>\n",
       "      <th>3</th>\n",
       "      <td>GOOGL</td>\n",
       "      <td>Alphabet Inc Class A</td>\n",
       "      <td>Common stocks</td>\n",
       "      <td>Large cap</td>\n",
       "      <td>Communication Services</td>\n",
       "      <td>$1,212,009,730,000</td>\n",
       "      <td>0.00%</td>\n",
       "      <td>0.0</td>\n",
       "      <td>0.0</td>\n",
       "      <td>0.0</td>\n",
       "      <td>Analyze</td>\n",
       "    </tr>\n",
       "    <tr>\n",
       "      <th>4</th>\n",
       "      <td>AMZN</td>\n",
       "      <td>Amazon.Com Inc.</td>\n",
       "      <td>Common stocks</td>\n",
       "      <td>Large cap</td>\n",
       "      <td>Consumer Discretionary</td>\n",
       "      <td>$994,865,315,244</td>\n",
       "      <td>0.00%</td>\n",
       "      <td>0.0</td>\n",
       "      <td>0.0</td>\n",
       "      <td>0.0</td>\n",
       "      <td>Analyze</td>\n",
       "    </tr>\n",
       "  </tbody>\n",
       "</table>\n",
       "</div>"
      ],
      "text/plain": [
       "  Symbol           Description      Category2  Category3  \\\n",
       "0   AAPL             Apple Inc  Common stocks  Large cap   \n",
       "1   MSFT        Microsoft Corp  Common stocks  Large cap   \n",
       "2   GOOG  Alphabet Inc Class C  Common stocks  Large cap   \n",
       "3  GOOGL  Alphabet Inc Class A  Common stocks  Large cap   \n",
       "4   AMZN       Amazon.Com Inc.  Common stocks  Large cap   \n",
       "\n",
       "              GICS Sector          Market cap Dividend yield  \\\n",
       "0  Information Technology  $2,234,648,016,430          0.64%   \n",
       "1  Information Technology  $1,808,798,372,569          1.04%   \n",
       "2  Communication Services  $1,212,009,730,000          0.00%   \n",
       "3  Communication Services  $1,212,009,730,000          0.00%   \n",
       "4  Consumer Discretionary    $994,865,315,244          0.00%   \n",
       "\n",
       "   Price to TTM earnings  Price to TTM sales  Price to book value   Action  \n",
       "0                    0.0                 0.0                  0.0  Analyze  \n",
       "1                    0.0                 0.0                  0.0  Analyze  \n",
       "2                    0.0                 0.0                  0.0  Analyze  \n",
       "3                    0.0                 0.0                  0.0  Analyze  \n",
       "4                    0.0                 0.0                  0.0  Analyze  "
      ]
     },
     "execution_count": 3,
     "metadata": {},
     "output_type": "execute_result"
    }
   ],
   "source": [
    "equities_list = pd.read_csv(\"./Stocks in the SP 500 Index.csv\")\n",
    "\n",
    "equities_list.head()"
   ]
  },
  {
   "cell_type": "code",
   "execution_count": 4,
   "metadata": {},
   "outputs": [
    {
     "data": {
      "text/plain": [
       "array(['AAPL', 'MSFT', 'GOOG', 'GOOGL', 'AMZN', 'BRK.B', 'NVDA', 'XOM',\n",
       "       'UNH', 'TSLA', 'JNJ', 'V', 'JPM', 'META', 'WMT', 'MA', 'CVX', 'PG',\n",
       "       'LLY', 'HD', 'MRK', 'BAC', 'ABBV', 'KO', 'PFE', 'AVGO', 'ORCL',\n",
       "       'TMO', 'PEP', 'COST', 'DHR', 'NKE', 'ABT', 'MCD', 'CSCO', 'DIS',\n",
       "       'ACN', 'TMUS', 'CMCSA', 'WFC', 'ADBE', 'VZ', 'NEE', 'MS', 'TXN',\n",
       "       'LIN', 'NFLX', 'PM', 'UPS', 'CRM', 'BMY', 'COP', 'QCOM', 'RTX',\n",
       "       'SCHW', 'AMGN', 'HON', 'T', 'CAT', 'UNP', 'IBM', 'LOW', 'INTC',\n",
       "       'BA', 'SPGI', 'AMD', 'SBUX', 'DE', 'GS', 'PLD', 'LMT', 'INTU',\n",
       "       'AXP', 'ELV', 'CVS', 'BLK', 'MDT', 'GILD', 'C', 'AMT', 'ADP', 'EL',\n",
       "       'SYK', 'AMAT', 'CI', 'BKNG', 'CB', 'TJX', 'PYPL', 'ISRG', 'NOW',\n",
       "       'MDLZ', 'GE', 'MMC', 'ADI', 'MO', 'VRTX', 'SLB', 'EOG', 'REGN',\n",
       "       'DUK', 'ZTS', 'TGT', 'MRNA', 'HCA', 'PGR', 'SO', 'BDX', 'USB',\n",
       "       'ITW', 'NOC', 'APD', 'MMM', 'MU', 'AON', 'CSX', 'FISV', 'LRCX',\n",
       "       'EQIX', 'BSX', 'TFC', 'PNC', 'FCX', 'GD', 'SHW', 'ETN', 'CL',\n",
       "       'CME', 'CCI', 'WM', 'HUM', 'CHTR', 'ICE', 'OXY', 'KLAC', 'MPC',\n",
       "       'NSC', 'ATVI', 'MCO', 'PXD', 'MET', 'VLO', 'MAR', 'SNPS', 'MCK',\n",
       "       'EMR', 'D', 'MNST', 'GM', 'DG', 'PSA', 'F', 'PSX', 'CDNS', 'SRE',\n",
       "       'ORLY', 'EW', 'KHC', 'KDP', 'FDX', 'HES', 'AEP', 'A', 'ROP', 'APH',\n",
       "       'AIG', 'ADM', 'JCI', 'GIS', 'ADSK', 'KMB', 'NXPI', 'HSY', 'CTAS',\n",
       "       'AFL', 'CMG', 'CTVA', 'FIS', 'ECL', 'TRV', 'AZO', 'PAYX', 'DVN',\n",
       "       'MSI', 'CNC', 'NEM', 'IQV', 'LVS', 'KMI', 'BIIB', 'O', 'MCHP',\n",
       "       'EXC', 'STZ', 'AJG', 'MSCI', 'DXCM', 'IDXX', 'COF', 'SPG', 'DOW',\n",
       "       'SYY', 'PH', 'BK', 'ROST', 'TEL', 'NUE', 'FTNT', 'TT', 'RSG',\n",
       "       'WMB', 'HLT', 'DD', 'TDG', 'XEL', 'PRU', 'LHX', 'HAL', 'ANET',\n",
       "       'CARR', 'AMP', 'YUM', 'ODFL', 'PCAR', 'EA', 'MTD', 'WELL', 'RMD',\n",
       "       'CMI', 'ILMN', 'OTIS', 'DLTR', 'ABC', 'ALL', 'ED', 'CTSH', 'DHI',\n",
       "       'AME', 'WBD', 'VICI', 'KEYS', 'CSGP', 'KR', 'BF.B', 'ROK', 'STT',\n",
       "       'WBA', 'PCG', 'OKE', 'ENPH', 'SBAC', 'DLR', 'GPN', 'BKR', 'PPG',\n",
       "       'NDAQ', 'ON', 'GLW', 'ALB', 'PEG', 'LYB', 'DFS', 'WEC', 'APTV',\n",
       "       'VRSK', 'IFF', 'GWW', 'HPQ', 'FAST', 'ES', 'LEN', 'CEG', 'AWK',\n",
       "       'WTW', 'EFX', 'URI', 'CDW', 'CBRE', 'MTB', 'TROW', 'ZBH', 'IT',\n",
       "       'FANG', 'ARE', 'EBAY', 'EIX', 'ULTA', 'RJF', 'DAL', 'FRC', 'HRL',\n",
       "       'FITB', 'HIG', 'VMC', 'AVB', 'WY', 'TSCO', 'TSN', 'FTV', 'FE',\n",
       "       'ACGL', 'EQR', 'GPC', 'K', 'VRSN', 'LH', 'BAX', 'ANSS', 'IR',\n",
       "       'AEE', 'DTE', 'PFG', 'LUV', 'ETR', 'MLM', 'PPL', 'RF', 'PWR',\n",
       "       'HBAN', 'MKC', 'CFG', 'HPE', 'STE', 'WAT', 'CHD', 'CTRA', 'VTR',\n",
       "       'EXR', 'HOLX', 'MPWR', 'EPAM', 'JBHT', 'DOV', 'CAH', 'NTRS',\n",
       "       'ALGN', 'WST', 'PAYC', 'INVH', 'TDY', 'STLD', 'CNP', 'WAB', 'GRMN',\n",
       "       'FSLR', 'WRB', 'BBY', 'INCY', 'TTWO', 'BALL', 'XYL', 'MAA', 'DRI',\n",
       "       'AES', 'CMS', 'AMCR', 'CAG', 'ROL', 'MRO', 'PKI', 'BR', 'SIVB',\n",
       "       'CLX', 'SWKS', 'BRO', 'LYV', 'ETSY', 'EXPE', 'IEX', 'MOH', 'EXPD',\n",
       "       'SEDG', 'FOX', 'FOXA', 'OMC', 'TRGP', 'COO', 'KEY', 'CF', 'DGX',\n",
       "       'CINF', 'MOS', 'ZBRA', 'HWM', 'FDS', 'RCL', 'TER', 'UAL', 'FMC',\n",
       "       'NVR', 'ATO', 'PTC', 'SJM', 'SYF', 'AVY', 'CPB', 'CPRT', 'MGM',\n",
       "       'LKQ', 'J', 'IRM', 'BEN', 'GEN', 'FLT', 'PEAK', 'APA', 'MTCH',\n",
       "       'NTAP', 'TXT', 'VTRS', 'IPG', 'L', 'ESS', 'POOL', 'AKAM', 'TRMB',\n",
       "       'KIM', 'PARA', 'LW', 'EVRG', 'BIO', 'NDSN', 'TYL', 'LNT', 'CE',\n",
       "       'IP', 'WDC', 'RE', 'STX', 'LDOS', 'JKHY', 'SWK', 'CBOE', 'UDR',\n",
       "       'EQT', 'CRL', 'HST', 'SNA', 'MKTX', 'CPT', 'DPZ', 'PKG', 'CCL',\n",
       "       'VFC', 'PHM', 'CHRW', 'MAS', 'GL', 'WYNN', 'NWS', 'NWSA', 'REG',\n",
       "       'TFX', 'BXP', 'QRVO', 'CDAY', 'HSIC', 'NI', 'EMN', 'UHS', 'CZR',\n",
       "       'TPR', 'KMX', 'AAL', 'BWA', 'BBWI', 'JNPR', 'ALLE', 'CTLT', 'CMA',\n",
       "       'WRK', 'AOS', 'HAS', 'AAP', 'FFIV', 'FRT', 'HII', 'RHI', 'RL',\n",
       "       'IVZ', 'PNW', 'PNR', 'WHR', 'OGN', 'XRAY', 'ZION', 'SBNY', 'SEE',\n",
       "       'DISH', 'NRG', 'MHK', 'GNRC', 'DVA', 'AIZ', 'DXC', 'NWL', 'NCLH',\n",
       "       'ALK', 'LNC', 'LUMN', 'TECH', 'TAP', 'GEHC'], dtype=object)"
      ]
     },
     "execution_count": 4,
     "metadata": {},
     "output_type": "execute_result"
    }
   ],
   "source": [
    "tickers = equities_list[\"Symbol\"].values\n",
    "\n",
    "tickers"
   ]
  },
  {
   "cell_type": "code",
   "execution_count": 5,
   "metadata": {},
   "outputs": [
    {
     "name": "stdout",
     "output_type": "stream",
     "text": [
      "[*********************100%***********************]  1 of 1 completed\n",
      "[*********************100%***********************]  1 of 1 completed\n",
      "[*********************100%***********************]  1 of 1 completed\n",
      "[*********************100%***********************]  1 of 1 completed\n",
      "[*********************100%***********************]  1 of 1 completed\n",
      "[*********************100%***********************]  1 of 1 completed\n",
      "\n",
      "1 Failed download:\n",
      "- BRK.B: No timezone found, symbol may be delisted\n",
      "[*********************100%***********************]  1 of 1 completed\n",
      "[*********************100%***********************]  1 of 1 completed\n",
      "[*********************100%***********************]  1 of 1 completed\n",
      "[*********************100%***********************]  1 of 1 completed\n",
      "[*********************100%***********************]  1 of 1 completed\n",
      "[*********************100%***********************]  1 of 1 completed\n",
      "[*********************100%***********************]  1 of 1 completed\n",
      "[*********************100%***********************]  1 of 1 completed\n",
      "[*********************100%***********************]  1 of 1 completed\n",
      "[*********************100%***********************]  1 of 1 completed\n",
      "[*********************100%***********************]  1 of 1 completed\n",
      "[*********************100%***********************]  1 of 1 completed\n",
      "[*********************100%***********************]  1 of 1 completed\n",
      "[*********************100%***********************]  1 of 1 completed\n",
      "[*********************100%***********************]  1 of 1 completed\n",
      "[*********************100%***********************]  1 of 1 completed\n",
      "[*********************100%***********************]  1 of 1 completed\n",
      "[*********************100%***********************]  1 of 1 completed\n",
      "[*********************100%***********************]  1 of 1 completed\n",
      "[*********************100%***********************]  1 of 1 completed\n",
      "[*********************100%***********************]  1 of 1 completed\n",
      "[*********************100%***********************]  1 of 1 completed\n",
      "[*********************100%***********************]  1 of 1 completed\n",
      "[*********************100%***********************]  1 of 1 completed\n",
      "[*********************100%***********************]  1 of 1 completed\n",
      "[*********************100%***********************]  1 of 1 completed\n",
      "[*********************100%***********************]  1 of 1 completed\n",
      "[*********************100%***********************]  1 of 1 completed\n",
      "[*********************100%***********************]  1 of 1 completed\n",
      "[*********************100%***********************]  1 of 1 completed\n",
      "[*********************100%***********************]  1 of 1 completed\n",
      "[*********************100%***********************]  1 of 1 completed\n",
      "[*********************100%***********************]  1 of 1 completed\n",
      "[*********************100%***********************]  1 of 1 completed\n",
      "[*********************100%***********************]  1 of 1 completed\n",
      "[*********************100%***********************]  1 of 1 completed\n",
      "[*********************100%***********************]  1 of 1 completed\n",
      "[*********************100%***********************]  1 of 1 completed\n",
      "[*********************100%***********************]  1 of 1 completed\n",
      "[*********************100%***********************]  1 of 1 completed\n",
      "[*********************100%***********************]  1 of 1 completed\n",
      "[*********************100%***********************]  1 of 1 completed\n",
      "[*********************100%***********************]  1 of 1 completed\n",
      "[*********************100%***********************]  1 of 1 completed\n",
      "[*********************100%***********************]  1 of 1 completed\n",
      "[*********************100%***********************]  1 of 1 completed\n",
      "[*********************100%***********************]  1 of 1 completed\n",
      "[*********************100%***********************]  1 of 1 completed\n",
      "[*********************100%***********************]  1 of 1 completed\n",
      "[*********************100%***********************]  1 of 1 completed\n",
      "[*********************100%***********************]  1 of 1 completed\n",
      "[*********************100%***********************]  1 of 1 completed\n",
      "[*********************100%***********************]  1 of 1 completed\n",
      "[*********************100%***********************]  1 of 1 completed\n",
      "[*********************100%***********************]  1 of 1 completed\n",
      "[*********************100%***********************]  1 of 1 completed\n",
      "[*********************100%***********************]  1 of 1 completed\n",
      "[*********************100%***********************]  1 of 1 completed\n",
      "[*********************100%***********************]  1 of 1 completed\n",
      "[*********************100%***********************]  1 of 1 completed\n",
      "[*********************100%***********************]  1 of 1 completed\n",
      "[*********************100%***********************]  1 of 1 completed\n",
      "[*********************100%***********************]  1 of 1 completed\n",
      "[*********************100%***********************]  1 of 1 completed\n",
      "[*********************100%***********************]  1 of 1 completed\n",
      "[*********************100%***********************]  1 of 1 completed\n",
      "[*********************100%***********************]  1 of 1 completed\n",
      "[*********************100%***********************]  1 of 1 completed\n",
      "[*********************100%***********************]  1 of 1 completed\n",
      "[*********************100%***********************]  1 of 1 completed\n",
      "[*********************100%***********************]  1 of 1 completed\n",
      "[*********************100%***********************]  1 of 1 completed\n",
      "[*********************100%***********************]  1 of 1 completed\n",
      "[*********************100%***********************]  1 of 1 completed\n",
      "[*********************100%***********************]  1 of 1 completed\n",
      "[*********************100%***********************]  1 of 1 completed\n",
      "[*********************100%***********************]  1 of 1 completed\n",
      "[*********************100%***********************]  1 of 1 completed\n",
      "[*********************100%***********************]  1 of 1 completed\n",
      "[*********************100%***********************]  1 of 1 completed\n",
      "[*********************100%***********************]  1 of 1 completed\n",
      "[*********************100%***********************]  1 of 1 completed\n",
      "[*********************100%***********************]  1 of 1 completed\n",
      "[*********************100%***********************]  1 of 1 completed\n",
      "[*********************100%***********************]  1 of 1 completed\n",
      "[*********************100%***********************]  1 of 1 completed\n",
      "[*********************100%***********************]  1 of 1 completed\n",
      "[*********************100%***********************]  1 of 1 completed\n",
      "[*********************100%***********************]  1 of 1 completed\n",
      "[*********************100%***********************]  1 of 1 completed\n",
      "[*********************100%***********************]  1 of 1 completed\n",
      "[*********************100%***********************]  1 of 1 completed\n",
      "[*********************100%***********************]  1 of 1 completed\n",
      "[*********************100%***********************]  1 of 1 completed\n",
      "[*********************100%***********************]  1 of 1 completed\n",
      "[*********************100%***********************]  1 of 1 completed"
     ]
    },
    {
     "name": "stderr",
     "output_type": "stream",
     "text": [
      "C:\\Users\\patel_223gv41\\AppData\\Local\\Temp\\ipykernel_10348\\3310917388.py:7: PerformanceWarning: DataFrame is highly fragmented.  This is usually the result of calling `frame.insert` many times, which has poor performance.  Consider joining all columns at once using pd.concat(axis=1) instead. To get a de-fragmented frame, use `newframe = frame.copy()`\n",
      "  us_equities_close[ticker] = data['Adj Close']\n",
      "C:\\Users\\patel_223gv41\\AppData\\Local\\Temp\\ipykernel_10348\\3310917388.py:7: PerformanceWarning: DataFrame is highly fragmented.  This is usually the result of calling `frame.insert` many times, which has poor performance.  Consider joining all columns at once using pd.concat(axis=1) instead. To get a de-fragmented frame, use `newframe = frame.copy()`\n",
      "  us_equities_close[ticker] = data['Adj Close']\n"
     ]
    },
    {
     "name": "stdout",
     "output_type": "stream",
     "text": [
      "\n",
      "[*********************100%***********************]  1 of 1 completed\n",
      "[*********************100%***********************]  1 of 1 completed\n"
     ]
    },
    {
     "name": "stderr",
     "output_type": "stream",
     "text": [
      "C:\\Users\\patel_223gv41\\AppData\\Local\\Temp\\ipykernel_10348\\3310917388.py:7: PerformanceWarning: DataFrame is highly fragmented.  This is usually the result of calling `frame.insert` many times, which has poor performance.  Consider joining all columns at once using pd.concat(axis=1) instead. To get a de-fragmented frame, use `newframe = frame.copy()`\n",
      "  us_equities_close[ticker] = data['Adj Close']\n",
      "C:\\Users\\patel_223gv41\\AppData\\Local\\Temp\\ipykernel_10348\\3310917388.py:7: PerformanceWarning: DataFrame is highly fragmented.  This is usually the result of calling `frame.insert` many times, which has poor performance.  Consider joining all columns at once using pd.concat(axis=1) instead. To get a de-fragmented frame, use `newframe = frame.copy()`\n",
      "  us_equities_close[ticker] = data['Adj Close']\n"
     ]
    },
    {
     "name": "stdout",
     "output_type": "stream",
     "text": [
      "[*********************100%***********************]  1 of 1 completed\n"
     ]
    },
    {
     "name": "stderr",
     "output_type": "stream",
     "text": [
      "C:\\Users\\patel_223gv41\\AppData\\Local\\Temp\\ipykernel_10348\\3310917388.py:7: PerformanceWarning: DataFrame is highly fragmented.  This is usually the result of calling `frame.insert` many times, which has poor performance.  Consider joining all columns at once using pd.concat(axis=1) instead. To get a de-fragmented frame, use `newframe = frame.copy()`\n",
      "  us_equities_close[ticker] = data['Adj Close']\n"
     ]
    },
    {
     "name": "stdout",
     "output_type": "stream",
     "text": [
      "[*********************100%***********************]  1 of 1 completed\n"
     ]
    },
    {
     "name": "stderr",
     "output_type": "stream",
     "text": [
      "C:\\Users\\patel_223gv41\\AppData\\Local\\Temp\\ipykernel_10348\\3310917388.py:7: PerformanceWarning: DataFrame is highly fragmented.  This is usually the result of calling `frame.insert` many times, which has poor performance.  Consider joining all columns at once using pd.concat(axis=1) instead. To get a de-fragmented frame, use `newframe = frame.copy()`\n",
      "  us_equities_close[ticker] = data['Adj Close']\n"
     ]
    },
    {
     "name": "stdout",
     "output_type": "stream",
     "text": [
      "[*********************100%***********************]  1 of 1 completed\n"
     ]
    },
    {
     "name": "stderr",
     "output_type": "stream",
     "text": [
      "C:\\Users\\patel_223gv41\\AppData\\Local\\Temp\\ipykernel_10348\\3310917388.py:7: PerformanceWarning: DataFrame is highly fragmented.  This is usually the result of calling `frame.insert` many times, which has poor performance.  Consider joining all columns at once using pd.concat(axis=1) instead. To get a de-fragmented frame, use `newframe = frame.copy()`\n",
      "  us_equities_close[ticker] = data['Adj Close']\n"
     ]
    },
    {
     "name": "stdout",
     "output_type": "stream",
     "text": [
      "[*********************100%***********************]  1 of 1 completed\n"
     ]
    },
    {
     "name": "stderr",
     "output_type": "stream",
     "text": [
      "C:\\Users\\patel_223gv41\\AppData\\Local\\Temp\\ipykernel_10348\\3310917388.py:7: PerformanceWarning: DataFrame is highly fragmented.  This is usually the result of calling `frame.insert` many times, which has poor performance.  Consider joining all columns at once using pd.concat(axis=1) instead. To get a de-fragmented frame, use `newframe = frame.copy()`\n",
      "  us_equities_close[ticker] = data['Adj Close']\n"
     ]
    },
    {
     "name": "stdout",
     "output_type": "stream",
     "text": [
      "[*********************100%***********************]  1 of 1 completed\n"
     ]
    },
    {
     "name": "stderr",
     "output_type": "stream",
     "text": [
      "C:\\Users\\patel_223gv41\\AppData\\Local\\Temp\\ipykernel_10348\\3310917388.py:7: PerformanceWarning: DataFrame is highly fragmented.  This is usually the result of calling `frame.insert` many times, which has poor performance.  Consider joining all columns at once using pd.concat(axis=1) instead. To get a de-fragmented frame, use `newframe = frame.copy()`\n",
      "  us_equities_close[ticker] = data['Adj Close']\n"
     ]
    },
    {
     "name": "stdout",
     "output_type": "stream",
     "text": [
      "[*********************100%***********************]  1 of 1 completed\n"
     ]
    },
    {
     "name": "stderr",
     "output_type": "stream",
     "text": [
      "C:\\Users\\patel_223gv41\\AppData\\Local\\Temp\\ipykernel_10348\\3310917388.py:7: PerformanceWarning: DataFrame is highly fragmented.  This is usually the result of calling `frame.insert` many times, which has poor performance.  Consider joining all columns at once using pd.concat(axis=1) instead. To get a de-fragmented frame, use `newframe = frame.copy()`\n",
      "  us_equities_close[ticker] = data['Adj Close']\n"
     ]
    },
    {
     "name": "stdout",
     "output_type": "stream",
     "text": [
      "[*********************100%***********************]  1 of 1 completed\n"
     ]
    },
    {
     "name": "stderr",
     "output_type": "stream",
     "text": [
      "C:\\Users\\patel_223gv41\\AppData\\Local\\Temp\\ipykernel_10348\\3310917388.py:7: PerformanceWarning: DataFrame is highly fragmented.  This is usually the result of calling `frame.insert` many times, which has poor performance.  Consider joining all columns at once using pd.concat(axis=1) instead. To get a de-fragmented frame, use `newframe = frame.copy()`\n",
      "  us_equities_close[ticker] = data['Adj Close']\n"
     ]
    },
    {
     "name": "stdout",
     "output_type": "stream",
     "text": [
      "[*********************100%***********************]  1 of 1 completed\n"
     ]
    },
    {
     "name": "stderr",
     "output_type": "stream",
     "text": [
      "C:\\Users\\patel_223gv41\\AppData\\Local\\Temp\\ipykernel_10348\\3310917388.py:7: PerformanceWarning: DataFrame is highly fragmented.  This is usually the result of calling `frame.insert` many times, which has poor performance.  Consider joining all columns at once using pd.concat(axis=1) instead. To get a de-fragmented frame, use `newframe = frame.copy()`\n",
      "  us_equities_close[ticker] = data['Adj Close']\n"
     ]
    },
    {
     "name": "stdout",
     "output_type": "stream",
     "text": [
      "[*********************100%***********************]  1 of 1 completed\n",
      "[*********************100%***********************]  1 of 1 completed"
     ]
    },
    {
     "name": "stderr",
     "output_type": "stream",
     "text": [
      "C:\\Users\\patel_223gv41\\AppData\\Local\\Temp\\ipykernel_10348\\3310917388.py:7: PerformanceWarning: DataFrame is highly fragmented.  This is usually the result of calling `frame.insert` many times, which has poor performance.  Consider joining all columns at once using pd.concat(axis=1) instead. To get a de-fragmented frame, use `newframe = frame.copy()`\n",
      "  us_equities_close[ticker] = data['Adj Close']\n"
     ]
    },
    {
     "name": "stdout",
     "output_type": "stream",
     "text": [
      "\n"
     ]
    },
    {
     "name": "stderr",
     "output_type": "stream",
     "text": [
      "C:\\Users\\patel_223gv41\\AppData\\Local\\Temp\\ipykernel_10348\\3310917388.py:7: PerformanceWarning: DataFrame is highly fragmented.  This is usually the result of calling `frame.insert` many times, which has poor performance.  Consider joining all columns at once using pd.concat(axis=1) instead. To get a de-fragmented frame, use `newframe = frame.copy()`\n",
      "  us_equities_close[ticker] = data['Adj Close']\n"
     ]
    },
    {
     "name": "stdout",
     "output_type": "stream",
     "text": [
      "[*********************100%***********************]  1 of 1 completed\n"
     ]
    },
    {
     "name": "stderr",
     "output_type": "stream",
     "text": [
      "C:\\Users\\patel_223gv41\\AppData\\Local\\Temp\\ipykernel_10348\\3310917388.py:7: PerformanceWarning: DataFrame is highly fragmented.  This is usually the result of calling `frame.insert` many times, which has poor performance.  Consider joining all columns at once using pd.concat(axis=1) instead. To get a de-fragmented frame, use `newframe = frame.copy()`\n",
      "  us_equities_close[ticker] = data['Adj Close']\n"
     ]
    },
    {
     "name": "stdout",
     "output_type": "stream",
     "text": [
      "[*********************100%***********************]  1 of 1 completed\n",
      "[*********************100%***********************]  1 of 1 completed"
     ]
    },
    {
     "name": "stderr",
     "output_type": "stream",
     "text": [
      "C:\\Users\\patel_223gv41\\AppData\\Local\\Temp\\ipykernel_10348\\3310917388.py:7: PerformanceWarning: DataFrame is highly fragmented.  This is usually the result of calling `frame.insert` many times, which has poor performance.  Consider joining all columns at once using pd.concat(axis=1) instead. To get a de-fragmented frame, use `newframe = frame.copy()`\n",
      "  us_equities_close[ticker] = data['Adj Close']\n",
      "C:\\Users\\patel_223gv41\\AppData\\Local\\Temp\\ipykernel_10348\\3310917388.py:7: PerformanceWarning: DataFrame is highly fragmented.  This is usually the result of calling `frame.insert` many times, which has poor performance.  Consider joining all columns at once using pd.concat(axis=1) instead. To get a de-fragmented frame, use `newframe = frame.copy()`\n",
      "  us_equities_close[ticker] = data['Adj Close']\n"
     ]
    },
    {
     "name": "stdout",
     "output_type": "stream",
     "text": [
      "\n",
      "[*********************100%***********************]  1 of 1 completed\n"
     ]
    },
    {
     "name": "stderr",
     "output_type": "stream",
     "text": [
      "C:\\Users\\patel_223gv41\\AppData\\Local\\Temp\\ipykernel_10348\\3310917388.py:7: PerformanceWarning: DataFrame is highly fragmented.  This is usually the result of calling `frame.insert` many times, which has poor performance.  Consider joining all columns at once using pd.concat(axis=1) instead. To get a de-fragmented frame, use `newframe = frame.copy()`\n",
      "  us_equities_close[ticker] = data['Adj Close']\n"
     ]
    },
    {
     "name": "stdout",
     "output_type": "stream",
     "text": [
      "[*********************100%***********************]  1 of 1 completed\n"
     ]
    },
    {
     "name": "stderr",
     "output_type": "stream",
     "text": [
      "C:\\Users\\patel_223gv41\\AppData\\Local\\Temp\\ipykernel_10348\\3310917388.py:7: PerformanceWarning: DataFrame is highly fragmented.  This is usually the result of calling `frame.insert` many times, which has poor performance.  Consider joining all columns at once using pd.concat(axis=1) instead. To get a de-fragmented frame, use `newframe = frame.copy()`\n",
      "  us_equities_close[ticker] = data['Adj Close']\n"
     ]
    },
    {
     "name": "stdout",
     "output_type": "stream",
     "text": [
      "[*********************100%***********************]  1 of 1 completed\n"
     ]
    },
    {
     "name": "stderr",
     "output_type": "stream",
     "text": [
      "C:\\Users\\patel_223gv41\\AppData\\Local\\Temp\\ipykernel_10348\\3310917388.py:7: PerformanceWarning: DataFrame is highly fragmented.  This is usually the result of calling `frame.insert` many times, which has poor performance.  Consider joining all columns at once using pd.concat(axis=1) instead. To get a de-fragmented frame, use `newframe = frame.copy()`\n",
      "  us_equities_close[ticker] = data['Adj Close']\n"
     ]
    },
    {
     "name": "stdout",
     "output_type": "stream",
     "text": [
      "[*********************100%***********************]  1 of 1 completed\n",
      "[*********************100%***********************]  1 of 1 completed"
     ]
    },
    {
     "name": "stderr",
     "output_type": "stream",
     "text": [
      "C:\\Users\\patel_223gv41\\AppData\\Local\\Temp\\ipykernel_10348\\3310917388.py:7: PerformanceWarning: DataFrame is highly fragmented.  This is usually the result of calling `frame.insert` many times, which has poor performance.  Consider joining all columns at once using pd.concat(axis=1) instead. To get a de-fragmented frame, use `newframe = frame.copy()`\n",
      "  us_equities_close[ticker] = data['Adj Close']\n"
     ]
    },
    {
     "name": "stdout",
     "output_type": "stream",
     "text": [
      "\n",
      "[*********************100%***********************]  1 of 1 completed"
     ]
    },
    {
     "name": "stderr",
     "output_type": "stream",
     "text": [
      "C:\\Users\\patel_223gv41\\AppData\\Local\\Temp\\ipykernel_10348\\3310917388.py:7: PerformanceWarning: DataFrame is highly fragmented.  This is usually the result of calling `frame.insert` many times, which has poor performance.  Consider joining all columns at once using pd.concat(axis=1) instead. To get a de-fragmented frame, use `newframe = frame.copy()`\n",
      "  us_equities_close[ticker] = data['Adj Close']\n"
     ]
    },
    {
     "name": "stdout",
     "output_type": "stream",
     "text": [
      "\n"
     ]
    },
    {
     "name": "stderr",
     "output_type": "stream",
     "text": [
      "C:\\Users\\patel_223gv41\\AppData\\Local\\Temp\\ipykernel_10348\\3310917388.py:7: PerformanceWarning: DataFrame is highly fragmented.  This is usually the result of calling `frame.insert` many times, which has poor performance.  Consider joining all columns at once using pd.concat(axis=1) instead. To get a de-fragmented frame, use `newframe = frame.copy()`\n",
      "  us_equities_close[ticker] = data['Adj Close']\n"
     ]
    },
    {
     "name": "stdout",
     "output_type": "stream",
     "text": [
      "[*********************100%***********************]  1 of 1 completed\n"
     ]
    },
    {
     "name": "stderr",
     "output_type": "stream",
     "text": [
      "C:\\Users\\patel_223gv41\\AppData\\Local\\Temp\\ipykernel_10348\\3310917388.py:7: PerformanceWarning: DataFrame is highly fragmented.  This is usually the result of calling `frame.insert` many times, which has poor performance.  Consider joining all columns at once using pd.concat(axis=1) instead. To get a de-fragmented frame, use `newframe = frame.copy()`\n",
      "  us_equities_close[ticker] = data['Adj Close']\n"
     ]
    },
    {
     "name": "stdout",
     "output_type": "stream",
     "text": [
      "[*********************100%***********************]  1 of 1 completed\n"
     ]
    },
    {
     "name": "stderr",
     "output_type": "stream",
     "text": [
      "C:\\Users\\patel_223gv41\\AppData\\Local\\Temp\\ipykernel_10348\\3310917388.py:7: PerformanceWarning: DataFrame is highly fragmented.  This is usually the result of calling `frame.insert` many times, which has poor performance.  Consider joining all columns at once using pd.concat(axis=1) instead. To get a de-fragmented frame, use `newframe = frame.copy()`\n",
      "  us_equities_close[ticker] = data['Adj Close']\n"
     ]
    },
    {
     "name": "stdout",
     "output_type": "stream",
     "text": [
      "[*********************100%***********************]  1 of 1 completed\n"
     ]
    },
    {
     "name": "stderr",
     "output_type": "stream",
     "text": [
      "C:\\Users\\patel_223gv41\\AppData\\Local\\Temp\\ipykernel_10348\\3310917388.py:7: PerformanceWarning: DataFrame is highly fragmented.  This is usually the result of calling `frame.insert` many times, which has poor performance.  Consider joining all columns at once using pd.concat(axis=1) instead. To get a de-fragmented frame, use `newframe = frame.copy()`\n",
      "  us_equities_close[ticker] = data['Adj Close']\n"
     ]
    },
    {
     "name": "stdout",
     "output_type": "stream",
     "text": [
      "[*********************100%***********************]  1 of 1 completed\n"
     ]
    },
    {
     "name": "stderr",
     "output_type": "stream",
     "text": [
      "C:\\Users\\patel_223gv41\\AppData\\Local\\Temp\\ipykernel_10348\\3310917388.py:7: PerformanceWarning: DataFrame is highly fragmented.  This is usually the result of calling `frame.insert` many times, which has poor performance.  Consider joining all columns at once using pd.concat(axis=1) instead. To get a de-fragmented frame, use `newframe = frame.copy()`\n",
      "  us_equities_close[ticker] = data['Adj Close']\n"
     ]
    },
    {
     "name": "stdout",
     "output_type": "stream",
     "text": [
      "[*********************100%***********************]  1 of 1 completed\n",
      "[*********************100%***********************]  1 of 1 completed"
     ]
    },
    {
     "name": "stderr",
     "output_type": "stream",
     "text": [
      "C:\\Users\\patel_223gv41\\AppData\\Local\\Temp\\ipykernel_10348\\3310917388.py:7: PerformanceWarning: DataFrame is highly fragmented.  This is usually the result of calling `frame.insert` many times, which has poor performance.  Consider joining all columns at once using pd.concat(axis=1) instead. To get a de-fragmented frame, use `newframe = frame.copy()`\n",
      "  us_equities_close[ticker] = data['Adj Close']\n",
      "C:\\Users\\patel_223gv41\\AppData\\Local\\Temp\\ipykernel_10348\\3310917388.py:7: PerformanceWarning: DataFrame is highly fragmented.  This is usually the result of calling `frame.insert` many times, which has poor performance.  Consider joining all columns at once using pd.concat(axis=1) instead. To get a de-fragmented frame, use `newframe = frame.copy()`\n",
      "  us_equities_close[ticker] = data['Adj Close']\n"
     ]
    },
    {
     "name": "stdout",
     "output_type": "stream",
     "text": [
      "\n",
      "[*********************100%***********************]  1 of 1 completed\n",
      "[*********************100%***********************]  1 of 1 completed"
     ]
    },
    {
     "name": "stderr",
     "output_type": "stream",
     "text": [
      "C:\\Users\\patel_223gv41\\AppData\\Local\\Temp\\ipykernel_10348\\3310917388.py:7: PerformanceWarning: DataFrame is highly fragmented.  This is usually the result of calling `frame.insert` many times, which has poor performance.  Consider joining all columns at once using pd.concat(axis=1) instead. To get a de-fragmented frame, use `newframe = frame.copy()`\n",
      "  us_equities_close[ticker] = data['Adj Close']\n"
     ]
    },
    {
     "name": "stdout",
     "output_type": "stream",
     "text": [
      "\n"
     ]
    },
    {
     "name": "stderr",
     "output_type": "stream",
     "text": [
      "C:\\Users\\patel_223gv41\\AppData\\Local\\Temp\\ipykernel_10348\\3310917388.py:7: PerformanceWarning: DataFrame is highly fragmented.  This is usually the result of calling `frame.insert` many times, which has poor performance.  Consider joining all columns at once using pd.concat(axis=1) instead. To get a de-fragmented frame, use `newframe = frame.copy()`\n",
      "  us_equities_close[ticker] = data['Adj Close']\n"
     ]
    },
    {
     "name": "stdout",
     "output_type": "stream",
     "text": [
      "[*********************100%***********************]  1 of 1 completed\n"
     ]
    },
    {
     "name": "stderr",
     "output_type": "stream",
     "text": [
      "C:\\Users\\patel_223gv41\\AppData\\Local\\Temp\\ipykernel_10348\\3310917388.py:7: PerformanceWarning: DataFrame is highly fragmented.  This is usually the result of calling `frame.insert` many times, which has poor performance.  Consider joining all columns at once using pd.concat(axis=1) instead. To get a de-fragmented frame, use `newframe = frame.copy()`\n",
      "  us_equities_close[ticker] = data['Adj Close']\n"
     ]
    },
    {
     "name": "stdout",
     "output_type": "stream",
     "text": [
      "[*********************100%***********************]  1 of 1 completed\n"
     ]
    },
    {
     "name": "stderr",
     "output_type": "stream",
     "text": [
      "C:\\Users\\patel_223gv41\\AppData\\Local\\Temp\\ipykernel_10348\\3310917388.py:7: PerformanceWarning: DataFrame is highly fragmented.  This is usually the result of calling `frame.insert` many times, which has poor performance.  Consider joining all columns at once using pd.concat(axis=1) instead. To get a de-fragmented frame, use `newframe = frame.copy()`\n",
      "  us_equities_close[ticker] = data['Adj Close']\n"
     ]
    },
    {
     "name": "stdout",
     "output_type": "stream",
     "text": [
      "[*********************100%***********************]  1 of 1 completed\n"
     ]
    },
    {
     "name": "stderr",
     "output_type": "stream",
     "text": [
      "C:\\Users\\patel_223gv41\\AppData\\Local\\Temp\\ipykernel_10348\\3310917388.py:7: PerformanceWarning: DataFrame is highly fragmented.  This is usually the result of calling `frame.insert` many times, which has poor performance.  Consider joining all columns at once using pd.concat(axis=1) instead. To get a de-fragmented frame, use `newframe = frame.copy()`\n",
      "  us_equities_close[ticker] = data['Adj Close']\n"
     ]
    },
    {
     "name": "stdout",
     "output_type": "stream",
     "text": [
      "[*********************100%***********************]  1 of 1 completed\n"
     ]
    },
    {
     "name": "stderr",
     "output_type": "stream",
     "text": [
      "C:\\Users\\patel_223gv41\\AppData\\Local\\Temp\\ipykernel_10348\\3310917388.py:7: PerformanceWarning: DataFrame is highly fragmented.  This is usually the result of calling `frame.insert` many times, which has poor performance.  Consider joining all columns at once using pd.concat(axis=1) instead. To get a de-fragmented frame, use `newframe = frame.copy()`\n",
      "  us_equities_close[ticker] = data['Adj Close']\n"
     ]
    },
    {
     "name": "stdout",
     "output_type": "stream",
     "text": [
      "[*********************100%***********************]  1 of 1 completed\n"
     ]
    },
    {
     "name": "stderr",
     "output_type": "stream",
     "text": [
      "C:\\Users\\patel_223gv41\\AppData\\Local\\Temp\\ipykernel_10348\\3310917388.py:7: PerformanceWarning: DataFrame is highly fragmented.  This is usually the result of calling `frame.insert` many times, which has poor performance.  Consider joining all columns at once using pd.concat(axis=1) instead. To get a de-fragmented frame, use `newframe = frame.copy()`\n",
      "  us_equities_close[ticker] = data['Adj Close']\n"
     ]
    },
    {
     "name": "stdout",
     "output_type": "stream",
     "text": [
      "[*********************100%***********************]  1 of 1 completed\n",
      "[*********************100%***********************]  1 of 1 completed"
     ]
    },
    {
     "name": "stderr",
     "output_type": "stream",
     "text": [
      "C:\\Users\\patel_223gv41\\AppData\\Local\\Temp\\ipykernel_10348\\3310917388.py:7: PerformanceWarning: DataFrame is highly fragmented.  This is usually the result of calling `frame.insert` many times, which has poor performance.  Consider joining all columns at once using pd.concat(axis=1) instead. To get a de-fragmented frame, use `newframe = frame.copy()`\n",
      "  us_equities_close[ticker] = data['Adj Close']\n",
      "C:\\Users\\patel_223gv41\\AppData\\Local\\Temp\\ipykernel_10348\\3310917388.py:7: PerformanceWarning: DataFrame is highly fragmented.  This is usually the result of calling `frame.insert` many times, which has poor performance.  Consider joining all columns at once using pd.concat(axis=1) instead. To get a de-fragmented frame, use `newframe = frame.copy()`\n",
      "  us_equities_close[ticker] = data['Adj Close']\n"
     ]
    },
    {
     "name": "stdout",
     "output_type": "stream",
     "text": [
      "\n",
      "[*********************100%***********************]  1 of 1 completed\n",
      "[*********************100%***********************]  1 of 1 completed"
     ]
    },
    {
     "name": "stderr",
     "output_type": "stream",
     "text": [
      "C:\\Users\\patel_223gv41\\AppData\\Local\\Temp\\ipykernel_10348\\3310917388.py:7: PerformanceWarning: DataFrame is highly fragmented.  This is usually the result of calling `frame.insert` many times, which has poor performance.  Consider joining all columns at once using pd.concat(axis=1) instead. To get a de-fragmented frame, use `newframe = frame.copy()`\n",
      "  us_equities_close[ticker] = data['Adj Close']\n",
      "C:\\Users\\patel_223gv41\\AppData\\Local\\Temp\\ipykernel_10348\\3310917388.py:7: PerformanceWarning: DataFrame is highly fragmented.  This is usually the result of calling `frame.insert` many times, which has poor performance.  Consider joining all columns at once using pd.concat(axis=1) instead. To get a de-fragmented frame, use `newframe = frame.copy()`\n",
      "  us_equities_close[ticker] = data['Adj Close']\n"
     ]
    },
    {
     "name": "stdout",
     "output_type": "stream",
     "text": [
      "\n",
      "[*********************100%***********************]  1 of 1 completed\n"
     ]
    },
    {
     "name": "stderr",
     "output_type": "stream",
     "text": [
      "C:\\Users\\patel_223gv41\\AppData\\Local\\Temp\\ipykernel_10348\\3310917388.py:7: PerformanceWarning: DataFrame is highly fragmented.  This is usually the result of calling `frame.insert` many times, which has poor performance.  Consider joining all columns at once using pd.concat(axis=1) instead. To get a de-fragmented frame, use `newframe = frame.copy()`\n",
      "  us_equities_close[ticker] = data['Adj Close']\n"
     ]
    },
    {
     "name": "stdout",
     "output_type": "stream",
     "text": [
      "[*********************100%***********************]  1 of 1 completed\n"
     ]
    },
    {
     "name": "stderr",
     "output_type": "stream",
     "text": [
      "C:\\Users\\patel_223gv41\\AppData\\Local\\Temp\\ipykernel_10348\\3310917388.py:7: PerformanceWarning: DataFrame is highly fragmented.  This is usually the result of calling `frame.insert` many times, which has poor performance.  Consider joining all columns at once using pd.concat(axis=1) instead. To get a de-fragmented frame, use `newframe = frame.copy()`\n",
      "  us_equities_close[ticker] = data['Adj Close']\n"
     ]
    },
    {
     "name": "stdout",
     "output_type": "stream",
     "text": [
      "[*********************100%***********************]  1 of 1 completed\n",
      "[*********************100%***********************]  1 of 1 completed\n"
     ]
    },
    {
     "name": "stderr",
     "output_type": "stream",
     "text": [
      "C:\\Users\\patel_223gv41\\AppData\\Local\\Temp\\ipykernel_10348\\3310917388.py:7: PerformanceWarning: DataFrame is highly fragmented.  This is usually the result of calling `frame.insert` many times, which has poor performance.  Consider joining all columns at once using pd.concat(axis=1) instead. To get a de-fragmented frame, use `newframe = frame.copy()`\n",
      "  us_equities_close[ticker] = data['Adj Close']\n",
      "C:\\Users\\patel_223gv41\\AppData\\Local\\Temp\\ipykernel_10348\\3310917388.py:7: PerformanceWarning: DataFrame is highly fragmented.  This is usually the result of calling `frame.insert` many times, which has poor performance.  Consider joining all columns at once using pd.concat(axis=1) instead. To get a de-fragmented frame, use `newframe = frame.copy()`\n",
      "  us_equities_close[ticker] = data['Adj Close']\n"
     ]
    },
    {
     "name": "stdout",
     "output_type": "stream",
     "text": [
      "[*********************100%***********************]  1 of 1 completed\n"
     ]
    },
    {
     "name": "stderr",
     "output_type": "stream",
     "text": [
      "C:\\Users\\patel_223gv41\\AppData\\Local\\Temp\\ipykernel_10348\\3310917388.py:7: PerformanceWarning: DataFrame is highly fragmented.  This is usually the result of calling `frame.insert` many times, which has poor performance.  Consider joining all columns at once using pd.concat(axis=1) instead. To get a de-fragmented frame, use `newframe = frame.copy()`\n",
      "  us_equities_close[ticker] = data['Adj Close']\n"
     ]
    },
    {
     "name": "stdout",
     "output_type": "stream",
     "text": [
      "[*********************100%***********************]  1 of 1 completed\n"
     ]
    },
    {
     "name": "stderr",
     "output_type": "stream",
     "text": [
      "C:\\Users\\patel_223gv41\\AppData\\Local\\Temp\\ipykernel_10348\\3310917388.py:7: PerformanceWarning: DataFrame is highly fragmented.  This is usually the result of calling `frame.insert` many times, which has poor performance.  Consider joining all columns at once using pd.concat(axis=1) instead. To get a de-fragmented frame, use `newframe = frame.copy()`\n",
      "  us_equities_close[ticker] = data['Adj Close']\n"
     ]
    },
    {
     "name": "stdout",
     "output_type": "stream",
     "text": [
      "[*********************100%***********************]  1 of 1 completed\n"
     ]
    },
    {
     "name": "stderr",
     "output_type": "stream",
     "text": [
      "C:\\Users\\patel_223gv41\\AppData\\Local\\Temp\\ipykernel_10348\\3310917388.py:7: PerformanceWarning: DataFrame is highly fragmented.  This is usually the result of calling `frame.insert` many times, which has poor performance.  Consider joining all columns at once using pd.concat(axis=1) instead. To get a de-fragmented frame, use `newframe = frame.copy()`\n",
      "  us_equities_close[ticker] = data['Adj Close']\n"
     ]
    },
    {
     "name": "stdout",
     "output_type": "stream",
     "text": [
      "[*********************100%***********************]  1 of 1 completed\n",
      "[*********************100%***********************]  1 of 1 completed"
     ]
    },
    {
     "name": "stderr",
     "output_type": "stream",
     "text": [
      "C:\\Users\\patel_223gv41\\AppData\\Local\\Temp\\ipykernel_10348\\3310917388.py:7: PerformanceWarning: DataFrame is highly fragmented.  This is usually the result of calling `frame.insert` many times, which has poor performance.  Consider joining all columns at once using pd.concat(axis=1) instead. To get a de-fragmented frame, use `newframe = frame.copy()`\n",
      "  us_equities_close[ticker] = data['Adj Close']\n"
     ]
    },
    {
     "name": "stdout",
     "output_type": "stream",
     "text": [
      "\n"
     ]
    },
    {
     "name": "stderr",
     "output_type": "stream",
     "text": [
      "C:\\Users\\patel_223gv41\\AppData\\Local\\Temp\\ipykernel_10348\\3310917388.py:7: PerformanceWarning: DataFrame is highly fragmented.  This is usually the result of calling `frame.insert` many times, which has poor performance.  Consider joining all columns at once using pd.concat(axis=1) instead. To get a de-fragmented frame, use `newframe = frame.copy()`\n",
      "  us_equities_close[ticker] = data['Adj Close']\n"
     ]
    },
    {
     "name": "stdout",
     "output_type": "stream",
     "text": [
      "[*********************100%***********************]  1 of 1 completed\n"
     ]
    },
    {
     "name": "stderr",
     "output_type": "stream",
     "text": [
      "C:\\Users\\patel_223gv41\\AppData\\Local\\Temp\\ipykernel_10348\\3310917388.py:7: PerformanceWarning: DataFrame is highly fragmented.  This is usually the result of calling `frame.insert` many times, which has poor performance.  Consider joining all columns at once using pd.concat(axis=1) instead. To get a de-fragmented frame, use `newframe = frame.copy()`\n",
      "  us_equities_close[ticker] = data['Adj Close']\n"
     ]
    },
    {
     "name": "stdout",
     "output_type": "stream",
     "text": [
      "[*********************100%***********************]  1 of 1 completed\n"
     ]
    },
    {
     "name": "stderr",
     "output_type": "stream",
     "text": [
      "C:\\Users\\patel_223gv41\\AppData\\Local\\Temp\\ipykernel_10348\\3310917388.py:7: PerformanceWarning: DataFrame is highly fragmented.  This is usually the result of calling `frame.insert` many times, which has poor performance.  Consider joining all columns at once using pd.concat(axis=1) instead. To get a de-fragmented frame, use `newframe = frame.copy()`\n",
      "  us_equities_close[ticker] = data['Adj Close']\n"
     ]
    },
    {
     "name": "stdout",
     "output_type": "stream",
     "text": [
      "[*********************100%***********************]  1 of 1 completed\n",
      "[*********************100%***********************]  1 of 1 completed"
     ]
    },
    {
     "name": "stderr",
     "output_type": "stream",
     "text": [
      "C:\\Users\\patel_223gv41\\AppData\\Local\\Temp\\ipykernel_10348\\3310917388.py:7: PerformanceWarning: DataFrame is highly fragmented.  This is usually the result of calling `frame.insert` many times, which has poor performance.  Consider joining all columns at once using pd.concat(axis=1) instead. To get a de-fragmented frame, use `newframe = frame.copy()`\n",
      "  us_equities_close[ticker] = data['Adj Close']\n",
      "C:\\Users\\patel_223gv41\\AppData\\Local\\Temp\\ipykernel_10348\\3310917388.py:7: PerformanceWarning: DataFrame is highly fragmented.  This is usually the result of calling `frame.insert` many times, which has poor performance.  Consider joining all columns at once using pd.concat(axis=1) instead. To get a de-fragmented frame, use `newframe = frame.copy()`\n",
      "  us_equities_close[ticker] = data['Adj Close']\n"
     ]
    },
    {
     "name": "stdout",
     "output_type": "stream",
     "text": [
      "\n",
      "[*********************100%***********************]  1 of 1 completed\n"
     ]
    },
    {
     "name": "stderr",
     "output_type": "stream",
     "text": [
      "C:\\Users\\patel_223gv41\\AppData\\Local\\Temp\\ipykernel_10348\\3310917388.py:7: PerformanceWarning: DataFrame is highly fragmented.  This is usually the result of calling `frame.insert` many times, which has poor performance.  Consider joining all columns at once using pd.concat(axis=1) instead. To get a de-fragmented frame, use `newframe = frame.copy()`\n",
      "  us_equities_close[ticker] = data['Adj Close']\n"
     ]
    },
    {
     "name": "stdout",
     "output_type": "stream",
     "text": [
      "[*********************100%***********************]  1 of 1 completed\n"
     ]
    },
    {
     "name": "stderr",
     "output_type": "stream",
     "text": [
      "C:\\Users\\patel_223gv41\\AppData\\Local\\Temp\\ipykernel_10348\\3310917388.py:7: PerformanceWarning: DataFrame is highly fragmented.  This is usually the result of calling `frame.insert` many times, which has poor performance.  Consider joining all columns at once using pd.concat(axis=1) instead. To get a de-fragmented frame, use `newframe = frame.copy()`\n",
      "  us_equities_close[ticker] = data['Adj Close']\n"
     ]
    },
    {
     "name": "stdout",
     "output_type": "stream",
     "text": [
      "[*********************100%***********************]  1 of 1 completed\n"
     ]
    },
    {
     "name": "stderr",
     "output_type": "stream",
     "text": [
      "C:\\Users\\patel_223gv41\\AppData\\Local\\Temp\\ipykernel_10348\\3310917388.py:7: PerformanceWarning: DataFrame is highly fragmented.  This is usually the result of calling `frame.insert` many times, which has poor performance.  Consider joining all columns at once using pd.concat(axis=1) instead. To get a de-fragmented frame, use `newframe = frame.copy()`\n",
      "  us_equities_close[ticker] = data['Adj Close']\n"
     ]
    },
    {
     "name": "stdout",
     "output_type": "stream",
     "text": [
      "[*********************100%***********************]  1 of 1 completed\n"
     ]
    },
    {
     "name": "stderr",
     "output_type": "stream",
     "text": [
      "C:\\Users\\patel_223gv41\\AppData\\Local\\Temp\\ipykernel_10348\\3310917388.py:7: PerformanceWarning: DataFrame is highly fragmented.  This is usually the result of calling `frame.insert` many times, which has poor performance.  Consider joining all columns at once using pd.concat(axis=1) instead. To get a de-fragmented frame, use `newframe = frame.copy()`\n",
      "  us_equities_close[ticker] = data['Adj Close']\n"
     ]
    },
    {
     "name": "stdout",
     "output_type": "stream",
     "text": [
      "[*********************100%***********************]  1 of 1 completed\n",
      "[*********************100%***********************]  1 of 1 completed"
     ]
    },
    {
     "name": "stderr",
     "output_type": "stream",
     "text": [
      "C:\\Users\\patel_223gv41\\AppData\\Local\\Temp\\ipykernel_10348\\3310917388.py:7: PerformanceWarning: DataFrame is highly fragmented.  This is usually the result of calling `frame.insert` many times, which has poor performance.  Consider joining all columns at once using pd.concat(axis=1) instead. To get a de-fragmented frame, use `newframe = frame.copy()`\n",
      "  us_equities_close[ticker] = data['Adj Close']\n"
     ]
    },
    {
     "name": "stdout",
     "output_type": "stream",
     "text": [
      "\n"
     ]
    },
    {
     "name": "stderr",
     "output_type": "stream",
     "text": [
      "C:\\Users\\patel_223gv41\\AppData\\Local\\Temp\\ipykernel_10348\\3310917388.py:7: PerformanceWarning: DataFrame is highly fragmented.  This is usually the result of calling `frame.insert` many times, which has poor performance.  Consider joining all columns at once using pd.concat(axis=1) instead. To get a de-fragmented frame, use `newframe = frame.copy()`\n",
      "  us_equities_close[ticker] = data['Adj Close']\n"
     ]
    },
    {
     "name": "stdout",
     "output_type": "stream",
     "text": [
      "[*********************100%***********************]  1 of 1 completed\n"
     ]
    },
    {
     "name": "stderr",
     "output_type": "stream",
     "text": [
      "C:\\Users\\patel_223gv41\\AppData\\Local\\Temp\\ipykernel_10348\\3310917388.py:7: PerformanceWarning: DataFrame is highly fragmented.  This is usually the result of calling `frame.insert` many times, which has poor performance.  Consider joining all columns at once using pd.concat(axis=1) instead. To get a de-fragmented frame, use `newframe = frame.copy()`\n",
      "  us_equities_close[ticker] = data['Adj Close']\n"
     ]
    },
    {
     "name": "stdout",
     "output_type": "stream",
     "text": [
      "[*********************100%***********************]  1 of 1 completed\n"
     ]
    },
    {
     "name": "stderr",
     "output_type": "stream",
     "text": [
      "C:\\Users\\patel_223gv41\\AppData\\Local\\Temp\\ipykernel_10348\\3310917388.py:7: PerformanceWarning: DataFrame is highly fragmented.  This is usually the result of calling `frame.insert` many times, which has poor performance.  Consider joining all columns at once using pd.concat(axis=1) instead. To get a de-fragmented frame, use `newframe = frame.copy()`\n",
      "  us_equities_close[ticker] = data['Adj Close']\n"
     ]
    },
    {
     "name": "stdout",
     "output_type": "stream",
     "text": [
      "[*********************100%***********************]  1 of 1 completed\n"
     ]
    },
    {
     "name": "stderr",
     "output_type": "stream",
     "text": [
      "C:\\Users\\patel_223gv41\\AppData\\Local\\Temp\\ipykernel_10348\\3310917388.py:7: PerformanceWarning: DataFrame is highly fragmented.  This is usually the result of calling `frame.insert` many times, which has poor performance.  Consider joining all columns at once using pd.concat(axis=1) instead. To get a de-fragmented frame, use `newframe = frame.copy()`\n",
      "  us_equities_close[ticker] = data['Adj Close']\n"
     ]
    },
    {
     "name": "stdout",
     "output_type": "stream",
     "text": [
      "[*********************100%***********************]  1 of 1 completed\n"
     ]
    },
    {
     "name": "stderr",
     "output_type": "stream",
     "text": [
      "C:\\Users\\patel_223gv41\\AppData\\Local\\Temp\\ipykernel_10348\\3310917388.py:7: PerformanceWarning: DataFrame is highly fragmented.  This is usually the result of calling `frame.insert` many times, which has poor performance.  Consider joining all columns at once using pd.concat(axis=1) instead. To get a de-fragmented frame, use `newframe = frame.copy()`\n",
      "  us_equities_close[ticker] = data['Adj Close']\n"
     ]
    },
    {
     "name": "stdout",
     "output_type": "stream",
     "text": [
      "[*********************100%***********************]  1 of 1 completed\n"
     ]
    },
    {
     "name": "stderr",
     "output_type": "stream",
     "text": [
      "C:\\Users\\patel_223gv41\\AppData\\Local\\Temp\\ipykernel_10348\\3310917388.py:7: PerformanceWarning: DataFrame is highly fragmented.  This is usually the result of calling `frame.insert` many times, which has poor performance.  Consider joining all columns at once using pd.concat(axis=1) instead. To get a de-fragmented frame, use `newframe = frame.copy()`\n",
      "  us_equities_close[ticker] = data['Adj Close']\n"
     ]
    },
    {
     "name": "stdout",
     "output_type": "stream",
     "text": [
      "[*********************100%***********************]  1 of 1 completed\n"
     ]
    },
    {
     "name": "stderr",
     "output_type": "stream",
     "text": [
      "C:\\Users\\patel_223gv41\\AppData\\Local\\Temp\\ipykernel_10348\\3310917388.py:7: PerformanceWarning: DataFrame is highly fragmented.  This is usually the result of calling `frame.insert` many times, which has poor performance.  Consider joining all columns at once using pd.concat(axis=1) instead. To get a de-fragmented frame, use `newframe = frame.copy()`\n",
      "  us_equities_close[ticker] = data['Adj Close']\n"
     ]
    },
    {
     "name": "stdout",
     "output_type": "stream",
     "text": [
      "[*********************100%***********************]  1 of 1 completed\n"
     ]
    },
    {
     "name": "stderr",
     "output_type": "stream",
     "text": [
      "C:\\Users\\patel_223gv41\\AppData\\Local\\Temp\\ipykernel_10348\\3310917388.py:7: PerformanceWarning: DataFrame is highly fragmented.  This is usually the result of calling `frame.insert` many times, which has poor performance.  Consider joining all columns at once using pd.concat(axis=1) instead. To get a de-fragmented frame, use `newframe = frame.copy()`\n",
      "  us_equities_close[ticker] = data['Adj Close']\n"
     ]
    },
    {
     "name": "stdout",
     "output_type": "stream",
     "text": [
      "[*********************100%***********************]  1 of 1 completed\n"
     ]
    },
    {
     "name": "stderr",
     "output_type": "stream",
     "text": [
      "C:\\Users\\patel_223gv41\\AppData\\Local\\Temp\\ipykernel_10348\\3310917388.py:7: PerformanceWarning: DataFrame is highly fragmented.  This is usually the result of calling `frame.insert` many times, which has poor performance.  Consider joining all columns at once using pd.concat(axis=1) instead. To get a de-fragmented frame, use `newframe = frame.copy()`\n",
      "  us_equities_close[ticker] = data['Adj Close']\n"
     ]
    },
    {
     "name": "stdout",
     "output_type": "stream",
     "text": [
      "[*********************100%***********************]  1 of 1 completed\n"
     ]
    },
    {
     "name": "stderr",
     "output_type": "stream",
     "text": [
      "C:\\Users\\patel_223gv41\\AppData\\Local\\Temp\\ipykernel_10348\\3310917388.py:7: PerformanceWarning: DataFrame is highly fragmented.  This is usually the result of calling `frame.insert` many times, which has poor performance.  Consider joining all columns at once using pd.concat(axis=1) instead. To get a de-fragmented frame, use `newframe = frame.copy()`\n",
      "  us_equities_close[ticker] = data['Adj Close']\n"
     ]
    },
    {
     "name": "stdout",
     "output_type": "stream",
     "text": [
      "[*********************100%***********************]  1 of 1 completed\n"
     ]
    },
    {
     "name": "stderr",
     "output_type": "stream",
     "text": [
      "C:\\Users\\patel_223gv41\\AppData\\Local\\Temp\\ipykernel_10348\\3310917388.py:7: PerformanceWarning: DataFrame is highly fragmented.  This is usually the result of calling `frame.insert` many times, which has poor performance.  Consider joining all columns at once using pd.concat(axis=1) instead. To get a de-fragmented frame, use `newframe = frame.copy()`\n",
      "  us_equities_close[ticker] = data['Adj Close']\n"
     ]
    },
    {
     "name": "stdout",
     "output_type": "stream",
     "text": [
      "[*********************100%***********************]  1 of 1 completed\n"
     ]
    },
    {
     "name": "stderr",
     "output_type": "stream",
     "text": [
      "C:\\Users\\patel_223gv41\\AppData\\Local\\Temp\\ipykernel_10348\\3310917388.py:7: PerformanceWarning: DataFrame is highly fragmented.  This is usually the result of calling `frame.insert` many times, which has poor performance.  Consider joining all columns at once using pd.concat(axis=1) instead. To get a de-fragmented frame, use `newframe = frame.copy()`\n",
      "  us_equities_close[ticker] = data['Adj Close']\n"
     ]
    },
    {
     "name": "stdout",
     "output_type": "stream",
     "text": [
      "[*********************100%***********************]  1 of 1 completed\n"
     ]
    },
    {
     "name": "stderr",
     "output_type": "stream",
     "text": [
      "C:\\Users\\patel_223gv41\\AppData\\Local\\Temp\\ipykernel_10348\\3310917388.py:7: PerformanceWarning: DataFrame is highly fragmented.  This is usually the result of calling `frame.insert` many times, which has poor performance.  Consider joining all columns at once using pd.concat(axis=1) instead. To get a de-fragmented frame, use `newframe = frame.copy()`\n",
      "  us_equities_close[ticker] = data['Adj Close']\n"
     ]
    },
    {
     "name": "stdout",
     "output_type": "stream",
     "text": [
      "[*********************100%***********************]  1 of 1 completed\n"
     ]
    },
    {
     "name": "stderr",
     "output_type": "stream",
     "text": [
      "C:\\Users\\patel_223gv41\\AppData\\Local\\Temp\\ipykernel_10348\\3310917388.py:7: PerformanceWarning: DataFrame is highly fragmented.  This is usually the result of calling `frame.insert` many times, which has poor performance.  Consider joining all columns at once using pd.concat(axis=1) instead. To get a de-fragmented frame, use `newframe = frame.copy()`\n",
      "  us_equities_close[ticker] = data['Adj Close']\n"
     ]
    },
    {
     "name": "stdout",
     "output_type": "stream",
     "text": [
      "[*********************100%***********************]  1 of 1 completed\n"
     ]
    },
    {
     "name": "stderr",
     "output_type": "stream",
     "text": [
      "C:\\Users\\patel_223gv41\\AppData\\Local\\Temp\\ipykernel_10348\\3310917388.py:7: PerformanceWarning: DataFrame is highly fragmented.  This is usually the result of calling `frame.insert` many times, which has poor performance.  Consider joining all columns at once using pd.concat(axis=1) instead. To get a de-fragmented frame, use `newframe = frame.copy()`\n",
      "  us_equities_close[ticker] = data['Adj Close']\n"
     ]
    },
    {
     "name": "stdout",
     "output_type": "stream",
     "text": [
      "[*********************100%***********************]  1 of 1 completed\n"
     ]
    },
    {
     "name": "stderr",
     "output_type": "stream",
     "text": [
      "C:\\Users\\patel_223gv41\\AppData\\Local\\Temp\\ipykernel_10348\\3310917388.py:7: PerformanceWarning: DataFrame is highly fragmented.  This is usually the result of calling `frame.insert` many times, which has poor performance.  Consider joining all columns at once using pd.concat(axis=1) instead. To get a de-fragmented frame, use `newframe = frame.copy()`\n",
      "  us_equities_close[ticker] = data['Adj Close']\n"
     ]
    },
    {
     "name": "stdout",
     "output_type": "stream",
     "text": [
      "[*********************100%***********************]  1 of 1 completed\n"
     ]
    },
    {
     "name": "stderr",
     "output_type": "stream",
     "text": [
      "C:\\Users\\patel_223gv41\\AppData\\Local\\Temp\\ipykernel_10348\\3310917388.py:7: PerformanceWarning: DataFrame is highly fragmented.  This is usually the result of calling `frame.insert` many times, which has poor performance.  Consider joining all columns at once using pd.concat(axis=1) instead. To get a de-fragmented frame, use `newframe = frame.copy()`\n",
      "  us_equities_close[ticker] = data['Adj Close']\n"
     ]
    },
    {
     "name": "stdout",
     "output_type": "stream",
     "text": [
      "[*********************100%***********************]  1 of 1 completed\n"
     ]
    },
    {
     "name": "stderr",
     "output_type": "stream",
     "text": [
      "C:\\Users\\patel_223gv41\\AppData\\Local\\Temp\\ipykernel_10348\\3310917388.py:7: PerformanceWarning: DataFrame is highly fragmented.  This is usually the result of calling `frame.insert` many times, which has poor performance.  Consider joining all columns at once using pd.concat(axis=1) instead. To get a de-fragmented frame, use `newframe = frame.copy()`\n",
      "  us_equities_close[ticker] = data['Adj Close']\n"
     ]
    },
    {
     "name": "stdout",
     "output_type": "stream",
     "text": [
      "[*********************100%***********************]  1 of 1 completed\n"
     ]
    },
    {
     "name": "stderr",
     "output_type": "stream",
     "text": [
      "C:\\Users\\patel_223gv41\\AppData\\Local\\Temp\\ipykernel_10348\\3310917388.py:7: PerformanceWarning: DataFrame is highly fragmented.  This is usually the result of calling `frame.insert` many times, which has poor performance.  Consider joining all columns at once using pd.concat(axis=1) instead. To get a de-fragmented frame, use `newframe = frame.copy()`\n",
      "  us_equities_close[ticker] = data['Adj Close']\n"
     ]
    },
    {
     "name": "stdout",
     "output_type": "stream",
     "text": [
      "[*********************100%***********************]  1 of 1 completed\n"
     ]
    },
    {
     "name": "stderr",
     "output_type": "stream",
     "text": [
      "C:\\Users\\patel_223gv41\\AppData\\Local\\Temp\\ipykernel_10348\\3310917388.py:7: PerformanceWarning: DataFrame is highly fragmented.  This is usually the result of calling `frame.insert` many times, which has poor performance.  Consider joining all columns at once using pd.concat(axis=1) instead. To get a de-fragmented frame, use `newframe = frame.copy()`\n",
      "  us_equities_close[ticker] = data['Adj Close']\n"
     ]
    },
    {
     "name": "stdout",
     "output_type": "stream",
     "text": [
      "[*********************100%***********************]  1 of 1 completed\n",
      "[*********************100%***********************]  1 of 1 completed"
     ]
    },
    {
     "name": "stderr",
     "output_type": "stream",
     "text": [
      "C:\\Users\\patel_223gv41\\AppData\\Local\\Temp\\ipykernel_10348\\3310917388.py:7: PerformanceWarning: DataFrame is highly fragmented.  This is usually the result of calling `frame.insert` many times, which has poor performance.  Consider joining all columns at once using pd.concat(axis=1) instead. To get a de-fragmented frame, use `newframe = frame.copy()`\n",
      "  us_equities_close[ticker] = data['Adj Close']\n"
     ]
    },
    {
     "name": "stdout",
     "output_type": "stream",
     "text": [
      "\n"
     ]
    },
    {
     "name": "stderr",
     "output_type": "stream",
     "text": [
      "C:\\Users\\patel_223gv41\\AppData\\Local\\Temp\\ipykernel_10348\\3310917388.py:7: PerformanceWarning: DataFrame is highly fragmented.  This is usually the result of calling `frame.insert` many times, which has poor performance.  Consider joining all columns at once using pd.concat(axis=1) instead. To get a de-fragmented frame, use `newframe = frame.copy()`\n",
      "  us_equities_close[ticker] = data['Adj Close']\n"
     ]
    },
    {
     "name": "stdout",
     "output_type": "stream",
     "text": [
      "[*********************100%***********************]  1 of 1 completed\n"
     ]
    },
    {
     "name": "stderr",
     "output_type": "stream",
     "text": [
      "C:\\Users\\patel_223gv41\\AppData\\Local\\Temp\\ipykernel_10348\\3310917388.py:7: PerformanceWarning: DataFrame is highly fragmented.  This is usually the result of calling `frame.insert` many times, which has poor performance.  Consider joining all columns at once using pd.concat(axis=1) instead. To get a de-fragmented frame, use `newframe = frame.copy()`\n",
      "  us_equities_close[ticker] = data['Adj Close']\n"
     ]
    },
    {
     "name": "stdout",
     "output_type": "stream",
     "text": [
      "[*********************100%***********************]  1 of 1 completed\n"
     ]
    },
    {
     "name": "stderr",
     "output_type": "stream",
     "text": [
      "C:\\Users\\patel_223gv41\\AppData\\Local\\Temp\\ipykernel_10348\\3310917388.py:7: PerformanceWarning: DataFrame is highly fragmented.  This is usually the result of calling `frame.insert` many times, which has poor performance.  Consider joining all columns at once using pd.concat(axis=1) instead. To get a de-fragmented frame, use `newframe = frame.copy()`\n",
      "  us_equities_close[ticker] = data['Adj Close']\n"
     ]
    },
    {
     "name": "stdout",
     "output_type": "stream",
     "text": [
      "[*********************100%***********************]  1 of 1 completed\n"
     ]
    },
    {
     "name": "stderr",
     "output_type": "stream",
     "text": [
      "C:\\Users\\patel_223gv41\\AppData\\Local\\Temp\\ipykernel_10348\\3310917388.py:7: PerformanceWarning: DataFrame is highly fragmented.  This is usually the result of calling `frame.insert` many times, which has poor performance.  Consider joining all columns at once using pd.concat(axis=1) instead. To get a de-fragmented frame, use `newframe = frame.copy()`\n",
      "  us_equities_close[ticker] = data['Adj Close']\n"
     ]
    },
    {
     "name": "stdout",
     "output_type": "stream",
     "text": [
      "[*********************100%***********************]  1 of 1 completed\n",
      "[*********************100%***********************]  1 of 1 completed"
     ]
    },
    {
     "name": "stderr",
     "output_type": "stream",
     "text": [
      "C:\\Users\\patel_223gv41\\AppData\\Local\\Temp\\ipykernel_10348\\3310917388.py:7: PerformanceWarning: DataFrame is highly fragmented.  This is usually the result of calling `frame.insert` many times, which has poor performance.  Consider joining all columns at once using pd.concat(axis=1) instead. To get a de-fragmented frame, use `newframe = frame.copy()`\n",
      "  us_equities_close[ticker] = data['Adj Close']\n",
      "C:\\Users\\patel_223gv41\\AppData\\Local\\Temp\\ipykernel_10348\\3310917388.py:7: PerformanceWarning: DataFrame is highly fragmented.  This is usually the result of calling `frame.insert` many times, which has poor performance.  Consider joining all columns at once using pd.concat(axis=1) instead. To get a de-fragmented frame, use `newframe = frame.copy()`\n",
      "  us_equities_close[ticker] = data['Adj Close']\n"
     ]
    },
    {
     "name": "stdout",
     "output_type": "stream",
     "text": [
      "\n",
      "[*********************100%***********************]  1 of 1 completed\n",
      "[*********************100%***********************]  1 of 1 completed\n"
     ]
    },
    {
     "name": "stderr",
     "output_type": "stream",
     "text": [
      "C:\\Users\\patel_223gv41\\AppData\\Local\\Temp\\ipykernel_10348\\3310917388.py:7: PerformanceWarning: DataFrame is highly fragmented.  This is usually the result of calling `frame.insert` many times, which has poor performance.  Consider joining all columns at once using pd.concat(axis=1) instead. To get a de-fragmented frame, use `newframe = frame.copy()`\n",
      "  us_equities_close[ticker] = data['Adj Close']\n",
      "C:\\Users\\patel_223gv41\\AppData\\Local\\Temp\\ipykernel_10348\\3310917388.py:7: PerformanceWarning: DataFrame is highly fragmented.  This is usually the result of calling `frame.insert` many times, which has poor performance.  Consider joining all columns at once using pd.concat(axis=1) instead. To get a de-fragmented frame, use `newframe = frame.copy()`\n",
      "  us_equities_close[ticker] = data['Adj Close']\n"
     ]
    },
    {
     "name": "stdout",
     "output_type": "stream",
     "text": [
      "[*********************100%***********************]  1 of 1 completed\n"
     ]
    },
    {
     "name": "stderr",
     "output_type": "stream",
     "text": [
      "C:\\Users\\patel_223gv41\\AppData\\Local\\Temp\\ipykernel_10348\\3310917388.py:7: PerformanceWarning: DataFrame is highly fragmented.  This is usually the result of calling `frame.insert` many times, which has poor performance.  Consider joining all columns at once using pd.concat(axis=1) instead. To get a de-fragmented frame, use `newframe = frame.copy()`\n",
      "  us_equities_close[ticker] = data['Adj Close']\n"
     ]
    },
    {
     "name": "stdout",
     "output_type": "stream",
     "text": [
      "[*********************100%***********************]  1 of 1 completed\n",
      "[*********************100%***********************]  1 of 1 completed\n"
     ]
    },
    {
     "name": "stderr",
     "output_type": "stream",
     "text": [
      "C:\\Users\\patel_223gv41\\AppData\\Local\\Temp\\ipykernel_10348\\3310917388.py:7: PerformanceWarning: DataFrame is highly fragmented.  This is usually the result of calling `frame.insert` many times, which has poor performance.  Consider joining all columns at once using pd.concat(axis=1) instead. To get a de-fragmented frame, use `newframe = frame.copy()`\n",
      "  us_equities_close[ticker] = data['Adj Close']\n",
      "C:\\Users\\patel_223gv41\\AppData\\Local\\Temp\\ipykernel_10348\\3310917388.py:7: PerformanceWarning: DataFrame is highly fragmented.  This is usually the result of calling `frame.insert` many times, which has poor performance.  Consider joining all columns at once using pd.concat(axis=1) instead. To get a de-fragmented frame, use `newframe = frame.copy()`\n",
      "  us_equities_close[ticker] = data['Adj Close']\n"
     ]
    },
    {
     "name": "stdout",
     "output_type": "stream",
     "text": [
      "[*********************100%***********************]  1 of 1 completed\n",
      "[*********************100%***********************]  1 of 1 completed"
     ]
    },
    {
     "name": "stderr",
     "output_type": "stream",
     "text": [
      "C:\\Users\\patel_223gv41\\AppData\\Local\\Temp\\ipykernel_10348\\3310917388.py:7: PerformanceWarning: DataFrame is highly fragmented.  This is usually the result of calling `frame.insert` many times, which has poor performance.  Consider joining all columns at once using pd.concat(axis=1) instead. To get a de-fragmented frame, use `newframe = frame.copy()`\n",
      "  us_equities_close[ticker] = data['Adj Close']\n"
     ]
    },
    {
     "name": "stdout",
     "output_type": "stream",
     "text": [
      "\n"
     ]
    },
    {
     "name": "stderr",
     "output_type": "stream",
     "text": [
      "C:\\Users\\patel_223gv41\\AppData\\Local\\Temp\\ipykernel_10348\\3310917388.py:7: PerformanceWarning: DataFrame is highly fragmented.  This is usually the result of calling `frame.insert` many times, which has poor performance.  Consider joining all columns at once using pd.concat(axis=1) instead. To get a de-fragmented frame, use `newframe = frame.copy()`\n",
      "  us_equities_close[ticker] = data['Adj Close']\n"
     ]
    },
    {
     "name": "stdout",
     "output_type": "stream",
     "text": [
      "[*********************100%***********************]  1 of 1 completed\n"
     ]
    },
    {
     "name": "stderr",
     "output_type": "stream",
     "text": [
      "C:\\Users\\patel_223gv41\\AppData\\Local\\Temp\\ipykernel_10348\\3310917388.py:7: PerformanceWarning: DataFrame is highly fragmented.  This is usually the result of calling `frame.insert` many times, which has poor performance.  Consider joining all columns at once using pd.concat(axis=1) instead. To get a de-fragmented frame, use `newframe = frame.copy()`\n",
      "  us_equities_close[ticker] = data['Adj Close']\n"
     ]
    },
    {
     "name": "stdout",
     "output_type": "stream",
     "text": [
      "[*********************100%***********************]  1 of 1 completed\n"
     ]
    },
    {
     "name": "stderr",
     "output_type": "stream",
     "text": [
      "C:\\Users\\patel_223gv41\\AppData\\Local\\Temp\\ipykernel_10348\\3310917388.py:7: PerformanceWarning: DataFrame is highly fragmented.  This is usually the result of calling `frame.insert` many times, which has poor performance.  Consider joining all columns at once using pd.concat(axis=1) instead. To get a de-fragmented frame, use `newframe = frame.copy()`\n",
      "  us_equities_close[ticker] = data['Adj Close']\n"
     ]
    },
    {
     "name": "stdout",
     "output_type": "stream",
     "text": [
      "[*********************100%***********************]  1 of 1 completed\n"
     ]
    },
    {
     "name": "stderr",
     "output_type": "stream",
     "text": [
      "C:\\Users\\patel_223gv41\\AppData\\Local\\Temp\\ipykernel_10348\\3310917388.py:7: PerformanceWarning: DataFrame is highly fragmented.  This is usually the result of calling `frame.insert` many times, which has poor performance.  Consider joining all columns at once using pd.concat(axis=1) instead. To get a de-fragmented frame, use `newframe = frame.copy()`\n",
      "  us_equities_close[ticker] = data['Adj Close']\n"
     ]
    },
    {
     "name": "stdout",
     "output_type": "stream",
     "text": [
      "[*********************100%***********************]  1 of 1 completed\n"
     ]
    },
    {
     "name": "stderr",
     "output_type": "stream",
     "text": [
      "C:\\Users\\patel_223gv41\\AppData\\Local\\Temp\\ipykernel_10348\\3310917388.py:7: PerformanceWarning: DataFrame is highly fragmented.  This is usually the result of calling `frame.insert` many times, which has poor performance.  Consider joining all columns at once using pd.concat(axis=1) instead. To get a de-fragmented frame, use `newframe = frame.copy()`\n",
      "  us_equities_close[ticker] = data['Adj Close']\n"
     ]
    },
    {
     "name": "stdout",
     "output_type": "stream",
     "text": [
      "[*********************100%***********************]  1 of 1 completed\n",
      "[*********************100%***********************]  1 of 1 completed"
     ]
    },
    {
     "name": "stderr",
     "output_type": "stream",
     "text": [
      "C:\\Users\\patel_223gv41\\AppData\\Local\\Temp\\ipykernel_10348\\3310917388.py:7: PerformanceWarning: DataFrame is highly fragmented.  This is usually the result of calling `frame.insert` many times, which has poor performance.  Consider joining all columns at once using pd.concat(axis=1) instead. To get a de-fragmented frame, use `newframe = frame.copy()`\n",
      "  us_equities_close[ticker] = data['Adj Close']\n",
      "C:\\Users\\patel_223gv41\\AppData\\Local\\Temp\\ipykernel_10348\\3310917388.py:7: PerformanceWarning: DataFrame is highly fragmented.  This is usually the result of calling `frame.insert` many times, which has poor performance.  Consider joining all columns at once using pd.concat(axis=1) instead. To get a de-fragmented frame, use `newframe = frame.copy()`\n",
      "  us_equities_close[ticker] = data['Adj Close']\n"
     ]
    },
    {
     "name": "stdout",
     "output_type": "stream",
     "text": [
      "\n",
      "[*********************100%***********************]  1 of 1 completed\n"
     ]
    },
    {
     "name": "stderr",
     "output_type": "stream",
     "text": [
      "C:\\Users\\patel_223gv41\\AppData\\Local\\Temp\\ipykernel_10348\\3310917388.py:7: PerformanceWarning: DataFrame is highly fragmented.  This is usually the result of calling `frame.insert` many times, which has poor performance.  Consider joining all columns at once using pd.concat(axis=1) instead. To get a de-fragmented frame, use `newframe = frame.copy()`\n",
      "  us_equities_close[ticker] = data['Adj Close']\n"
     ]
    },
    {
     "name": "stdout",
     "output_type": "stream",
     "text": [
      "[*********************100%***********************]  1 of 1 completed\n"
     ]
    },
    {
     "name": "stderr",
     "output_type": "stream",
     "text": [
      "C:\\Users\\patel_223gv41\\AppData\\Local\\Temp\\ipykernel_10348\\3310917388.py:7: PerformanceWarning: DataFrame is highly fragmented.  This is usually the result of calling `frame.insert` many times, which has poor performance.  Consider joining all columns at once using pd.concat(axis=1) instead. To get a de-fragmented frame, use `newframe = frame.copy()`\n",
      "  us_equities_close[ticker] = data['Adj Close']\n"
     ]
    },
    {
     "name": "stdout",
     "output_type": "stream",
     "text": [
      "[*********************100%***********************]  1 of 1 completed\n"
     ]
    },
    {
     "name": "stderr",
     "output_type": "stream",
     "text": [
      "C:\\Users\\patel_223gv41\\AppData\\Local\\Temp\\ipykernel_10348\\3310917388.py:7: PerformanceWarning: DataFrame is highly fragmented.  This is usually the result of calling `frame.insert` many times, which has poor performance.  Consider joining all columns at once using pd.concat(axis=1) instead. To get a de-fragmented frame, use `newframe = frame.copy()`\n",
      "  us_equities_close[ticker] = data['Adj Close']\n"
     ]
    },
    {
     "name": "stdout",
     "output_type": "stream",
     "text": [
      "[*********************100%***********************]  1 of 1 completed\n"
     ]
    },
    {
     "name": "stderr",
     "output_type": "stream",
     "text": [
      "C:\\Users\\patel_223gv41\\AppData\\Local\\Temp\\ipykernel_10348\\3310917388.py:7: PerformanceWarning: DataFrame is highly fragmented.  This is usually the result of calling `frame.insert` many times, which has poor performance.  Consider joining all columns at once using pd.concat(axis=1) instead. To get a de-fragmented frame, use `newframe = frame.copy()`\n",
      "  us_equities_close[ticker] = data['Adj Close']\n"
     ]
    },
    {
     "name": "stdout",
     "output_type": "stream",
     "text": [
      "[*********************100%***********************]  1 of 1 completed\n"
     ]
    },
    {
     "name": "stderr",
     "output_type": "stream",
     "text": [
      "C:\\Users\\patel_223gv41\\AppData\\Local\\Temp\\ipykernel_10348\\3310917388.py:7: PerformanceWarning: DataFrame is highly fragmented.  This is usually the result of calling `frame.insert` many times, which has poor performance.  Consider joining all columns at once using pd.concat(axis=1) instead. To get a de-fragmented frame, use `newframe = frame.copy()`\n",
      "  us_equities_close[ticker] = data['Adj Close']\n"
     ]
    },
    {
     "name": "stdout",
     "output_type": "stream",
     "text": [
      "[*********************100%***********************]  1 of 1 completed\n"
     ]
    },
    {
     "name": "stderr",
     "output_type": "stream",
     "text": [
      "C:\\Users\\patel_223gv41\\AppData\\Local\\Temp\\ipykernel_10348\\3310917388.py:7: PerformanceWarning: DataFrame is highly fragmented.  This is usually the result of calling `frame.insert` many times, which has poor performance.  Consider joining all columns at once using pd.concat(axis=1) instead. To get a de-fragmented frame, use `newframe = frame.copy()`\n",
      "  us_equities_close[ticker] = data['Adj Close']\n"
     ]
    },
    {
     "name": "stdout",
     "output_type": "stream",
     "text": [
      "[*********************100%***********************]  1 of 1 completed\n",
      "[*********************100%***********************]  1 of 1 completed"
     ]
    },
    {
     "name": "stderr",
     "output_type": "stream",
     "text": [
      "C:\\Users\\patel_223gv41\\AppData\\Local\\Temp\\ipykernel_10348\\3310917388.py:7: PerformanceWarning: DataFrame is highly fragmented.  This is usually the result of calling `frame.insert` many times, which has poor performance.  Consider joining all columns at once using pd.concat(axis=1) instead. To get a de-fragmented frame, use `newframe = frame.copy()`\n",
      "  us_equities_close[ticker] = data['Adj Close']\n",
      "C:\\Users\\patel_223gv41\\AppData\\Local\\Temp\\ipykernel_10348\\3310917388.py:7: PerformanceWarning: DataFrame is highly fragmented.  This is usually the result of calling `frame.insert` many times, which has poor performance.  Consider joining all columns at once using pd.concat(axis=1) instead. To get a de-fragmented frame, use `newframe = frame.copy()`\n",
      "  us_equities_close[ticker] = data['Adj Close']\n"
     ]
    },
    {
     "name": "stdout",
     "output_type": "stream",
     "text": [
      "\n",
      "[*********************100%***********************]  1 of 1 completed\n"
     ]
    },
    {
     "name": "stderr",
     "output_type": "stream",
     "text": [
      "C:\\Users\\patel_223gv41\\AppData\\Local\\Temp\\ipykernel_10348\\3310917388.py:7: PerformanceWarning: DataFrame is highly fragmented.  This is usually the result of calling `frame.insert` many times, which has poor performance.  Consider joining all columns at once using pd.concat(axis=1) instead. To get a de-fragmented frame, use `newframe = frame.copy()`\n",
      "  us_equities_close[ticker] = data['Adj Close']\n"
     ]
    },
    {
     "name": "stdout",
     "output_type": "stream",
     "text": [
      "[*********************100%***********************]  1 of 1 completed\n"
     ]
    },
    {
     "name": "stderr",
     "output_type": "stream",
     "text": [
      "C:\\Users\\patel_223gv41\\AppData\\Local\\Temp\\ipykernel_10348\\3310917388.py:7: PerformanceWarning: DataFrame is highly fragmented.  This is usually the result of calling `frame.insert` many times, which has poor performance.  Consider joining all columns at once using pd.concat(axis=1) instead. To get a de-fragmented frame, use `newframe = frame.copy()`\n",
      "  us_equities_close[ticker] = data['Adj Close']\n"
     ]
    },
    {
     "name": "stdout",
     "output_type": "stream",
     "text": [
      "[*********************100%***********************]  1 of 1 completed\n"
     ]
    },
    {
     "name": "stderr",
     "output_type": "stream",
     "text": [
      "C:\\Users\\patel_223gv41\\AppData\\Local\\Temp\\ipykernel_10348\\3310917388.py:7: PerformanceWarning: DataFrame is highly fragmented.  This is usually the result of calling `frame.insert` many times, which has poor performance.  Consider joining all columns at once using pd.concat(axis=1) instead. To get a de-fragmented frame, use `newframe = frame.copy()`\n",
      "  us_equities_close[ticker] = data['Adj Close']\n"
     ]
    },
    {
     "name": "stdout",
     "output_type": "stream",
     "text": [
      "[*********************100%***********************]  1 of 1 completed\n"
     ]
    },
    {
     "name": "stderr",
     "output_type": "stream",
     "text": [
      "C:\\Users\\patel_223gv41\\AppData\\Local\\Temp\\ipykernel_10348\\3310917388.py:7: PerformanceWarning: DataFrame is highly fragmented.  This is usually the result of calling `frame.insert` many times, which has poor performance.  Consider joining all columns at once using pd.concat(axis=1) instead. To get a de-fragmented frame, use `newframe = frame.copy()`\n",
      "  us_equities_close[ticker] = data['Adj Close']\n"
     ]
    },
    {
     "name": "stdout",
     "output_type": "stream",
     "text": [
      "[*********************100%***********************]  1 of 1 completed\n"
     ]
    },
    {
     "name": "stderr",
     "output_type": "stream",
     "text": [
      "C:\\Users\\patel_223gv41\\AppData\\Local\\Temp\\ipykernel_10348\\3310917388.py:7: PerformanceWarning: DataFrame is highly fragmented.  This is usually the result of calling `frame.insert` many times, which has poor performance.  Consider joining all columns at once using pd.concat(axis=1) instead. To get a de-fragmented frame, use `newframe = frame.copy()`\n",
      "  us_equities_close[ticker] = data['Adj Close']\n"
     ]
    },
    {
     "name": "stdout",
     "output_type": "stream",
     "text": [
      "[*********************100%***********************]  1 of 1 completed\n"
     ]
    },
    {
     "name": "stderr",
     "output_type": "stream",
     "text": [
      "C:\\Users\\patel_223gv41\\AppData\\Local\\Temp\\ipykernel_10348\\3310917388.py:7: PerformanceWarning: DataFrame is highly fragmented.  This is usually the result of calling `frame.insert` many times, which has poor performance.  Consider joining all columns at once using pd.concat(axis=1) instead. To get a de-fragmented frame, use `newframe = frame.copy()`\n",
      "  us_equities_close[ticker] = data['Adj Close']\n"
     ]
    },
    {
     "name": "stdout",
     "output_type": "stream",
     "text": [
      "[*********************100%***********************]  1 of 1 completed\n"
     ]
    },
    {
     "name": "stderr",
     "output_type": "stream",
     "text": [
      "C:\\Users\\patel_223gv41\\AppData\\Local\\Temp\\ipykernel_10348\\3310917388.py:7: PerformanceWarning: DataFrame is highly fragmented.  This is usually the result of calling `frame.insert` many times, which has poor performance.  Consider joining all columns at once using pd.concat(axis=1) instead. To get a de-fragmented frame, use `newframe = frame.copy()`\n",
      "  us_equities_close[ticker] = data['Adj Close']\n"
     ]
    },
    {
     "name": "stdout",
     "output_type": "stream",
     "text": [
      "[*********************100%***********************]  1 of 1 completed\n"
     ]
    },
    {
     "name": "stderr",
     "output_type": "stream",
     "text": [
      "C:\\Users\\patel_223gv41\\AppData\\Local\\Temp\\ipykernel_10348\\3310917388.py:7: PerformanceWarning: DataFrame is highly fragmented.  This is usually the result of calling `frame.insert` many times, which has poor performance.  Consider joining all columns at once using pd.concat(axis=1) instead. To get a de-fragmented frame, use `newframe = frame.copy()`\n",
      "  us_equities_close[ticker] = data['Adj Close']\n"
     ]
    },
    {
     "name": "stdout",
     "output_type": "stream",
     "text": [
      "[*********************100%***********************]  1 of 1 completed\n"
     ]
    },
    {
     "name": "stderr",
     "output_type": "stream",
     "text": [
      "C:\\Users\\patel_223gv41\\AppData\\Local\\Temp\\ipykernel_10348\\3310917388.py:7: PerformanceWarning: DataFrame is highly fragmented.  This is usually the result of calling `frame.insert` many times, which has poor performance.  Consider joining all columns at once using pd.concat(axis=1) instead. To get a de-fragmented frame, use `newframe = frame.copy()`\n",
      "  us_equities_close[ticker] = data['Adj Close']\n"
     ]
    },
    {
     "name": "stdout",
     "output_type": "stream",
     "text": [
      "[*********************100%***********************]  1 of 1 completed\n"
     ]
    },
    {
     "name": "stderr",
     "output_type": "stream",
     "text": [
      "C:\\Users\\patel_223gv41\\AppData\\Local\\Temp\\ipykernel_10348\\3310917388.py:7: PerformanceWarning: DataFrame is highly fragmented.  This is usually the result of calling `frame.insert` many times, which has poor performance.  Consider joining all columns at once using pd.concat(axis=1) instead. To get a de-fragmented frame, use `newframe = frame.copy()`\n",
      "  us_equities_close[ticker] = data['Adj Close']\n"
     ]
    },
    {
     "name": "stdout",
     "output_type": "stream",
     "text": [
      "[*********************100%***********************]  1 of 1 completed\n"
     ]
    },
    {
     "name": "stderr",
     "output_type": "stream",
     "text": [
      "C:\\Users\\patel_223gv41\\AppData\\Local\\Temp\\ipykernel_10348\\3310917388.py:7: PerformanceWarning: DataFrame is highly fragmented.  This is usually the result of calling `frame.insert` many times, which has poor performance.  Consider joining all columns at once using pd.concat(axis=1) instead. To get a de-fragmented frame, use `newframe = frame.copy()`\n",
      "  us_equities_close[ticker] = data['Adj Close']\n"
     ]
    },
    {
     "name": "stdout",
     "output_type": "stream",
     "text": [
      "[*********************100%***********************]  1 of 1 completed\n"
     ]
    },
    {
     "name": "stderr",
     "output_type": "stream",
     "text": [
      "C:\\Users\\patel_223gv41\\AppData\\Local\\Temp\\ipykernel_10348\\3310917388.py:7: PerformanceWarning: DataFrame is highly fragmented.  This is usually the result of calling `frame.insert` many times, which has poor performance.  Consider joining all columns at once using pd.concat(axis=1) instead. To get a de-fragmented frame, use `newframe = frame.copy()`\n",
      "  us_equities_close[ticker] = data['Adj Close']\n"
     ]
    },
    {
     "name": "stdout",
     "output_type": "stream",
     "text": [
      "[*********************100%***********************]  1 of 1 completed\n",
      "[*********************100%***********************]  1 of 1 completed"
     ]
    },
    {
     "name": "stderr",
     "output_type": "stream",
     "text": [
      "C:\\Users\\patel_223gv41\\AppData\\Local\\Temp\\ipykernel_10348\\3310917388.py:7: PerformanceWarning: DataFrame is highly fragmented.  This is usually the result of calling `frame.insert` many times, which has poor performance.  Consider joining all columns at once using pd.concat(axis=1) instead. To get a de-fragmented frame, use `newframe = frame.copy()`\n",
      "  us_equities_close[ticker] = data['Adj Close']\n"
     ]
    },
    {
     "name": "stdout",
     "output_type": "stream",
     "text": [
      "\n",
      "[*********************100%***********************]  1 of 1 completed"
     ]
    },
    {
     "name": "stderr",
     "output_type": "stream",
     "text": [
      "C:\\Users\\patel_223gv41\\AppData\\Local\\Temp\\ipykernel_10348\\3310917388.py:7: PerformanceWarning: DataFrame is highly fragmented.  This is usually the result of calling `frame.insert` many times, which has poor performance.  Consider joining all columns at once using pd.concat(axis=1) instead. To get a de-fragmented frame, use `newframe = frame.copy()`\n",
      "  us_equities_close[ticker] = data['Adj Close']\n"
     ]
    },
    {
     "name": "stdout",
     "output_type": "stream",
     "text": [
      "\n"
     ]
    },
    {
     "name": "stderr",
     "output_type": "stream",
     "text": [
      "C:\\Users\\patel_223gv41\\AppData\\Local\\Temp\\ipykernel_10348\\3310917388.py:7: PerformanceWarning: DataFrame is highly fragmented.  This is usually the result of calling `frame.insert` many times, which has poor performance.  Consider joining all columns at once using pd.concat(axis=1) instead. To get a de-fragmented frame, use `newframe = frame.copy()`\n",
      "  us_equities_close[ticker] = data['Adj Close']\n"
     ]
    },
    {
     "name": "stdout",
     "output_type": "stream",
     "text": [
      "[*********************100%***********************]  1 of 1 completed\n"
     ]
    },
    {
     "name": "stderr",
     "output_type": "stream",
     "text": [
      "C:\\Users\\patel_223gv41\\AppData\\Local\\Temp\\ipykernel_10348\\3310917388.py:7: PerformanceWarning: DataFrame is highly fragmented.  This is usually the result of calling `frame.insert` many times, which has poor performance.  Consider joining all columns at once using pd.concat(axis=1) instead. To get a de-fragmented frame, use `newframe = frame.copy()`\n",
      "  us_equities_close[ticker] = data['Adj Close']\n"
     ]
    },
    {
     "name": "stdout",
     "output_type": "stream",
     "text": [
      "[*********************100%***********************]  1 of 1 completed\n"
     ]
    },
    {
     "name": "stderr",
     "output_type": "stream",
     "text": [
      "C:\\Users\\patel_223gv41\\AppData\\Local\\Temp\\ipykernel_10348\\3310917388.py:7: PerformanceWarning: DataFrame is highly fragmented.  This is usually the result of calling `frame.insert` many times, which has poor performance.  Consider joining all columns at once using pd.concat(axis=1) instead. To get a de-fragmented frame, use `newframe = frame.copy()`\n",
      "  us_equities_close[ticker] = data['Adj Close']\n"
     ]
    },
    {
     "name": "stdout",
     "output_type": "stream",
     "text": [
      "[*********************100%***********************]  1 of 1 completed\n"
     ]
    },
    {
     "name": "stderr",
     "output_type": "stream",
     "text": [
      "C:\\Users\\patel_223gv41\\AppData\\Local\\Temp\\ipykernel_10348\\3310917388.py:7: PerformanceWarning: DataFrame is highly fragmented.  This is usually the result of calling `frame.insert` many times, which has poor performance.  Consider joining all columns at once using pd.concat(axis=1) instead. To get a de-fragmented frame, use `newframe = frame.copy()`\n",
      "  us_equities_close[ticker] = data['Adj Close']\n"
     ]
    },
    {
     "name": "stdout",
     "output_type": "stream",
     "text": [
      "[*********************100%***********************]  1 of 1 completed\n"
     ]
    },
    {
     "name": "stderr",
     "output_type": "stream",
     "text": [
      "C:\\Users\\patel_223gv41\\AppData\\Local\\Temp\\ipykernel_10348\\3310917388.py:7: PerformanceWarning: DataFrame is highly fragmented.  This is usually the result of calling `frame.insert` many times, which has poor performance.  Consider joining all columns at once using pd.concat(axis=1) instead. To get a de-fragmented frame, use `newframe = frame.copy()`\n",
      "  us_equities_close[ticker] = data['Adj Close']\n"
     ]
    },
    {
     "name": "stdout",
     "output_type": "stream",
     "text": [
      "[*********************100%***********************]  1 of 1 completed\n"
     ]
    },
    {
     "name": "stderr",
     "output_type": "stream",
     "text": [
      "C:\\Users\\patel_223gv41\\AppData\\Local\\Temp\\ipykernel_10348\\3310917388.py:7: PerformanceWarning: DataFrame is highly fragmented.  This is usually the result of calling `frame.insert` many times, which has poor performance.  Consider joining all columns at once using pd.concat(axis=1) instead. To get a de-fragmented frame, use `newframe = frame.copy()`\n",
      "  us_equities_close[ticker] = data['Adj Close']\n"
     ]
    },
    {
     "name": "stdout",
     "output_type": "stream",
     "text": [
      "[*********************100%***********************]  1 of 1 completed\n",
      "[*********************100%***********************]  1 of 1 completed"
     ]
    },
    {
     "name": "stderr",
     "output_type": "stream",
     "text": [
      "C:\\Users\\patel_223gv41\\AppData\\Local\\Temp\\ipykernel_10348\\3310917388.py:7: PerformanceWarning: DataFrame is highly fragmented.  This is usually the result of calling `frame.insert` many times, which has poor performance.  Consider joining all columns at once using pd.concat(axis=1) instead. To get a de-fragmented frame, use `newframe = frame.copy()`\n",
      "  us_equities_close[ticker] = data['Adj Close']\n"
     ]
    },
    {
     "name": "stdout",
     "output_type": "stream",
     "text": [
      "\n"
     ]
    },
    {
     "name": "stderr",
     "output_type": "stream",
     "text": [
      "C:\\Users\\patel_223gv41\\AppData\\Local\\Temp\\ipykernel_10348\\3310917388.py:7: PerformanceWarning: DataFrame is highly fragmented.  This is usually the result of calling `frame.insert` many times, which has poor performance.  Consider joining all columns at once using pd.concat(axis=1) instead. To get a de-fragmented frame, use `newframe = frame.copy()`\n",
      "  us_equities_close[ticker] = data['Adj Close']\n"
     ]
    },
    {
     "name": "stdout",
     "output_type": "stream",
     "text": [
      "[*********************100%***********************]  1 of 1 completed\n"
     ]
    },
    {
     "name": "stderr",
     "output_type": "stream",
     "text": [
      "C:\\Users\\patel_223gv41\\AppData\\Local\\Temp\\ipykernel_10348\\3310917388.py:7: PerformanceWarning: DataFrame is highly fragmented.  This is usually the result of calling `frame.insert` many times, which has poor performance.  Consider joining all columns at once using pd.concat(axis=1) instead. To get a de-fragmented frame, use `newframe = frame.copy()`\n",
      "  us_equities_close[ticker] = data['Adj Close']\n"
     ]
    },
    {
     "name": "stdout",
     "output_type": "stream",
     "text": [
      "[*********************100%***********************]  1 of 1 completed\n",
      "[*********************100%***********************]  1 of 1 completed"
     ]
    },
    {
     "name": "stderr",
     "output_type": "stream",
     "text": [
      "C:\\Users\\patel_223gv41\\AppData\\Local\\Temp\\ipykernel_10348\\3310917388.py:7: PerformanceWarning: DataFrame is highly fragmented.  This is usually the result of calling `frame.insert` many times, which has poor performance.  Consider joining all columns at once using pd.concat(axis=1) instead. To get a de-fragmented frame, use `newframe = frame.copy()`\n",
      "  us_equities_close[ticker] = data['Adj Close']\n",
      "C:\\Users\\patel_223gv41\\AppData\\Local\\Temp\\ipykernel_10348\\3310917388.py:7: PerformanceWarning: DataFrame is highly fragmented.  This is usually the result of calling `frame.insert` many times, which has poor performance.  Consider joining all columns at once using pd.concat(axis=1) instead. To get a de-fragmented frame, use `newframe = frame.copy()`\n",
      "  us_equities_close[ticker] = data['Adj Close']\n"
     ]
    },
    {
     "name": "stdout",
     "output_type": "stream",
     "text": [
      "\n",
      "[*********************100%***********************]  1 of 1 completed\n"
     ]
    },
    {
     "name": "stderr",
     "output_type": "stream",
     "text": [
      "C:\\Users\\patel_223gv41\\AppData\\Local\\Temp\\ipykernel_10348\\3310917388.py:7: PerformanceWarning: DataFrame is highly fragmented.  This is usually the result of calling `frame.insert` many times, which has poor performance.  Consider joining all columns at once using pd.concat(axis=1) instead. To get a de-fragmented frame, use `newframe = frame.copy()`\n",
      "  us_equities_close[ticker] = data['Adj Close']\n"
     ]
    },
    {
     "name": "stdout",
     "output_type": "stream",
     "text": [
      "[*********************100%***********************]  1 of 1 completed\n"
     ]
    },
    {
     "name": "stderr",
     "output_type": "stream",
     "text": [
      "C:\\Users\\patel_223gv41\\AppData\\Local\\Temp\\ipykernel_10348\\3310917388.py:7: PerformanceWarning: DataFrame is highly fragmented.  This is usually the result of calling `frame.insert` many times, which has poor performance.  Consider joining all columns at once using pd.concat(axis=1) instead. To get a de-fragmented frame, use `newframe = frame.copy()`\n",
      "  us_equities_close[ticker] = data['Adj Close']\n"
     ]
    },
    {
     "name": "stdout",
     "output_type": "stream",
     "text": [
      "[*********************100%***********************]  1 of 1 completed\n"
     ]
    },
    {
     "name": "stderr",
     "output_type": "stream",
     "text": [
      "C:\\Users\\patel_223gv41\\AppData\\Local\\Temp\\ipykernel_10348\\3310917388.py:7: PerformanceWarning: DataFrame is highly fragmented.  This is usually the result of calling `frame.insert` many times, which has poor performance.  Consider joining all columns at once using pd.concat(axis=1) instead. To get a de-fragmented frame, use `newframe = frame.copy()`\n",
      "  us_equities_close[ticker] = data['Adj Close']\n"
     ]
    },
    {
     "name": "stdout",
     "output_type": "stream",
     "text": [
      "[*********************100%***********************]  1 of 1 completed\n"
     ]
    },
    {
     "name": "stderr",
     "output_type": "stream",
     "text": [
      "C:\\Users\\patel_223gv41\\AppData\\Local\\Temp\\ipykernel_10348\\3310917388.py:7: PerformanceWarning: DataFrame is highly fragmented.  This is usually the result of calling `frame.insert` many times, which has poor performance.  Consider joining all columns at once using pd.concat(axis=1) instead. To get a de-fragmented frame, use `newframe = frame.copy()`\n",
      "  us_equities_close[ticker] = data['Adj Close']\n"
     ]
    },
    {
     "name": "stdout",
     "output_type": "stream",
     "text": [
      "[*********************100%***********************]  1 of 1 completed\n"
     ]
    },
    {
     "name": "stderr",
     "output_type": "stream",
     "text": [
      "C:\\Users\\patel_223gv41\\AppData\\Local\\Temp\\ipykernel_10348\\3310917388.py:7: PerformanceWarning: DataFrame is highly fragmented.  This is usually the result of calling `frame.insert` many times, which has poor performance.  Consider joining all columns at once using pd.concat(axis=1) instead. To get a de-fragmented frame, use `newframe = frame.copy()`\n",
      "  us_equities_close[ticker] = data['Adj Close']\n"
     ]
    },
    {
     "name": "stdout",
     "output_type": "stream",
     "text": [
      "[*********************100%***********************]  1 of 1 completed\n"
     ]
    },
    {
     "name": "stderr",
     "output_type": "stream",
     "text": [
      "C:\\Users\\patel_223gv41\\AppData\\Local\\Temp\\ipykernel_10348\\3310917388.py:7: PerformanceWarning: DataFrame is highly fragmented.  This is usually the result of calling `frame.insert` many times, which has poor performance.  Consider joining all columns at once using pd.concat(axis=1) instead. To get a de-fragmented frame, use `newframe = frame.copy()`\n",
      "  us_equities_close[ticker] = data['Adj Close']\n"
     ]
    },
    {
     "name": "stdout",
     "output_type": "stream",
     "text": [
      "[*********************100%***********************]  1 of 1 completed\n"
     ]
    },
    {
     "name": "stderr",
     "output_type": "stream",
     "text": [
      "C:\\Users\\patel_223gv41\\AppData\\Local\\Temp\\ipykernel_10348\\3310917388.py:7: PerformanceWarning: DataFrame is highly fragmented.  This is usually the result of calling `frame.insert` many times, which has poor performance.  Consider joining all columns at once using pd.concat(axis=1) instead. To get a de-fragmented frame, use `newframe = frame.copy()`\n",
      "  us_equities_close[ticker] = data['Adj Close']\n"
     ]
    },
    {
     "name": "stdout",
     "output_type": "stream",
     "text": [
      "[*********************100%***********************]  1 of 1 completed\n"
     ]
    },
    {
     "name": "stderr",
     "output_type": "stream",
     "text": [
      "C:\\Users\\patel_223gv41\\AppData\\Local\\Temp\\ipykernel_10348\\3310917388.py:7: PerformanceWarning: DataFrame is highly fragmented.  This is usually the result of calling `frame.insert` many times, which has poor performance.  Consider joining all columns at once using pd.concat(axis=1) instead. To get a de-fragmented frame, use `newframe = frame.copy()`\n",
      "  us_equities_close[ticker] = data['Adj Close']\n"
     ]
    },
    {
     "name": "stdout",
     "output_type": "stream",
     "text": [
      "[*********************100%***********************]  1 of 1 completed\n"
     ]
    },
    {
     "name": "stderr",
     "output_type": "stream",
     "text": [
      "C:\\Users\\patel_223gv41\\AppData\\Local\\Temp\\ipykernel_10348\\3310917388.py:7: PerformanceWarning: DataFrame is highly fragmented.  This is usually the result of calling `frame.insert` many times, which has poor performance.  Consider joining all columns at once using pd.concat(axis=1) instead. To get a de-fragmented frame, use `newframe = frame.copy()`\n",
      "  us_equities_close[ticker] = data['Adj Close']\n"
     ]
    },
    {
     "name": "stdout",
     "output_type": "stream",
     "text": [
      "[*********************100%***********************]  1 of 1 completed\n"
     ]
    },
    {
     "name": "stderr",
     "output_type": "stream",
     "text": [
      "C:\\Users\\patel_223gv41\\AppData\\Local\\Temp\\ipykernel_10348\\3310917388.py:7: PerformanceWarning: DataFrame is highly fragmented.  This is usually the result of calling `frame.insert` many times, which has poor performance.  Consider joining all columns at once using pd.concat(axis=1) instead. To get a de-fragmented frame, use `newframe = frame.copy()`\n",
      "  us_equities_close[ticker] = data['Adj Close']\n"
     ]
    },
    {
     "name": "stdout",
     "output_type": "stream",
     "text": [
      "[*********************100%***********************]  1 of 1 completed\n"
     ]
    },
    {
     "name": "stderr",
     "output_type": "stream",
     "text": [
      "C:\\Users\\patel_223gv41\\AppData\\Local\\Temp\\ipykernel_10348\\3310917388.py:7: PerformanceWarning: DataFrame is highly fragmented.  This is usually the result of calling `frame.insert` many times, which has poor performance.  Consider joining all columns at once using pd.concat(axis=1) instead. To get a de-fragmented frame, use `newframe = frame.copy()`\n",
      "  us_equities_close[ticker] = data['Adj Close']\n"
     ]
    },
    {
     "name": "stdout",
     "output_type": "stream",
     "text": [
      "[*********************100%***********************]  1 of 1 completed\n",
      "[*********************100%***********************]  1 of 1 completed"
     ]
    },
    {
     "name": "stderr",
     "output_type": "stream",
     "text": [
      "C:\\Users\\patel_223gv41\\AppData\\Local\\Temp\\ipykernel_10348\\3310917388.py:7: PerformanceWarning: DataFrame is highly fragmented.  This is usually the result of calling `frame.insert` many times, which has poor performance.  Consider joining all columns at once using pd.concat(axis=1) instead. To get a de-fragmented frame, use `newframe = frame.copy()`\n",
      "  us_equities_close[ticker] = data['Adj Close']\n"
     ]
    },
    {
     "name": "stdout",
     "output_type": "stream",
     "text": [
      "\n",
      "\n",
      "1 Failed download:\n",
      "- BF.B: No data found for this date range, symbol may be delisted\n"
     ]
    },
    {
     "name": "stderr",
     "output_type": "stream",
     "text": [
      "C:\\Users\\patel_223gv41\\AppData\\Local\\Temp\\ipykernel_10348\\3310917388.py:7: PerformanceWarning: DataFrame is highly fragmented.  This is usually the result of calling `frame.insert` many times, which has poor performance.  Consider joining all columns at once using pd.concat(axis=1) instead. To get a de-fragmented frame, use `newframe = frame.copy()`\n",
      "  us_equities_close[ticker] = data['Adj Close']\n"
     ]
    },
    {
     "name": "stdout",
     "output_type": "stream",
     "text": [
      "[*********************100%***********************]  1 of 1 completed\n",
      "[*********************100%***********************]  1 of 1 completed"
     ]
    },
    {
     "name": "stderr",
     "output_type": "stream",
     "text": [
      "C:\\Users\\patel_223gv41\\AppData\\Local\\Temp\\ipykernel_10348\\3310917388.py:7: PerformanceWarning: DataFrame is highly fragmented.  This is usually the result of calling `frame.insert` many times, which has poor performance.  Consider joining all columns at once using pd.concat(axis=1) instead. To get a de-fragmented frame, use `newframe = frame.copy()`\n",
      "  us_equities_close[ticker] = data['Adj Close']\n"
     ]
    },
    {
     "name": "stdout",
     "output_type": "stream",
     "text": [
      "\n"
     ]
    },
    {
     "name": "stderr",
     "output_type": "stream",
     "text": [
      "C:\\Users\\patel_223gv41\\AppData\\Local\\Temp\\ipykernel_10348\\3310917388.py:7: PerformanceWarning: DataFrame is highly fragmented.  This is usually the result of calling `frame.insert` many times, which has poor performance.  Consider joining all columns at once using pd.concat(axis=1) instead. To get a de-fragmented frame, use `newframe = frame.copy()`\n",
      "  us_equities_close[ticker] = data['Adj Close']\n"
     ]
    },
    {
     "name": "stdout",
     "output_type": "stream",
     "text": [
      "[*********************100%***********************]  1 of 1 completed\n"
     ]
    },
    {
     "name": "stderr",
     "output_type": "stream",
     "text": [
      "C:\\Users\\patel_223gv41\\AppData\\Local\\Temp\\ipykernel_10348\\3310917388.py:7: PerformanceWarning: DataFrame is highly fragmented.  This is usually the result of calling `frame.insert` many times, which has poor performance.  Consider joining all columns at once using pd.concat(axis=1) instead. To get a de-fragmented frame, use `newframe = frame.copy()`\n",
      "  us_equities_close[ticker] = data['Adj Close']\n"
     ]
    },
    {
     "name": "stdout",
     "output_type": "stream",
     "text": [
      "[*********************100%***********************]  1 of 1 completed\n"
     ]
    },
    {
     "name": "stderr",
     "output_type": "stream",
     "text": [
      "C:\\Users\\patel_223gv41\\AppData\\Local\\Temp\\ipykernel_10348\\3310917388.py:7: PerformanceWarning: DataFrame is highly fragmented.  This is usually the result of calling `frame.insert` many times, which has poor performance.  Consider joining all columns at once using pd.concat(axis=1) instead. To get a de-fragmented frame, use `newframe = frame.copy()`\n",
      "  us_equities_close[ticker] = data['Adj Close']\n"
     ]
    },
    {
     "name": "stdout",
     "output_type": "stream",
     "text": [
      "[*********************100%***********************]  1 of 1 completed\n"
     ]
    },
    {
     "name": "stderr",
     "output_type": "stream",
     "text": [
      "C:\\Users\\patel_223gv41\\AppData\\Local\\Temp\\ipykernel_10348\\3310917388.py:7: PerformanceWarning: DataFrame is highly fragmented.  This is usually the result of calling `frame.insert` many times, which has poor performance.  Consider joining all columns at once using pd.concat(axis=1) instead. To get a de-fragmented frame, use `newframe = frame.copy()`\n",
      "  us_equities_close[ticker] = data['Adj Close']\n"
     ]
    },
    {
     "name": "stdout",
     "output_type": "stream",
     "text": [
      "[*********************100%***********************]  1 of 1 completed\n",
      "[*********************100%***********************]  1 of 1 completed"
     ]
    },
    {
     "name": "stderr",
     "output_type": "stream",
     "text": [
      "C:\\Users\\patel_223gv41\\AppData\\Local\\Temp\\ipykernel_10348\\3310917388.py:7: PerformanceWarning: DataFrame is highly fragmented.  This is usually the result of calling `frame.insert` many times, which has poor performance.  Consider joining all columns at once using pd.concat(axis=1) instead. To get a de-fragmented frame, use `newframe = frame.copy()`\n",
      "  us_equities_close[ticker] = data['Adj Close']\n",
      "C:\\Users\\patel_223gv41\\AppData\\Local\\Temp\\ipykernel_10348\\3310917388.py:7: PerformanceWarning: DataFrame is highly fragmented.  This is usually the result of calling `frame.insert` many times, which has poor performance.  Consider joining all columns at once using pd.concat(axis=1) instead. To get a de-fragmented frame, use `newframe = frame.copy()`\n",
      "  us_equities_close[ticker] = data['Adj Close']\n"
     ]
    },
    {
     "name": "stdout",
     "output_type": "stream",
     "text": [
      "\n",
      "[*********************100%***********************]  1 of 1 completed\n",
      "[*********************100%***********************]  1 of 1 completed"
     ]
    },
    {
     "name": "stderr",
     "output_type": "stream",
     "text": [
      "C:\\Users\\patel_223gv41\\AppData\\Local\\Temp\\ipykernel_10348\\3310917388.py:7: PerformanceWarning: DataFrame is highly fragmented.  This is usually the result of calling `frame.insert` many times, which has poor performance.  Consider joining all columns at once using pd.concat(axis=1) instead. To get a de-fragmented frame, use `newframe = frame.copy()`\n",
      "  us_equities_close[ticker] = data['Adj Close']\n"
     ]
    },
    {
     "name": "stdout",
     "output_type": "stream",
     "text": [
      "\n"
     ]
    },
    {
     "name": "stderr",
     "output_type": "stream",
     "text": [
      "C:\\Users\\patel_223gv41\\AppData\\Local\\Temp\\ipykernel_10348\\3310917388.py:7: PerformanceWarning: DataFrame is highly fragmented.  This is usually the result of calling `frame.insert` many times, which has poor performance.  Consider joining all columns at once using pd.concat(axis=1) instead. To get a de-fragmented frame, use `newframe = frame.copy()`\n",
      "  us_equities_close[ticker] = data['Adj Close']\n"
     ]
    },
    {
     "name": "stdout",
     "output_type": "stream",
     "text": [
      "[*********************100%***********************]  1 of 1 completed\n"
     ]
    },
    {
     "name": "stderr",
     "output_type": "stream",
     "text": [
      "C:\\Users\\patel_223gv41\\AppData\\Local\\Temp\\ipykernel_10348\\3310917388.py:7: PerformanceWarning: DataFrame is highly fragmented.  This is usually the result of calling `frame.insert` many times, which has poor performance.  Consider joining all columns at once using pd.concat(axis=1) instead. To get a de-fragmented frame, use `newframe = frame.copy()`\n",
      "  us_equities_close[ticker] = data['Adj Close']\n"
     ]
    },
    {
     "name": "stdout",
     "output_type": "stream",
     "text": [
      "[*********************100%***********************]  1 of 1 completed\n"
     ]
    },
    {
     "name": "stderr",
     "output_type": "stream",
     "text": [
      "C:\\Users\\patel_223gv41\\AppData\\Local\\Temp\\ipykernel_10348\\3310917388.py:7: PerformanceWarning: DataFrame is highly fragmented.  This is usually the result of calling `frame.insert` many times, which has poor performance.  Consider joining all columns at once using pd.concat(axis=1) instead. To get a de-fragmented frame, use `newframe = frame.copy()`\n",
      "  us_equities_close[ticker] = data['Adj Close']\n"
     ]
    },
    {
     "name": "stdout",
     "output_type": "stream",
     "text": [
      "[*********************100%***********************]  1 of 1 completed\n"
     ]
    },
    {
     "name": "stderr",
     "output_type": "stream",
     "text": [
      "C:\\Users\\patel_223gv41\\AppData\\Local\\Temp\\ipykernel_10348\\3310917388.py:7: PerformanceWarning: DataFrame is highly fragmented.  This is usually the result of calling `frame.insert` many times, which has poor performance.  Consider joining all columns at once using pd.concat(axis=1) instead. To get a de-fragmented frame, use `newframe = frame.copy()`\n",
      "  us_equities_close[ticker] = data['Adj Close']\n"
     ]
    },
    {
     "name": "stdout",
     "output_type": "stream",
     "text": [
      "[*********************100%***********************]  1 of 1 completed\n"
     ]
    },
    {
     "name": "stderr",
     "output_type": "stream",
     "text": [
      "C:\\Users\\patel_223gv41\\AppData\\Local\\Temp\\ipykernel_10348\\3310917388.py:7: PerformanceWarning: DataFrame is highly fragmented.  This is usually the result of calling `frame.insert` many times, which has poor performance.  Consider joining all columns at once using pd.concat(axis=1) instead. To get a de-fragmented frame, use `newframe = frame.copy()`\n",
      "  us_equities_close[ticker] = data['Adj Close']\n"
     ]
    },
    {
     "name": "stdout",
     "output_type": "stream",
     "text": [
      "[*********************100%***********************]  1 of 1 completed\n"
     ]
    },
    {
     "name": "stderr",
     "output_type": "stream",
     "text": [
      "C:\\Users\\patel_223gv41\\AppData\\Local\\Temp\\ipykernel_10348\\3310917388.py:7: PerformanceWarning: DataFrame is highly fragmented.  This is usually the result of calling `frame.insert` many times, which has poor performance.  Consider joining all columns at once using pd.concat(axis=1) instead. To get a de-fragmented frame, use `newframe = frame.copy()`\n",
      "  us_equities_close[ticker] = data['Adj Close']\n"
     ]
    },
    {
     "name": "stdout",
     "output_type": "stream",
     "text": [
      "[*********************100%***********************]  1 of 1 completed\n"
     ]
    },
    {
     "name": "stderr",
     "output_type": "stream",
     "text": [
      "C:\\Users\\patel_223gv41\\AppData\\Local\\Temp\\ipykernel_10348\\3310917388.py:7: PerformanceWarning: DataFrame is highly fragmented.  This is usually the result of calling `frame.insert` many times, which has poor performance.  Consider joining all columns at once using pd.concat(axis=1) instead. To get a de-fragmented frame, use `newframe = frame.copy()`\n",
      "  us_equities_close[ticker] = data['Adj Close']\n"
     ]
    },
    {
     "name": "stdout",
     "output_type": "stream",
     "text": [
      "[*********************100%***********************]  1 of 1 completed\n"
     ]
    },
    {
     "name": "stderr",
     "output_type": "stream",
     "text": [
      "C:\\Users\\patel_223gv41\\AppData\\Local\\Temp\\ipykernel_10348\\3310917388.py:7: PerformanceWarning: DataFrame is highly fragmented.  This is usually the result of calling `frame.insert` many times, which has poor performance.  Consider joining all columns at once using pd.concat(axis=1) instead. To get a de-fragmented frame, use `newframe = frame.copy()`\n",
      "  us_equities_close[ticker] = data['Adj Close']\n"
     ]
    },
    {
     "name": "stdout",
     "output_type": "stream",
     "text": [
      "[*********************100%***********************]  1 of 1 completed\n",
      "[*********************100%***********************]  1 of 1 completed"
     ]
    },
    {
     "name": "stderr",
     "output_type": "stream",
     "text": [
      "C:\\Users\\patel_223gv41\\AppData\\Local\\Temp\\ipykernel_10348\\3310917388.py:7: PerformanceWarning: DataFrame is highly fragmented.  This is usually the result of calling `frame.insert` many times, which has poor performance.  Consider joining all columns at once using pd.concat(axis=1) instead. To get a de-fragmented frame, use `newframe = frame.copy()`\n",
      "  us_equities_close[ticker] = data['Adj Close']\n"
     ]
    },
    {
     "name": "stdout",
     "output_type": "stream",
     "text": [
      "\n"
     ]
    },
    {
     "name": "stderr",
     "output_type": "stream",
     "text": [
      "C:\\Users\\patel_223gv41\\AppData\\Local\\Temp\\ipykernel_10348\\3310917388.py:7: PerformanceWarning: DataFrame is highly fragmented.  This is usually the result of calling `frame.insert` many times, which has poor performance.  Consider joining all columns at once using pd.concat(axis=1) instead. To get a de-fragmented frame, use `newframe = frame.copy()`\n",
      "  us_equities_close[ticker] = data['Adj Close']\n"
     ]
    },
    {
     "name": "stdout",
     "output_type": "stream",
     "text": [
      "[*********************100%***********************]  1 of 1 completed\n",
      "[*********************100%***********************]  1 of 1 completed"
     ]
    },
    {
     "name": "stderr",
     "output_type": "stream",
     "text": [
      "C:\\Users\\patel_223gv41\\AppData\\Local\\Temp\\ipykernel_10348\\3310917388.py:7: PerformanceWarning: DataFrame is highly fragmented.  This is usually the result of calling `frame.insert` many times, which has poor performance.  Consider joining all columns at once using pd.concat(axis=1) instead. To get a de-fragmented frame, use `newframe = frame.copy()`\n",
      "  us_equities_close[ticker] = data['Adj Close']\n"
     ]
    },
    {
     "name": "stdout",
     "output_type": "stream",
     "text": [
      "\n",
      "[*********************100%***********************]  1 of 1 completed"
     ]
    },
    {
     "name": "stderr",
     "output_type": "stream",
     "text": [
      "C:\\Users\\patel_223gv41\\AppData\\Local\\Temp\\ipykernel_10348\\3310917388.py:7: PerformanceWarning: DataFrame is highly fragmented.  This is usually the result of calling `frame.insert` many times, which has poor performance.  Consider joining all columns at once using pd.concat(axis=1) instead. To get a de-fragmented frame, use `newframe = frame.copy()`\n",
      "  us_equities_close[ticker] = data['Adj Close']\n"
     ]
    },
    {
     "name": "stdout",
     "output_type": "stream",
     "text": [
      "\n"
     ]
    },
    {
     "name": "stderr",
     "output_type": "stream",
     "text": [
      "C:\\Users\\patel_223gv41\\AppData\\Local\\Temp\\ipykernel_10348\\3310917388.py:7: PerformanceWarning: DataFrame is highly fragmented.  This is usually the result of calling `frame.insert` many times, which has poor performance.  Consider joining all columns at once using pd.concat(axis=1) instead. To get a de-fragmented frame, use `newframe = frame.copy()`\n",
      "  us_equities_close[ticker] = data['Adj Close']\n"
     ]
    },
    {
     "name": "stdout",
     "output_type": "stream",
     "text": [
      "[*********************100%***********************]  1 of 1 completed\n"
     ]
    },
    {
     "name": "stderr",
     "output_type": "stream",
     "text": [
      "C:\\Users\\patel_223gv41\\AppData\\Local\\Temp\\ipykernel_10348\\3310917388.py:7: PerformanceWarning: DataFrame is highly fragmented.  This is usually the result of calling `frame.insert` many times, which has poor performance.  Consider joining all columns at once using pd.concat(axis=1) instead. To get a de-fragmented frame, use `newframe = frame.copy()`\n",
      "  us_equities_close[ticker] = data['Adj Close']\n"
     ]
    },
    {
     "name": "stdout",
     "output_type": "stream",
     "text": [
      "[*********************100%***********************]  1 of 1 completed\n"
     ]
    },
    {
     "name": "stderr",
     "output_type": "stream",
     "text": [
      "C:\\Users\\patel_223gv41\\AppData\\Local\\Temp\\ipykernel_10348\\3310917388.py:7: PerformanceWarning: DataFrame is highly fragmented.  This is usually the result of calling `frame.insert` many times, which has poor performance.  Consider joining all columns at once using pd.concat(axis=1) instead. To get a de-fragmented frame, use `newframe = frame.copy()`\n",
      "  us_equities_close[ticker] = data['Adj Close']\n"
     ]
    },
    {
     "name": "stdout",
     "output_type": "stream",
     "text": [
      "[*********************100%***********************]  1 of 1 completed\n"
     ]
    },
    {
     "name": "stderr",
     "output_type": "stream",
     "text": [
      "C:\\Users\\patel_223gv41\\AppData\\Local\\Temp\\ipykernel_10348\\3310917388.py:7: PerformanceWarning: DataFrame is highly fragmented.  This is usually the result of calling `frame.insert` many times, which has poor performance.  Consider joining all columns at once using pd.concat(axis=1) instead. To get a de-fragmented frame, use `newframe = frame.copy()`\n",
      "  us_equities_close[ticker] = data['Adj Close']\n"
     ]
    },
    {
     "name": "stdout",
     "output_type": "stream",
     "text": [
      "[*********************100%***********************]  1 of 1 completed\n"
     ]
    },
    {
     "name": "stderr",
     "output_type": "stream",
     "text": [
      "C:\\Users\\patel_223gv41\\AppData\\Local\\Temp\\ipykernel_10348\\3310917388.py:7: PerformanceWarning: DataFrame is highly fragmented.  This is usually the result of calling `frame.insert` many times, which has poor performance.  Consider joining all columns at once using pd.concat(axis=1) instead. To get a de-fragmented frame, use `newframe = frame.copy()`\n",
      "  us_equities_close[ticker] = data['Adj Close']\n"
     ]
    },
    {
     "name": "stdout",
     "output_type": "stream",
     "text": [
      "[*********************100%***********************]  1 of 1 completed\n"
     ]
    },
    {
     "name": "stderr",
     "output_type": "stream",
     "text": [
      "C:\\Users\\patel_223gv41\\AppData\\Local\\Temp\\ipykernel_10348\\3310917388.py:7: PerformanceWarning: DataFrame is highly fragmented.  This is usually the result of calling `frame.insert` many times, which has poor performance.  Consider joining all columns at once using pd.concat(axis=1) instead. To get a de-fragmented frame, use `newframe = frame.copy()`\n",
      "  us_equities_close[ticker] = data['Adj Close']\n"
     ]
    },
    {
     "name": "stdout",
     "output_type": "stream",
     "text": [
      "[*********************100%***********************]  1 of 1 completed\n",
      "[*********************100%***********************]  1 of 1 completed\n"
     ]
    },
    {
     "name": "stderr",
     "output_type": "stream",
     "text": [
      "C:\\Users\\patel_223gv41\\AppData\\Local\\Temp\\ipykernel_10348\\3310917388.py:7: PerformanceWarning: DataFrame is highly fragmented.  This is usually the result of calling `frame.insert` many times, which has poor performance.  Consider joining all columns at once using pd.concat(axis=1) instead. To get a de-fragmented frame, use `newframe = frame.copy()`\n",
      "  us_equities_close[ticker] = data['Adj Close']\n",
      "C:\\Users\\patel_223gv41\\AppData\\Local\\Temp\\ipykernel_10348\\3310917388.py:7: PerformanceWarning: DataFrame is highly fragmented.  This is usually the result of calling `frame.insert` many times, which has poor performance.  Consider joining all columns at once using pd.concat(axis=1) instead. To get a de-fragmented frame, use `newframe = frame.copy()`\n",
      "  us_equities_close[ticker] = data['Adj Close']\n"
     ]
    },
    {
     "name": "stdout",
     "output_type": "stream",
     "text": [
      "[*********************100%***********************]  1 of 1 completed\n"
     ]
    },
    {
     "name": "stderr",
     "output_type": "stream",
     "text": [
      "C:\\Users\\patel_223gv41\\AppData\\Local\\Temp\\ipykernel_10348\\3310917388.py:7: PerformanceWarning: DataFrame is highly fragmented.  This is usually the result of calling `frame.insert` many times, which has poor performance.  Consider joining all columns at once using pd.concat(axis=1) instead. To get a de-fragmented frame, use `newframe = frame.copy()`\n",
      "  us_equities_close[ticker] = data['Adj Close']\n"
     ]
    },
    {
     "name": "stdout",
     "output_type": "stream",
     "text": [
      "[*********************100%***********************]  1 of 1 completed\n"
     ]
    },
    {
     "name": "stderr",
     "output_type": "stream",
     "text": [
      "C:\\Users\\patel_223gv41\\AppData\\Local\\Temp\\ipykernel_10348\\3310917388.py:7: PerformanceWarning: DataFrame is highly fragmented.  This is usually the result of calling `frame.insert` many times, which has poor performance.  Consider joining all columns at once using pd.concat(axis=1) instead. To get a de-fragmented frame, use `newframe = frame.copy()`\n",
      "  us_equities_close[ticker] = data['Adj Close']\n"
     ]
    },
    {
     "name": "stdout",
     "output_type": "stream",
     "text": [
      "[*********************100%***********************]  1 of 1 completed\n"
     ]
    },
    {
     "name": "stderr",
     "output_type": "stream",
     "text": [
      "C:\\Users\\patel_223gv41\\AppData\\Local\\Temp\\ipykernel_10348\\3310917388.py:7: PerformanceWarning: DataFrame is highly fragmented.  This is usually the result of calling `frame.insert` many times, which has poor performance.  Consider joining all columns at once using pd.concat(axis=1) instead. To get a de-fragmented frame, use `newframe = frame.copy()`\n",
      "  us_equities_close[ticker] = data['Adj Close']\n"
     ]
    },
    {
     "name": "stdout",
     "output_type": "stream",
     "text": [
      "[*********************100%***********************]  1 of 1 completed\n"
     ]
    },
    {
     "name": "stderr",
     "output_type": "stream",
     "text": [
      "C:\\Users\\patel_223gv41\\AppData\\Local\\Temp\\ipykernel_10348\\3310917388.py:7: PerformanceWarning: DataFrame is highly fragmented.  This is usually the result of calling `frame.insert` many times, which has poor performance.  Consider joining all columns at once using pd.concat(axis=1) instead. To get a de-fragmented frame, use `newframe = frame.copy()`\n",
      "  us_equities_close[ticker] = data['Adj Close']\n"
     ]
    },
    {
     "name": "stdout",
     "output_type": "stream",
     "text": [
      "[*********************100%***********************]  1 of 1 completed\n"
     ]
    },
    {
     "name": "stderr",
     "output_type": "stream",
     "text": [
      "C:\\Users\\patel_223gv41\\AppData\\Local\\Temp\\ipykernel_10348\\3310917388.py:7: PerformanceWarning: DataFrame is highly fragmented.  This is usually the result of calling `frame.insert` many times, which has poor performance.  Consider joining all columns at once using pd.concat(axis=1) instead. To get a de-fragmented frame, use `newframe = frame.copy()`\n",
      "  us_equities_close[ticker] = data['Adj Close']\n"
     ]
    },
    {
     "name": "stdout",
     "output_type": "stream",
     "text": [
      "[*********************100%***********************]  1 of 1 completed\n"
     ]
    },
    {
     "name": "stderr",
     "output_type": "stream",
     "text": [
      "C:\\Users\\patel_223gv41\\AppData\\Local\\Temp\\ipykernel_10348\\3310917388.py:7: PerformanceWarning: DataFrame is highly fragmented.  This is usually the result of calling `frame.insert` many times, which has poor performance.  Consider joining all columns at once using pd.concat(axis=1) instead. To get a de-fragmented frame, use `newframe = frame.copy()`\n",
      "  us_equities_close[ticker] = data['Adj Close']\n"
     ]
    },
    {
     "name": "stdout",
     "output_type": "stream",
     "text": [
      "[*********************100%***********************]  1 of 1 completed\n"
     ]
    },
    {
     "name": "stderr",
     "output_type": "stream",
     "text": [
      "C:\\Users\\patel_223gv41\\AppData\\Local\\Temp\\ipykernel_10348\\3310917388.py:7: PerformanceWarning: DataFrame is highly fragmented.  This is usually the result of calling `frame.insert` many times, which has poor performance.  Consider joining all columns at once using pd.concat(axis=1) instead. To get a de-fragmented frame, use `newframe = frame.copy()`\n",
      "  us_equities_close[ticker] = data['Adj Close']\n"
     ]
    },
    {
     "name": "stdout",
     "output_type": "stream",
     "text": [
      "[*********************100%***********************]  1 of 1 completed\n",
      "[*********************100%***********************]  1 of 1 completed"
     ]
    },
    {
     "name": "stderr",
     "output_type": "stream",
     "text": [
      "C:\\Users\\patel_223gv41\\AppData\\Local\\Temp\\ipykernel_10348\\3310917388.py:7: PerformanceWarning: DataFrame is highly fragmented.  This is usually the result of calling `frame.insert` many times, which has poor performance.  Consider joining all columns at once using pd.concat(axis=1) instead. To get a de-fragmented frame, use `newframe = frame.copy()`\n",
      "  us_equities_close[ticker] = data['Adj Close']\n",
      "C:\\Users\\patel_223gv41\\AppData\\Local\\Temp\\ipykernel_10348\\3310917388.py:7: PerformanceWarning: DataFrame is highly fragmented.  This is usually the result of calling `frame.insert` many times, which has poor performance.  Consider joining all columns at once using pd.concat(axis=1) instead. To get a de-fragmented frame, use `newframe = frame.copy()`\n",
      "  us_equities_close[ticker] = data['Adj Close']\n"
     ]
    },
    {
     "name": "stdout",
     "output_type": "stream",
     "text": [
      "\n",
      "[*********************100%***********************]  1 of 1 completed\n"
     ]
    },
    {
     "name": "stderr",
     "output_type": "stream",
     "text": [
      "C:\\Users\\patel_223gv41\\AppData\\Local\\Temp\\ipykernel_10348\\3310917388.py:7: PerformanceWarning: DataFrame is highly fragmented.  This is usually the result of calling `frame.insert` many times, which has poor performance.  Consider joining all columns at once using pd.concat(axis=1) instead. To get a de-fragmented frame, use `newframe = frame.copy()`\n",
      "  us_equities_close[ticker] = data['Adj Close']\n"
     ]
    },
    {
     "name": "stdout",
     "output_type": "stream",
     "text": [
      "[*********************100%***********************]  1 of 1 completed\n"
     ]
    },
    {
     "name": "stderr",
     "output_type": "stream",
     "text": [
      "C:\\Users\\patel_223gv41\\AppData\\Local\\Temp\\ipykernel_10348\\3310917388.py:7: PerformanceWarning: DataFrame is highly fragmented.  This is usually the result of calling `frame.insert` many times, which has poor performance.  Consider joining all columns at once using pd.concat(axis=1) instead. To get a de-fragmented frame, use `newframe = frame.copy()`\n",
      "  us_equities_close[ticker] = data['Adj Close']\n"
     ]
    },
    {
     "name": "stdout",
     "output_type": "stream",
     "text": [
      "[*********************100%***********************]  1 of 1 completed\n"
     ]
    },
    {
     "name": "stderr",
     "output_type": "stream",
     "text": [
      "C:\\Users\\patel_223gv41\\AppData\\Local\\Temp\\ipykernel_10348\\3310917388.py:7: PerformanceWarning: DataFrame is highly fragmented.  This is usually the result of calling `frame.insert` many times, which has poor performance.  Consider joining all columns at once using pd.concat(axis=1) instead. To get a de-fragmented frame, use `newframe = frame.copy()`\n",
      "  us_equities_close[ticker] = data['Adj Close']\n"
     ]
    },
    {
     "name": "stdout",
     "output_type": "stream",
     "text": [
      "[*********************100%***********************]  1 of 1 completed\n"
     ]
    },
    {
     "name": "stderr",
     "output_type": "stream",
     "text": [
      "C:\\Users\\patel_223gv41\\AppData\\Local\\Temp\\ipykernel_10348\\3310917388.py:7: PerformanceWarning: DataFrame is highly fragmented.  This is usually the result of calling `frame.insert` many times, which has poor performance.  Consider joining all columns at once using pd.concat(axis=1) instead. To get a de-fragmented frame, use `newframe = frame.copy()`\n",
      "  us_equities_close[ticker] = data['Adj Close']\n"
     ]
    },
    {
     "name": "stdout",
     "output_type": "stream",
     "text": [
      "[*********************100%***********************]  1 of 1 completed\n"
     ]
    },
    {
     "name": "stderr",
     "output_type": "stream",
     "text": [
      "C:\\Users\\patel_223gv41\\AppData\\Local\\Temp\\ipykernel_10348\\3310917388.py:7: PerformanceWarning: DataFrame is highly fragmented.  This is usually the result of calling `frame.insert` many times, which has poor performance.  Consider joining all columns at once using pd.concat(axis=1) instead. To get a de-fragmented frame, use `newframe = frame.copy()`\n",
      "  us_equities_close[ticker] = data['Adj Close']\n"
     ]
    },
    {
     "name": "stdout",
     "output_type": "stream",
     "text": [
      "[*********************100%***********************]  1 of 1 completed\n"
     ]
    },
    {
     "name": "stderr",
     "output_type": "stream",
     "text": [
      "C:\\Users\\patel_223gv41\\AppData\\Local\\Temp\\ipykernel_10348\\3310917388.py:7: PerformanceWarning: DataFrame is highly fragmented.  This is usually the result of calling `frame.insert` many times, which has poor performance.  Consider joining all columns at once using pd.concat(axis=1) instead. To get a de-fragmented frame, use `newframe = frame.copy()`\n",
      "  us_equities_close[ticker] = data['Adj Close']\n"
     ]
    },
    {
     "name": "stdout",
     "output_type": "stream",
     "text": [
      "[*********************100%***********************]  1 of 1 completed\n"
     ]
    },
    {
     "name": "stderr",
     "output_type": "stream",
     "text": [
      "C:\\Users\\patel_223gv41\\AppData\\Local\\Temp\\ipykernel_10348\\3310917388.py:7: PerformanceWarning: DataFrame is highly fragmented.  This is usually the result of calling `frame.insert` many times, which has poor performance.  Consider joining all columns at once using pd.concat(axis=1) instead. To get a de-fragmented frame, use `newframe = frame.copy()`\n",
      "  us_equities_close[ticker] = data['Adj Close']\n"
     ]
    },
    {
     "name": "stdout",
     "output_type": "stream",
     "text": [
      "[*********************100%***********************]  1 of 1 completed\n"
     ]
    },
    {
     "name": "stderr",
     "output_type": "stream",
     "text": [
      "C:\\Users\\patel_223gv41\\AppData\\Local\\Temp\\ipykernel_10348\\3310917388.py:7: PerformanceWarning: DataFrame is highly fragmented.  This is usually the result of calling `frame.insert` many times, which has poor performance.  Consider joining all columns at once using pd.concat(axis=1) instead. To get a de-fragmented frame, use `newframe = frame.copy()`\n",
      "  us_equities_close[ticker] = data['Adj Close']\n"
     ]
    },
    {
     "name": "stdout",
     "output_type": "stream",
     "text": [
      "[*********************100%***********************]  1 of 1 completed\n"
     ]
    },
    {
     "name": "stderr",
     "output_type": "stream",
     "text": [
      "C:\\Users\\patel_223gv41\\AppData\\Local\\Temp\\ipykernel_10348\\3310917388.py:7: PerformanceWarning: DataFrame is highly fragmented.  This is usually the result of calling `frame.insert` many times, which has poor performance.  Consider joining all columns at once using pd.concat(axis=1) instead. To get a de-fragmented frame, use `newframe = frame.copy()`\n",
      "  us_equities_close[ticker] = data['Adj Close']\n"
     ]
    },
    {
     "name": "stdout",
     "output_type": "stream",
     "text": [
      "[*********************100%***********************]  1 of 1 completed\n"
     ]
    },
    {
     "name": "stderr",
     "output_type": "stream",
     "text": [
      "C:\\Users\\patel_223gv41\\AppData\\Local\\Temp\\ipykernel_10348\\3310917388.py:7: PerformanceWarning: DataFrame is highly fragmented.  This is usually the result of calling `frame.insert` many times, which has poor performance.  Consider joining all columns at once using pd.concat(axis=1) instead. To get a de-fragmented frame, use `newframe = frame.copy()`\n",
      "  us_equities_close[ticker] = data['Adj Close']\n"
     ]
    },
    {
     "name": "stdout",
     "output_type": "stream",
     "text": [
      "[*********************100%***********************]  1 of 1 completed\n"
     ]
    },
    {
     "name": "stderr",
     "output_type": "stream",
     "text": [
      "C:\\Users\\patel_223gv41\\AppData\\Local\\Temp\\ipykernel_10348\\3310917388.py:7: PerformanceWarning: DataFrame is highly fragmented.  This is usually the result of calling `frame.insert` many times, which has poor performance.  Consider joining all columns at once using pd.concat(axis=1) instead. To get a de-fragmented frame, use `newframe = frame.copy()`\n",
      "  us_equities_close[ticker] = data['Adj Close']\n"
     ]
    },
    {
     "name": "stdout",
     "output_type": "stream",
     "text": [
      "[*********************100%***********************]  1 of 1 completed\n"
     ]
    },
    {
     "name": "stderr",
     "output_type": "stream",
     "text": [
      "C:\\Users\\patel_223gv41\\AppData\\Local\\Temp\\ipykernel_10348\\3310917388.py:7: PerformanceWarning: DataFrame is highly fragmented.  This is usually the result of calling `frame.insert` many times, which has poor performance.  Consider joining all columns at once using pd.concat(axis=1) instead. To get a de-fragmented frame, use `newframe = frame.copy()`\n",
      "  us_equities_close[ticker] = data['Adj Close']\n"
     ]
    },
    {
     "name": "stdout",
     "output_type": "stream",
     "text": [
      "[*********************100%***********************]  1 of 1 completed\n"
     ]
    },
    {
     "name": "stderr",
     "output_type": "stream",
     "text": [
      "C:\\Users\\patel_223gv41\\AppData\\Local\\Temp\\ipykernel_10348\\3310917388.py:7: PerformanceWarning: DataFrame is highly fragmented.  This is usually the result of calling `frame.insert` many times, which has poor performance.  Consider joining all columns at once using pd.concat(axis=1) instead. To get a de-fragmented frame, use `newframe = frame.copy()`\n",
      "  us_equities_close[ticker] = data['Adj Close']\n"
     ]
    },
    {
     "name": "stdout",
     "output_type": "stream",
     "text": [
      "[*********************100%***********************]  1 of 1 completed\n"
     ]
    },
    {
     "name": "stderr",
     "output_type": "stream",
     "text": [
      "C:\\Users\\patel_223gv41\\AppData\\Local\\Temp\\ipykernel_10348\\3310917388.py:7: PerformanceWarning: DataFrame is highly fragmented.  This is usually the result of calling `frame.insert` many times, which has poor performance.  Consider joining all columns at once using pd.concat(axis=1) instead. To get a de-fragmented frame, use `newframe = frame.copy()`\n",
      "  us_equities_close[ticker] = data['Adj Close']\n"
     ]
    },
    {
     "name": "stdout",
     "output_type": "stream",
     "text": [
      "[*********************100%***********************]  1 of 1 completed\n",
      "[*********************100%***********************]  1 of 1 completed"
     ]
    },
    {
     "name": "stderr",
     "output_type": "stream",
     "text": [
      "C:\\Users\\patel_223gv41\\AppData\\Local\\Temp\\ipykernel_10348\\3310917388.py:7: PerformanceWarning: DataFrame is highly fragmented.  This is usually the result of calling `frame.insert` many times, which has poor performance.  Consider joining all columns at once using pd.concat(axis=1) instead. To get a de-fragmented frame, use `newframe = frame.copy()`\n",
      "  us_equities_close[ticker] = data['Adj Close']\n"
     ]
    },
    {
     "name": "stdout",
     "output_type": "stream",
     "text": [
      "\n"
     ]
    },
    {
     "name": "stderr",
     "output_type": "stream",
     "text": [
      "C:\\Users\\patel_223gv41\\AppData\\Local\\Temp\\ipykernel_10348\\3310917388.py:7: PerformanceWarning: DataFrame is highly fragmented.  This is usually the result of calling `frame.insert` many times, which has poor performance.  Consider joining all columns at once using pd.concat(axis=1) instead. To get a de-fragmented frame, use `newframe = frame.copy()`\n",
      "  us_equities_close[ticker] = data['Adj Close']\n"
     ]
    },
    {
     "name": "stdout",
     "output_type": "stream",
     "text": [
      "[*********************100%***********************]  1 of 1 completed\n"
     ]
    },
    {
     "name": "stderr",
     "output_type": "stream",
     "text": [
      "C:\\Users\\patel_223gv41\\AppData\\Local\\Temp\\ipykernel_10348\\3310917388.py:7: PerformanceWarning: DataFrame is highly fragmented.  This is usually the result of calling `frame.insert` many times, which has poor performance.  Consider joining all columns at once using pd.concat(axis=1) instead. To get a de-fragmented frame, use `newframe = frame.copy()`\n",
      "  us_equities_close[ticker] = data['Adj Close']\n"
     ]
    },
    {
     "name": "stdout",
     "output_type": "stream",
     "text": [
      "[*********************100%***********************]  1 of 1 completed\n"
     ]
    },
    {
     "name": "stderr",
     "output_type": "stream",
     "text": [
      "C:\\Users\\patel_223gv41\\AppData\\Local\\Temp\\ipykernel_10348\\3310917388.py:7: PerformanceWarning: DataFrame is highly fragmented.  This is usually the result of calling `frame.insert` many times, which has poor performance.  Consider joining all columns at once using pd.concat(axis=1) instead. To get a de-fragmented frame, use `newframe = frame.copy()`\n",
      "  us_equities_close[ticker] = data['Adj Close']\n"
     ]
    },
    {
     "name": "stdout",
     "output_type": "stream",
     "text": [
      "[*********************100%***********************]  1 of 1 completed\n"
     ]
    },
    {
     "name": "stderr",
     "output_type": "stream",
     "text": [
      "C:\\Users\\patel_223gv41\\AppData\\Local\\Temp\\ipykernel_10348\\3310917388.py:7: PerformanceWarning: DataFrame is highly fragmented.  This is usually the result of calling `frame.insert` many times, which has poor performance.  Consider joining all columns at once using pd.concat(axis=1) instead. To get a de-fragmented frame, use `newframe = frame.copy()`\n",
      "  us_equities_close[ticker] = data['Adj Close']\n"
     ]
    },
    {
     "name": "stdout",
     "output_type": "stream",
     "text": [
      "[*********************100%***********************]  1 of 1 completed\n"
     ]
    },
    {
     "name": "stderr",
     "output_type": "stream",
     "text": [
      "C:\\Users\\patel_223gv41\\AppData\\Local\\Temp\\ipykernel_10348\\3310917388.py:7: PerformanceWarning: DataFrame is highly fragmented.  This is usually the result of calling `frame.insert` many times, which has poor performance.  Consider joining all columns at once using pd.concat(axis=1) instead. To get a de-fragmented frame, use `newframe = frame.copy()`\n",
      "  us_equities_close[ticker] = data['Adj Close']\n"
     ]
    },
    {
     "name": "stdout",
     "output_type": "stream",
     "text": [
      "[*********************100%***********************]  1 of 1 completed\n"
     ]
    },
    {
     "name": "stderr",
     "output_type": "stream",
     "text": [
      "C:\\Users\\patel_223gv41\\AppData\\Local\\Temp\\ipykernel_10348\\3310917388.py:7: PerformanceWarning: DataFrame is highly fragmented.  This is usually the result of calling `frame.insert` many times, which has poor performance.  Consider joining all columns at once using pd.concat(axis=1) instead. To get a de-fragmented frame, use `newframe = frame.copy()`\n",
      "  us_equities_close[ticker] = data['Adj Close']\n"
     ]
    },
    {
     "name": "stdout",
     "output_type": "stream",
     "text": [
      "[*********************100%***********************]  1 of 1 completed\n"
     ]
    },
    {
     "name": "stderr",
     "output_type": "stream",
     "text": [
      "C:\\Users\\patel_223gv41\\AppData\\Local\\Temp\\ipykernel_10348\\3310917388.py:7: PerformanceWarning: DataFrame is highly fragmented.  This is usually the result of calling `frame.insert` many times, which has poor performance.  Consider joining all columns at once using pd.concat(axis=1) instead. To get a de-fragmented frame, use `newframe = frame.copy()`\n",
      "  us_equities_close[ticker] = data['Adj Close']\n"
     ]
    },
    {
     "name": "stdout",
     "output_type": "stream",
     "text": [
      "[*********************100%***********************]  1 of 1 completed\n"
     ]
    },
    {
     "name": "stderr",
     "output_type": "stream",
     "text": [
      "C:\\Users\\patel_223gv41\\AppData\\Local\\Temp\\ipykernel_10348\\3310917388.py:7: PerformanceWarning: DataFrame is highly fragmented.  This is usually the result of calling `frame.insert` many times, which has poor performance.  Consider joining all columns at once using pd.concat(axis=1) instead. To get a de-fragmented frame, use `newframe = frame.copy()`\n",
      "  us_equities_close[ticker] = data['Adj Close']\n"
     ]
    },
    {
     "name": "stdout",
     "output_type": "stream",
     "text": [
      "[*********************100%***********************]  1 of 1 completed\n"
     ]
    },
    {
     "name": "stderr",
     "output_type": "stream",
     "text": [
      "C:\\Users\\patel_223gv41\\AppData\\Local\\Temp\\ipykernel_10348\\3310917388.py:7: PerformanceWarning: DataFrame is highly fragmented.  This is usually the result of calling `frame.insert` many times, which has poor performance.  Consider joining all columns at once using pd.concat(axis=1) instead. To get a de-fragmented frame, use `newframe = frame.copy()`\n",
      "  us_equities_close[ticker] = data['Adj Close']\n"
     ]
    },
    {
     "name": "stdout",
     "output_type": "stream",
     "text": [
      "[*********************100%***********************]  1 of 1 completed\n"
     ]
    },
    {
     "name": "stderr",
     "output_type": "stream",
     "text": [
      "C:\\Users\\patel_223gv41\\AppData\\Local\\Temp\\ipykernel_10348\\3310917388.py:7: PerformanceWarning: DataFrame is highly fragmented.  This is usually the result of calling `frame.insert` many times, which has poor performance.  Consider joining all columns at once using pd.concat(axis=1) instead. To get a de-fragmented frame, use `newframe = frame.copy()`\n",
      "  us_equities_close[ticker] = data['Adj Close']\n"
     ]
    },
    {
     "name": "stdout",
     "output_type": "stream",
     "text": [
      "[*********************100%***********************]  1 of 1 completed\n",
      "[*********************100%***********************]  1 of 1 completed"
     ]
    },
    {
     "name": "stderr",
     "output_type": "stream",
     "text": [
      "C:\\Users\\patel_223gv41\\AppData\\Local\\Temp\\ipykernel_10348\\3310917388.py:7: PerformanceWarning: DataFrame is highly fragmented.  This is usually the result of calling `frame.insert` many times, which has poor performance.  Consider joining all columns at once using pd.concat(axis=1) instead. To get a de-fragmented frame, use `newframe = frame.copy()`\n",
      "  us_equities_close[ticker] = data['Adj Close']\n"
     ]
    },
    {
     "name": "stdout",
     "output_type": "stream",
     "text": [
      "\n"
     ]
    },
    {
     "name": "stderr",
     "output_type": "stream",
     "text": [
      "C:\\Users\\patel_223gv41\\AppData\\Local\\Temp\\ipykernel_10348\\3310917388.py:7: PerformanceWarning: DataFrame is highly fragmented.  This is usually the result of calling `frame.insert` many times, which has poor performance.  Consider joining all columns at once using pd.concat(axis=1) instead. To get a de-fragmented frame, use `newframe = frame.copy()`\n",
      "  us_equities_close[ticker] = data['Adj Close']\n"
     ]
    },
    {
     "name": "stdout",
     "output_type": "stream",
     "text": [
      "[*********************100%***********************]  1 of 1 completed\n"
     ]
    },
    {
     "name": "stderr",
     "output_type": "stream",
     "text": [
      "C:\\Users\\patel_223gv41\\AppData\\Local\\Temp\\ipykernel_10348\\3310917388.py:7: PerformanceWarning: DataFrame is highly fragmented.  This is usually the result of calling `frame.insert` many times, which has poor performance.  Consider joining all columns at once using pd.concat(axis=1) instead. To get a de-fragmented frame, use `newframe = frame.copy()`\n",
      "  us_equities_close[ticker] = data['Adj Close']\n"
     ]
    },
    {
     "name": "stdout",
     "output_type": "stream",
     "text": [
      "[*********************100%***********************]  1 of 1 completed\n"
     ]
    },
    {
     "name": "stderr",
     "output_type": "stream",
     "text": [
      "C:\\Users\\patel_223gv41\\AppData\\Local\\Temp\\ipykernel_10348\\3310917388.py:7: PerformanceWarning: DataFrame is highly fragmented.  This is usually the result of calling `frame.insert` many times, which has poor performance.  Consider joining all columns at once using pd.concat(axis=1) instead. To get a de-fragmented frame, use `newframe = frame.copy()`\n",
      "  us_equities_close[ticker] = data['Adj Close']\n"
     ]
    },
    {
     "name": "stdout",
     "output_type": "stream",
     "text": [
      "[*********************100%***********************]  1 of 1 completed\n"
     ]
    },
    {
     "name": "stderr",
     "output_type": "stream",
     "text": [
      "C:\\Users\\patel_223gv41\\AppData\\Local\\Temp\\ipykernel_10348\\3310917388.py:7: PerformanceWarning: DataFrame is highly fragmented.  This is usually the result of calling `frame.insert` many times, which has poor performance.  Consider joining all columns at once using pd.concat(axis=1) instead. To get a de-fragmented frame, use `newframe = frame.copy()`\n",
      "  us_equities_close[ticker] = data['Adj Close']\n"
     ]
    },
    {
     "name": "stdout",
     "output_type": "stream",
     "text": [
      "[*********************100%***********************]  1 of 1 completed\n"
     ]
    },
    {
     "name": "stderr",
     "output_type": "stream",
     "text": [
      "C:\\Users\\patel_223gv41\\AppData\\Local\\Temp\\ipykernel_10348\\3310917388.py:7: PerformanceWarning: DataFrame is highly fragmented.  This is usually the result of calling `frame.insert` many times, which has poor performance.  Consider joining all columns at once using pd.concat(axis=1) instead. To get a de-fragmented frame, use `newframe = frame.copy()`\n",
      "  us_equities_close[ticker] = data['Adj Close']\n"
     ]
    },
    {
     "name": "stdout",
     "output_type": "stream",
     "text": [
      "[*********************100%***********************]  1 of 1 completed\n"
     ]
    },
    {
     "name": "stderr",
     "output_type": "stream",
     "text": [
      "C:\\Users\\patel_223gv41\\AppData\\Local\\Temp\\ipykernel_10348\\3310917388.py:7: PerformanceWarning: DataFrame is highly fragmented.  This is usually the result of calling `frame.insert` many times, which has poor performance.  Consider joining all columns at once using pd.concat(axis=1) instead. To get a de-fragmented frame, use `newframe = frame.copy()`\n",
      "  us_equities_close[ticker] = data['Adj Close']\n"
     ]
    },
    {
     "name": "stdout",
     "output_type": "stream",
     "text": [
      "[*********************100%***********************]  1 of 1 completed\n"
     ]
    },
    {
     "name": "stderr",
     "output_type": "stream",
     "text": [
      "C:\\Users\\patel_223gv41\\AppData\\Local\\Temp\\ipykernel_10348\\3310917388.py:7: PerformanceWarning: DataFrame is highly fragmented.  This is usually the result of calling `frame.insert` many times, which has poor performance.  Consider joining all columns at once using pd.concat(axis=1) instead. To get a de-fragmented frame, use `newframe = frame.copy()`\n",
      "  us_equities_close[ticker] = data['Adj Close']\n"
     ]
    },
    {
     "name": "stdout",
     "output_type": "stream",
     "text": [
      "[*********************100%***********************]  1 of 1 completed\n"
     ]
    },
    {
     "name": "stderr",
     "output_type": "stream",
     "text": [
      "C:\\Users\\patel_223gv41\\AppData\\Local\\Temp\\ipykernel_10348\\3310917388.py:7: PerformanceWarning: DataFrame is highly fragmented.  This is usually the result of calling `frame.insert` many times, which has poor performance.  Consider joining all columns at once using pd.concat(axis=1) instead. To get a de-fragmented frame, use `newframe = frame.copy()`\n",
      "  us_equities_close[ticker] = data['Adj Close']\n"
     ]
    },
    {
     "name": "stdout",
     "output_type": "stream",
     "text": [
      "[*********************100%***********************]  1 of 1 completed\n"
     ]
    },
    {
     "name": "stderr",
     "output_type": "stream",
     "text": [
      "C:\\Users\\patel_223gv41\\AppData\\Local\\Temp\\ipykernel_10348\\3310917388.py:7: PerformanceWarning: DataFrame is highly fragmented.  This is usually the result of calling `frame.insert` many times, which has poor performance.  Consider joining all columns at once using pd.concat(axis=1) instead. To get a de-fragmented frame, use `newframe = frame.copy()`\n",
      "  us_equities_close[ticker] = data['Adj Close']\n"
     ]
    },
    {
     "name": "stdout",
     "output_type": "stream",
     "text": [
      "[*********************100%***********************]  1 of 1 completed\n"
     ]
    },
    {
     "name": "stderr",
     "output_type": "stream",
     "text": [
      "C:\\Users\\patel_223gv41\\AppData\\Local\\Temp\\ipykernel_10348\\3310917388.py:7: PerformanceWarning: DataFrame is highly fragmented.  This is usually the result of calling `frame.insert` many times, which has poor performance.  Consider joining all columns at once using pd.concat(axis=1) instead. To get a de-fragmented frame, use `newframe = frame.copy()`\n",
      "  us_equities_close[ticker] = data['Adj Close']\n"
     ]
    },
    {
     "name": "stdout",
     "output_type": "stream",
     "text": [
      "[*********************100%***********************]  1 of 1 completed\n"
     ]
    },
    {
     "name": "stderr",
     "output_type": "stream",
     "text": [
      "C:\\Users\\patel_223gv41\\AppData\\Local\\Temp\\ipykernel_10348\\3310917388.py:7: PerformanceWarning: DataFrame is highly fragmented.  This is usually the result of calling `frame.insert` many times, which has poor performance.  Consider joining all columns at once using pd.concat(axis=1) instead. To get a de-fragmented frame, use `newframe = frame.copy()`\n",
      "  us_equities_close[ticker] = data['Adj Close']\n"
     ]
    },
    {
     "name": "stdout",
     "output_type": "stream",
     "text": [
      "[*********************100%***********************]  1 of 1 completed\n"
     ]
    },
    {
     "name": "stderr",
     "output_type": "stream",
     "text": [
      "C:\\Users\\patel_223gv41\\AppData\\Local\\Temp\\ipykernel_10348\\3310917388.py:7: PerformanceWarning: DataFrame is highly fragmented.  This is usually the result of calling `frame.insert` many times, which has poor performance.  Consider joining all columns at once using pd.concat(axis=1) instead. To get a de-fragmented frame, use `newframe = frame.copy()`\n",
      "  us_equities_close[ticker] = data['Adj Close']\n"
     ]
    },
    {
     "name": "stdout",
     "output_type": "stream",
     "text": [
      "[*********************100%***********************]  1 of 1 completed\n"
     ]
    },
    {
     "name": "stderr",
     "output_type": "stream",
     "text": [
      "C:\\Users\\patel_223gv41\\AppData\\Local\\Temp\\ipykernel_10348\\3310917388.py:7: PerformanceWarning: DataFrame is highly fragmented.  This is usually the result of calling `frame.insert` many times, which has poor performance.  Consider joining all columns at once using pd.concat(axis=1) instead. To get a de-fragmented frame, use `newframe = frame.copy()`\n",
      "  us_equities_close[ticker] = data['Adj Close']\n"
     ]
    },
    {
     "name": "stdout",
     "output_type": "stream",
     "text": [
      "[*********************100%***********************]  1 of 1 completed\n",
      "[*********************100%***********************]  1 of 1 completed"
     ]
    },
    {
     "name": "stderr",
     "output_type": "stream",
     "text": [
      "C:\\Users\\patel_223gv41\\AppData\\Local\\Temp\\ipykernel_10348\\3310917388.py:7: PerformanceWarning: DataFrame is highly fragmented.  This is usually the result of calling `frame.insert` many times, which has poor performance.  Consider joining all columns at once using pd.concat(axis=1) instead. To get a de-fragmented frame, use `newframe = frame.copy()`\n",
      "  us_equities_close[ticker] = data['Adj Close']\n"
     ]
    },
    {
     "name": "stdout",
     "output_type": "stream",
     "text": [
      "\n"
     ]
    },
    {
     "name": "stderr",
     "output_type": "stream",
     "text": [
      "C:\\Users\\patel_223gv41\\AppData\\Local\\Temp\\ipykernel_10348\\3310917388.py:7: PerformanceWarning: DataFrame is highly fragmented.  This is usually the result of calling `frame.insert` many times, which has poor performance.  Consider joining all columns at once using pd.concat(axis=1) instead. To get a de-fragmented frame, use `newframe = frame.copy()`\n",
      "  us_equities_close[ticker] = data['Adj Close']\n"
     ]
    },
    {
     "name": "stdout",
     "output_type": "stream",
     "text": [
      "[*********************100%***********************]  1 of 1 completed\n"
     ]
    },
    {
     "name": "stderr",
     "output_type": "stream",
     "text": [
      "C:\\Users\\patel_223gv41\\AppData\\Local\\Temp\\ipykernel_10348\\3310917388.py:7: PerformanceWarning: DataFrame is highly fragmented.  This is usually the result of calling `frame.insert` many times, which has poor performance.  Consider joining all columns at once using pd.concat(axis=1) instead. To get a de-fragmented frame, use `newframe = frame.copy()`\n",
      "  us_equities_close[ticker] = data['Adj Close']\n"
     ]
    },
    {
     "name": "stdout",
     "output_type": "stream",
     "text": [
      "[*********************100%***********************]  1 of 1 completed\n"
     ]
    },
    {
     "name": "stderr",
     "output_type": "stream",
     "text": [
      "C:\\Users\\patel_223gv41\\AppData\\Local\\Temp\\ipykernel_10348\\3310917388.py:7: PerformanceWarning: DataFrame is highly fragmented.  This is usually the result of calling `frame.insert` many times, which has poor performance.  Consider joining all columns at once using pd.concat(axis=1) instead. To get a de-fragmented frame, use `newframe = frame.copy()`\n",
      "  us_equities_close[ticker] = data['Adj Close']\n"
     ]
    },
    {
     "name": "stdout",
     "output_type": "stream",
     "text": [
      "[*********************100%***********************]  1 of 1 completed\n"
     ]
    },
    {
     "name": "stderr",
     "output_type": "stream",
     "text": [
      "C:\\Users\\patel_223gv41\\AppData\\Local\\Temp\\ipykernel_10348\\3310917388.py:7: PerformanceWarning: DataFrame is highly fragmented.  This is usually the result of calling `frame.insert` many times, which has poor performance.  Consider joining all columns at once using pd.concat(axis=1) instead. To get a de-fragmented frame, use `newframe = frame.copy()`\n",
      "  us_equities_close[ticker] = data['Adj Close']\n"
     ]
    },
    {
     "name": "stdout",
     "output_type": "stream",
     "text": [
      "[*********************100%***********************]  1 of 1 completed\n"
     ]
    },
    {
     "name": "stderr",
     "output_type": "stream",
     "text": [
      "C:\\Users\\patel_223gv41\\AppData\\Local\\Temp\\ipykernel_10348\\3310917388.py:7: PerformanceWarning: DataFrame is highly fragmented.  This is usually the result of calling `frame.insert` many times, which has poor performance.  Consider joining all columns at once using pd.concat(axis=1) instead. To get a de-fragmented frame, use `newframe = frame.copy()`\n",
      "  us_equities_close[ticker] = data['Adj Close']\n"
     ]
    },
    {
     "name": "stdout",
     "output_type": "stream",
     "text": [
      "[*********************100%***********************]  1 of 1 completed\n"
     ]
    },
    {
     "name": "stderr",
     "output_type": "stream",
     "text": [
      "C:\\Users\\patel_223gv41\\AppData\\Local\\Temp\\ipykernel_10348\\3310917388.py:7: PerformanceWarning: DataFrame is highly fragmented.  This is usually the result of calling `frame.insert` many times, which has poor performance.  Consider joining all columns at once using pd.concat(axis=1) instead. To get a de-fragmented frame, use `newframe = frame.copy()`\n",
      "  us_equities_close[ticker] = data['Adj Close']\n"
     ]
    },
    {
     "name": "stdout",
     "output_type": "stream",
     "text": [
      "[*********************100%***********************]  1 of 1 completed\n"
     ]
    },
    {
     "name": "stderr",
     "output_type": "stream",
     "text": [
      "C:\\Users\\patel_223gv41\\AppData\\Local\\Temp\\ipykernel_10348\\3310917388.py:7: PerformanceWarning: DataFrame is highly fragmented.  This is usually the result of calling `frame.insert` many times, which has poor performance.  Consider joining all columns at once using pd.concat(axis=1) instead. To get a de-fragmented frame, use `newframe = frame.copy()`\n",
      "  us_equities_close[ticker] = data['Adj Close']\n"
     ]
    },
    {
     "name": "stdout",
     "output_type": "stream",
     "text": [
      "[*********************100%***********************]  1 of 1 completed\n"
     ]
    },
    {
     "name": "stderr",
     "output_type": "stream",
     "text": [
      "C:\\Users\\patel_223gv41\\AppData\\Local\\Temp\\ipykernel_10348\\3310917388.py:7: PerformanceWarning: DataFrame is highly fragmented.  This is usually the result of calling `frame.insert` many times, which has poor performance.  Consider joining all columns at once using pd.concat(axis=1) instead. To get a de-fragmented frame, use `newframe = frame.copy()`\n",
      "  us_equities_close[ticker] = data['Adj Close']\n"
     ]
    },
    {
     "name": "stdout",
     "output_type": "stream",
     "text": [
      "[*********************100%***********************]  1 of 1 completed\n"
     ]
    },
    {
     "name": "stderr",
     "output_type": "stream",
     "text": [
      "C:\\Users\\patel_223gv41\\AppData\\Local\\Temp\\ipykernel_10348\\3310917388.py:7: PerformanceWarning: DataFrame is highly fragmented.  This is usually the result of calling `frame.insert` many times, which has poor performance.  Consider joining all columns at once using pd.concat(axis=1) instead. To get a de-fragmented frame, use `newframe = frame.copy()`\n",
      "  us_equities_close[ticker] = data['Adj Close']\n"
     ]
    },
    {
     "name": "stdout",
     "output_type": "stream",
     "text": [
      "[*********************100%***********************]  1 of 1 completed\n"
     ]
    },
    {
     "name": "stderr",
     "output_type": "stream",
     "text": [
      "C:\\Users\\patel_223gv41\\AppData\\Local\\Temp\\ipykernel_10348\\3310917388.py:7: PerformanceWarning: DataFrame is highly fragmented.  This is usually the result of calling `frame.insert` many times, which has poor performance.  Consider joining all columns at once using pd.concat(axis=1) instead. To get a de-fragmented frame, use `newframe = frame.copy()`\n",
      "  us_equities_close[ticker] = data['Adj Close']\n"
     ]
    },
    {
     "name": "stdout",
     "output_type": "stream",
     "text": [
      "[*********************100%***********************]  1 of 1 completed\n"
     ]
    },
    {
     "name": "stderr",
     "output_type": "stream",
     "text": [
      "C:\\Users\\patel_223gv41\\AppData\\Local\\Temp\\ipykernel_10348\\3310917388.py:7: PerformanceWarning: DataFrame is highly fragmented.  This is usually the result of calling `frame.insert` many times, which has poor performance.  Consider joining all columns at once using pd.concat(axis=1) instead. To get a de-fragmented frame, use `newframe = frame.copy()`\n",
      "  us_equities_close[ticker] = data['Adj Close']\n"
     ]
    },
    {
     "name": "stdout",
     "output_type": "stream",
     "text": [
      "[*********************100%***********************]  1 of 1 completed\n"
     ]
    },
    {
     "name": "stderr",
     "output_type": "stream",
     "text": [
      "C:\\Users\\patel_223gv41\\AppData\\Local\\Temp\\ipykernel_10348\\3310917388.py:7: PerformanceWarning: DataFrame is highly fragmented.  This is usually the result of calling `frame.insert` many times, which has poor performance.  Consider joining all columns at once using pd.concat(axis=1) instead. To get a de-fragmented frame, use `newframe = frame.copy()`\n",
      "  us_equities_close[ticker] = data['Adj Close']\n"
     ]
    },
    {
     "name": "stdout",
     "output_type": "stream",
     "text": [
      "[*********************100%***********************]  1 of 1 completed\n"
     ]
    },
    {
     "name": "stderr",
     "output_type": "stream",
     "text": [
      "C:\\Users\\patel_223gv41\\AppData\\Local\\Temp\\ipykernel_10348\\3310917388.py:7: PerformanceWarning: DataFrame is highly fragmented.  This is usually the result of calling `frame.insert` many times, which has poor performance.  Consider joining all columns at once using pd.concat(axis=1) instead. To get a de-fragmented frame, use `newframe = frame.copy()`\n",
      "  us_equities_close[ticker] = data['Adj Close']\n"
     ]
    },
    {
     "name": "stdout",
     "output_type": "stream",
     "text": [
      "[*********************100%***********************]  1 of 1 completed\n",
      "[*********************100%***********************]  1 of 1 completed"
     ]
    },
    {
     "name": "stderr",
     "output_type": "stream",
     "text": [
      "C:\\Users\\patel_223gv41\\AppData\\Local\\Temp\\ipykernel_10348\\3310917388.py:7: PerformanceWarning: DataFrame is highly fragmented.  This is usually the result of calling `frame.insert` many times, which has poor performance.  Consider joining all columns at once using pd.concat(axis=1) instead. To get a de-fragmented frame, use `newframe = frame.copy()`\n",
      "  us_equities_close[ticker] = data['Adj Close']\n"
     ]
    },
    {
     "name": "stdout",
     "output_type": "stream",
     "text": [
      "\n"
     ]
    },
    {
     "name": "stderr",
     "output_type": "stream",
     "text": [
      "C:\\Users\\patel_223gv41\\AppData\\Local\\Temp\\ipykernel_10348\\3310917388.py:7: PerformanceWarning: DataFrame is highly fragmented.  This is usually the result of calling `frame.insert` many times, which has poor performance.  Consider joining all columns at once using pd.concat(axis=1) instead. To get a de-fragmented frame, use `newframe = frame.copy()`\n",
      "  us_equities_close[ticker] = data['Adj Close']\n"
     ]
    },
    {
     "name": "stdout",
     "output_type": "stream",
     "text": [
      "[*********************100%***********************]  1 of 1 completed\n"
     ]
    },
    {
     "name": "stderr",
     "output_type": "stream",
     "text": [
      "C:\\Users\\patel_223gv41\\AppData\\Local\\Temp\\ipykernel_10348\\3310917388.py:7: PerformanceWarning: DataFrame is highly fragmented.  This is usually the result of calling `frame.insert` many times, which has poor performance.  Consider joining all columns at once using pd.concat(axis=1) instead. To get a de-fragmented frame, use `newframe = frame.copy()`\n",
      "  us_equities_close[ticker] = data['Adj Close']\n"
     ]
    },
    {
     "name": "stdout",
     "output_type": "stream",
     "text": [
      "[*********************100%***********************]  1 of 1 completed\n"
     ]
    },
    {
     "name": "stderr",
     "output_type": "stream",
     "text": [
      "C:\\Users\\patel_223gv41\\AppData\\Local\\Temp\\ipykernel_10348\\3310917388.py:7: PerformanceWarning: DataFrame is highly fragmented.  This is usually the result of calling `frame.insert` many times, which has poor performance.  Consider joining all columns at once using pd.concat(axis=1) instead. To get a de-fragmented frame, use `newframe = frame.copy()`\n",
      "  us_equities_close[ticker] = data['Adj Close']\n"
     ]
    },
    {
     "name": "stdout",
     "output_type": "stream",
     "text": [
      "[*********************100%***********************]  1 of 1 completed\n"
     ]
    },
    {
     "name": "stderr",
     "output_type": "stream",
     "text": [
      "C:\\Users\\patel_223gv41\\AppData\\Local\\Temp\\ipykernel_10348\\3310917388.py:7: PerformanceWarning: DataFrame is highly fragmented.  This is usually the result of calling `frame.insert` many times, which has poor performance.  Consider joining all columns at once using pd.concat(axis=1) instead. To get a de-fragmented frame, use `newframe = frame.copy()`\n",
      "  us_equities_close[ticker] = data['Adj Close']\n"
     ]
    },
    {
     "name": "stdout",
     "output_type": "stream",
     "text": [
      "[*********************100%***********************]  1 of 1 completed\n"
     ]
    },
    {
     "name": "stderr",
     "output_type": "stream",
     "text": [
      "C:\\Users\\patel_223gv41\\AppData\\Local\\Temp\\ipykernel_10348\\3310917388.py:7: PerformanceWarning: DataFrame is highly fragmented.  This is usually the result of calling `frame.insert` many times, which has poor performance.  Consider joining all columns at once using pd.concat(axis=1) instead. To get a de-fragmented frame, use `newframe = frame.copy()`\n",
      "  us_equities_close[ticker] = data['Adj Close']\n"
     ]
    },
    {
     "name": "stdout",
     "output_type": "stream",
     "text": [
      "[*********************100%***********************]  1 of 1 completed\n"
     ]
    },
    {
     "name": "stderr",
     "output_type": "stream",
     "text": [
      "C:\\Users\\patel_223gv41\\AppData\\Local\\Temp\\ipykernel_10348\\3310917388.py:7: PerformanceWarning: DataFrame is highly fragmented.  This is usually the result of calling `frame.insert` many times, which has poor performance.  Consider joining all columns at once using pd.concat(axis=1) instead. To get a de-fragmented frame, use `newframe = frame.copy()`\n",
      "  us_equities_close[ticker] = data['Adj Close']\n"
     ]
    },
    {
     "name": "stdout",
     "output_type": "stream",
     "text": [
      "[*********************100%***********************]  1 of 1 completed\n"
     ]
    },
    {
     "name": "stderr",
     "output_type": "stream",
     "text": [
      "C:\\Users\\patel_223gv41\\AppData\\Local\\Temp\\ipykernel_10348\\3310917388.py:7: PerformanceWarning: DataFrame is highly fragmented.  This is usually the result of calling `frame.insert` many times, which has poor performance.  Consider joining all columns at once using pd.concat(axis=1) instead. To get a de-fragmented frame, use `newframe = frame.copy()`\n",
      "  us_equities_close[ticker] = data['Adj Close']\n"
     ]
    },
    {
     "name": "stdout",
     "output_type": "stream",
     "text": [
      "[*********************100%***********************]  1 of 1 completed\n"
     ]
    },
    {
     "name": "stderr",
     "output_type": "stream",
     "text": [
      "C:\\Users\\patel_223gv41\\AppData\\Local\\Temp\\ipykernel_10348\\3310917388.py:7: PerformanceWarning: DataFrame is highly fragmented.  This is usually the result of calling `frame.insert` many times, which has poor performance.  Consider joining all columns at once using pd.concat(axis=1) instead. To get a de-fragmented frame, use `newframe = frame.copy()`\n",
      "  us_equities_close[ticker] = data['Adj Close']\n"
     ]
    },
    {
     "name": "stdout",
     "output_type": "stream",
     "text": [
      "[*********************100%***********************]  1 of 1 completed\n",
      "[*********************100%***********************]  1 of 1 completed"
     ]
    },
    {
     "name": "stderr",
     "output_type": "stream",
     "text": [
      "C:\\Users\\patel_223gv41\\AppData\\Local\\Temp\\ipykernel_10348\\3310917388.py:7: PerformanceWarning: DataFrame is highly fragmented.  This is usually the result of calling `frame.insert` many times, which has poor performance.  Consider joining all columns at once using pd.concat(axis=1) instead. To get a de-fragmented frame, use `newframe = frame.copy()`\n",
      "  us_equities_close[ticker] = data['Adj Close']\n"
     ]
    },
    {
     "name": "stdout",
     "output_type": "stream",
     "text": [
      "\n"
     ]
    },
    {
     "name": "stderr",
     "output_type": "stream",
     "text": [
      "C:\\Users\\patel_223gv41\\AppData\\Local\\Temp\\ipykernel_10348\\3310917388.py:7: PerformanceWarning: DataFrame is highly fragmented.  This is usually the result of calling `frame.insert` many times, which has poor performance.  Consider joining all columns at once using pd.concat(axis=1) instead. To get a de-fragmented frame, use `newframe = frame.copy()`\n",
      "  us_equities_close[ticker] = data['Adj Close']\n"
     ]
    },
    {
     "name": "stdout",
     "output_type": "stream",
     "text": [
      "[*********************100%***********************]  1 of 1 completed\n"
     ]
    },
    {
     "name": "stderr",
     "output_type": "stream",
     "text": [
      "C:\\Users\\patel_223gv41\\AppData\\Local\\Temp\\ipykernel_10348\\3310917388.py:7: PerformanceWarning: DataFrame is highly fragmented.  This is usually the result of calling `frame.insert` many times, which has poor performance.  Consider joining all columns at once using pd.concat(axis=1) instead. To get a de-fragmented frame, use `newframe = frame.copy()`\n",
      "  us_equities_close[ticker] = data['Adj Close']\n"
     ]
    },
    {
     "name": "stdout",
     "output_type": "stream",
     "text": [
      "[*********************100%***********************]  1 of 1 completed\n",
      "[*********************100%***********************]  1 of 1 completed"
     ]
    },
    {
     "name": "stderr",
     "output_type": "stream",
     "text": [
      "C:\\Users\\patel_223gv41\\AppData\\Local\\Temp\\ipykernel_10348\\3310917388.py:7: PerformanceWarning: DataFrame is highly fragmented.  This is usually the result of calling `frame.insert` many times, which has poor performance.  Consider joining all columns at once using pd.concat(axis=1) instead. To get a de-fragmented frame, use `newframe = frame.copy()`\n",
      "  us_equities_close[ticker] = data['Adj Close']\n"
     ]
    },
    {
     "name": "stdout",
     "output_type": "stream",
     "text": [
      "\n"
     ]
    },
    {
     "name": "stderr",
     "output_type": "stream",
     "text": [
      "C:\\Users\\patel_223gv41\\AppData\\Local\\Temp\\ipykernel_10348\\3310917388.py:7: PerformanceWarning: DataFrame is highly fragmented.  This is usually the result of calling `frame.insert` many times, which has poor performance.  Consider joining all columns at once using pd.concat(axis=1) instead. To get a de-fragmented frame, use `newframe = frame.copy()`\n",
      "  us_equities_close[ticker] = data['Adj Close']\n"
     ]
    },
    {
     "name": "stdout",
     "output_type": "stream",
     "text": [
      "[*********************100%***********************]  1 of 1 completed\n"
     ]
    },
    {
     "name": "stderr",
     "output_type": "stream",
     "text": [
      "C:\\Users\\patel_223gv41\\AppData\\Local\\Temp\\ipykernel_10348\\3310917388.py:7: PerformanceWarning: DataFrame is highly fragmented.  This is usually the result of calling `frame.insert` many times, which has poor performance.  Consider joining all columns at once using pd.concat(axis=1) instead. To get a de-fragmented frame, use `newframe = frame.copy()`\n",
      "  us_equities_close[ticker] = data['Adj Close']\n"
     ]
    },
    {
     "name": "stdout",
     "output_type": "stream",
     "text": [
      "[*********************100%***********************]  1 of 1 completed\n"
     ]
    },
    {
     "name": "stderr",
     "output_type": "stream",
     "text": [
      "C:\\Users\\patel_223gv41\\AppData\\Local\\Temp\\ipykernel_10348\\3310917388.py:7: PerformanceWarning: DataFrame is highly fragmented.  This is usually the result of calling `frame.insert` many times, which has poor performance.  Consider joining all columns at once using pd.concat(axis=1) instead. To get a de-fragmented frame, use `newframe = frame.copy()`\n",
      "  us_equities_close[ticker] = data['Adj Close']\n"
     ]
    },
    {
     "name": "stdout",
     "output_type": "stream",
     "text": [
      "[*********************100%***********************]  1 of 1 completed\n"
     ]
    },
    {
     "name": "stderr",
     "output_type": "stream",
     "text": [
      "C:\\Users\\patel_223gv41\\AppData\\Local\\Temp\\ipykernel_10348\\3310917388.py:7: PerformanceWarning: DataFrame is highly fragmented.  This is usually the result of calling `frame.insert` many times, which has poor performance.  Consider joining all columns at once using pd.concat(axis=1) instead. To get a de-fragmented frame, use `newframe = frame.copy()`\n",
      "  us_equities_close[ticker] = data['Adj Close']\n"
     ]
    },
    {
     "name": "stdout",
     "output_type": "stream",
     "text": [
      "[*********************100%***********************]  1 of 1 completed\n"
     ]
    },
    {
     "name": "stderr",
     "output_type": "stream",
     "text": [
      "C:\\Users\\patel_223gv41\\AppData\\Local\\Temp\\ipykernel_10348\\3310917388.py:7: PerformanceWarning: DataFrame is highly fragmented.  This is usually the result of calling `frame.insert` many times, which has poor performance.  Consider joining all columns at once using pd.concat(axis=1) instead. To get a de-fragmented frame, use `newframe = frame.copy()`\n",
      "  us_equities_close[ticker] = data['Adj Close']\n"
     ]
    },
    {
     "name": "stdout",
     "output_type": "stream",
     "text": [
      "[*********************100%***********************]  1 of 1 completed\n"
     ]
    },
    {
     "name": "stderr",
     "output_type": "stream",
     "text": [
      "C:\\Users\\patel_223gv41\\AppData\\Local\\Temp\\ipykernel_10348\\3310917388.py:7: PerformanceWarning: DataFrame is highly fragmented.  This is usually the result of calling `frame.insert` many times, which has poor performance.  Consider joining all columns at once using pd.concat(axis=1) instead. To get a de-fragmented frame, use `newframe = frame.copy()`\n",
      "  us_equities_close[ticker] = data['Adj Close']\n"
     ]
    },
    {
     "name": "stdout",
     "output_type": "stream",
     "text": [
      "[*********************100%***********************]  1 of 1 completed\n"
     ]
    },
    {
     "name": "stderr",
     "output_type": "stream",
     "text": [
      "C:\\Users\\patel_223gv41\\AppData\\Local\\Temp\\ipykernel_10348\\3310917388.py:7: PerformanceWarning: DataFrame is highly fragmented.  This is usually the result of calling `frame.insert` many times, which has poor performance.  Consider joining all columns at once using pd.concat(axis=1) instead. To get a de-fragmented frame, use `newframe = frame.copy()`\n",
      "  us_equities_close[ticker] = data['Adj Close']\n"
     ]
    },
    {
     "name": "stdout",
     "output_type": "stream",
     "text": [
      "[*********************100%***********************]  1 of 1 completed\n"
     ]
    },
    {
     "name": "stderr",
     "output_type": "stream",
     "text": [
      "C:\\Users\\patel_223gv41\\AppData\\Local\\Temp\\ipykernel_10348\\3310917388.py:7: PerformanceWarning: DataFrame is highly fragmented.  This is usually the result of calling `frame.insert` many times, which has poor performance.  Consider joining all columns at once using pd.concat(axis=1) instead. To get a de-fragmented frame, use `newframe = frame.copy()`\n",
      "  us_equities_close[ticker] = data['Adj Close']\n"
     ]
    },
    {
     "name": "stdout",
     "output_type": "stream",
     "text": [
      "[*********************100%***********************]  1 of 1 completed\n"
     ]
    },
    {
     "name": "stderr",
     "output_type": "stream",
     "text": [
      "C:\\Users\\patel_223gv41\\AppData\\Local\\Temp\\ipykernel_10348\\3310917388.py:7: PerformanceWarning: DataFrame is highly fragmented.  This is usually the result of calling `frame.insert` many times, which has poor performance.  Consider joining all columns at once using pd.concat(axis=1) instead. To get a de-fragmented frame, use `newframe = frame.copy()`\n",
      "  us_equities_close[ticker] = data['Adj Close']\n"
     ]
    },
    {
     "name": "stdout",
     "output_type": "stream",
     "text": [
      "[*********************100%***********************]  1 of 1 completed\n"
     ]
    },
    {
     "name": "stderr",
     "output_type": "stream",
     "text": [
      "C:\\Users\\patel_223gv41\\AppData\\Local\\Temp\\ipykernel_10348\\3310917388.py:7: PerformanceWarning: DataFrame is highly fragmented.  This is usually the result of calling `frame.insert` many times, which has poor performance.  Consider joining all columns at once using pd.concat(axis=1) instead. To get a de-fragmented frame, use `newframe = frame.copy()`\n",
      "  us_equities_close[ticker] = data['Adj Close']\n"
     ]
    },
    {
     "name": "stdout",
     "output_type": "stream",
     "text": [
      "[*********************100%***********************]  1 of 1 completed\n"
     ]
    },
    {
     "name": "stderr",
     "output_type": "stream",
     "text": [
      "C:\\Users\\patel_223gv41\\AppData\\Local\\Temp\\ipykernel_10348\\3310917388.py:7: PerformanceWarning: DataFrame is highly fragmented.  This is usually the result of calling `frame.insert` many times, which has poor performance.  Consider joining all columns at once using pd.concat(axis=1) instead. To get a de-fragmented frame, use `newframe = frame.copy()`\n",
      "  us_equities_close[ticker] = data['Adj Close']\n"
     ]
    },
    {
     "name": "stdout",
     "output_type": "stream",
     "text": [
      "[*********************100%***********************]  1 of 1 completed\n"
     ]
    },
    {
     "name": "stderr",
     "output_type": "stream",
     "text": [
      "C:\\Users\\patel_223gv41\\AppData\\Local\\Temp\\ipykernel_10348\\3310917388.py:7: PerformanceWarning: DataFrame is highly fragmented.  This is usually the result of calling `frame.insert` many times, which has poor performance.  Consider joining all columns at once using pd.concat(axis=1) instead. To get a de-fragmented frame, use `newframe = frame.copy()`\n",
      "  us_equities_close[ticker] = data['Adj Close']\n"
     ]
    },
    {
     "name": "stdout",
     "output_type": "stream",
     "text": [
      "[*********************100%***********************]  1 of 1 completed\n"
     ]
    },
    {
     "name": "stderr",
     "output_type": "stream",
     "text": [
      "C:\\Users\\patel_223gv41\\AppData\\Local\\Temp\\ipykernel_10348\\3310917388.py:7: PerformanceWarning: DataFrame is highly fragmented.  This is usually the result of calling `frame.insert` many times, which has poor performance.  Consider joining all columns at once using pd.concat(axis=1) instead. To get a de-fragmented frame, use `newframe = frame.copy()`\n",
      "  us_equities_close[ticker] = data['Adj Close']\n"
     ]
    },
    {
     "name": "stdout",
     "output_type": "stream",
     "text": [
      "[*********************100%***********************]  1 of 1 completed\n"
     ]
    },
    {
     "name": "stderr",
     "output_type": "stream",
     "text": [
      "C:\\Users\\patel_223gv41\\AppData\\Local\\Temp\\ipykernel_10348\\3310917388.py:7: PerformanceWarning: DataFrame is highly fragmented.  This is usually the result of calling `frame.insert` many times, which has poor performance.  Consider joining all columns at once using pd.concat(axis=1) instead. To get a de-fragmented frame, use `newframe = frame.copy()`\n",
      "  us_equities_close[ticker] = data['Adj Close']\n"
     ]
    },
    {
     "name": "stdout",
     "output_type": "stream",
     "text": [
      "[*********************100%***********************]  1 of 1 completed\n"
     ]
    },
    {
     "name": "stderr",
     "output_type": "stream",
     "text": [
      "C:\\Users\\patel_223gv41\\AppData\\Local\\Temp\\ipykernel_10348\\3310917388.py:7: PerformanceWarning: DataFrame is highly fragmented.  This is usually the result of calling `frame.insert` many times, which has poor performance.  Consider joining all columns at once using pd.concat(axis=1) instead. To get a de-fragmented frame, use `newframe = frame.copy()`\n",
      "  us_equities_close[ticker] = data['Adj Close']\n"
     ]
    },
    {
     "name": "stdout",
     "output_type": "stream",
     "text": [
      "[*********************100%***********************]  1 of 1 completed\n",
      "[*********************100%***********************]  1 of 1 completed\n"
     ]
    },
    {
     "name": "stderr",
     "output_type": "stream",
     "text": [
      "C:\\Users\\patel_223gv41\\AppData\\Local\\Temp\\ipykernel_10348\\3310917388.py:7: PerformanceWarning: DataFrame is highly fragmented.  This is usually the result of calling `frame.insert` many times, which has poor performance.  Consider joining all columns at once using pd.concat(axis=1) instead. To get a de-fragmented frame, use `newframe = frame.copy()`\n",
      "  us_equities_close[ticker] = data['Adj Close']\n",
      "C:\\Users\\patel_223gv41\\AppData\\Local\\Temp\\ipykernel_10348\\3310917388.py:7: PerformanceWarning: DataFrame is highly fragmented.  This is usually the result of calling `frame.insert` many times, which has poor performance.  Consider joining all columns at once using pd.concat(axis=1) instead. To get a de-fragmented frame, use `newframe = frame.copy()`\n",
      "  us_equities_close[ticker] = data['Adj Close']\n"
     ]
    },
    {
     "name": "stdout",
     "output_type": "stream",
     "text": [
      "[*********************100%***********************]  1 of 1 completed\n",
      "[*********************100%***********************]  1 of 1 completed"
     ]
    },
    {
     "name": "stderr",
     "output_type": "stream",
     "text": [
      "C:\\Users\\patel_223gv41\\AppData\\Local\\Temp\\ipykernel_10348\\3310917388.py:7: PerformanceWarning: DataFrame is highly fragmented.  This is usually the result of calling `frame.insert` many times, which has poor performance.  Consider joining all columns at once using pd.concat(axis=1) instead. To get a de-fragmented frame, use `newframe = frame.copy()`\n",
      "  us_equities_close[ticker] = data['Adj Close']\n",
      "C:\\Users\\patel_223gv41\\AppData\\Local\\Temp\\ipykernel_10348\\3310917388.py:7: PerformanceWarning: DataFrame is highly fragmented.  This is usually the result of calling `frame.insert` many times, which has poor performance.  Consider joining all columns at once using pd.concat(axis=1) instead. To get a de-fragmented frame, use `newframe = frame.copy()`\n",
      "  us_equities_close[ticker] = data['Adj Close']\n"
     ]
    },
    {
     "name": "stdout",
     "output_type": "stream",
     "text": [
      "\n",
      "[*********************100%***********************]  1 of 1 completed\n"
     ]
    },
    {
     "name": "stderr",
     "output_type": "stream",
     "text": [
      "C:\\Users\\patel_223gv41\\AppData\\Local\\Temp\\ipykernel_10348\\3310917388.py:7: PerformanceWarning: DataFrame is highly fragmented.  This is usually the result of calling `frame.insert` many times, which has poor performance.  Consider joining all columns at once using pd.concat(axis=1) instead. To get a de-fragmented frame, use `newframe = frame.copy()`\n",
      "  us_equities_close[ticker] = data['Adj Close']\n"
     ]
    },
    {
     "name": "stdout",
     "output_type": "stream",
     "text": [
      "[*********************100%***********************]  1 of 1 completed\n"
     ]
    },
    {
     "name": "stderr",
     "output_type": "stream",
     "text": [
      "C:\\Users\\patel_223gv41\\AppData\\Local\\Temp\\ipykernel_10348\\3310917388.py:7: PerformanceWarning: DataFrame is highly fragmented.  This is usually the result of calling `frame.insert` many times, which has poor performance.  Consider joining all columns at once using pd.concat(axis=1) instead. To get a de-fragmented frame, use `newframe = frame.copy()`\n",
      "  us_equities_close[ticker] = data['Adj Close']\n"
     ]
    },
    {
     "name": "stdout",
     "output_type": "stream",
     "text": [
      "[*********************100%***********************]  1 of 1 completed\n"
     ]
    },
    {
     "name": "stderr",
     "output_type": "stream",
     "text": [
      "C:\\Users\\patel_223gv41\\AppData\\Local\\Temp\\ipykernel_10348\\3310917388.py:7: PerformanceWarning: DataFrame is highly fragmented.  This is usually the result of calling `frame.insert` many times, which has poor performance.  Consider joining all columns at once using pd.concat(axis=1) instead. To get a de-fragmented frame, use `newframe = frame.copy()`\n",
      "  us_equities_close[ticker] = data['Adj Close']\n"
     ]
    },
    {
     "name": "stdout",
     "output_type": "stream",
     "text": [
      "[*********************100%***********************]  1 of 1 completed\n"
     ]
    },
    {
     "name": "stderr",
     "output_type": "stream",
     "text": [
      "C:\\Users\\patel_223gv41\\AppData\\Local\\Temp\\ipykernel_10348\\3310917388.py:7: PerformanceWarning: DataFrame is highly fragmented.  This is usually the result of calling `frame.insert` many times, which has poor performance.  Consider joining all columns at once using pd.concat(axis=1) instead. To get a de-fragmented frame, use `newframe = frame.copy()`\n",
      "  us_equities_close[ticker] = data['Adj Close']\n"
     ]
    },
    {
     "name": "stdout",
     "output_type": "stream",
     "text": [
      "[*********************100%***********************]  1 of 1 completed\n",
      "[*********************100%***********************]  1 of 1 completed"
     ]
    },
    {
     "name": "stderr",
     "output_type": "stream",
     "text": [
      "C:\\Users\\patel_223gv41\\AppData\\Local\\Temp\\ipykernel_10348\\3310917388.py:7: PerformanceWarning: DataFrame is highly fragmented.  This is usually the result of calling `frame.insert` many times, which has poor performance.  Consider joining all columns at once using pd.concat(axis=1) instead. To get a de-fragmented frame, use `newframe = frame.copy()`\n",
      "  us_equities_close[ticker] = data['Adj Close']\n"
     ]
    },
    {
     "name": "stdout",
     "output_type": "stream",
     "text": [
      "\n"
     ]
    },
    {
     "name": "stderr",
     "output_type": "stream",
     "text": [
      "C:\\Users\\patel_223gv41\\AppData\\Local\\Temp\\ipykernel_10348\\3310917388.py:7: PerformanceWarning: DataFrame is highly fragmented.  This is usually the result of calling `frame.insert` many times, which has poor performance.  Consider joining all columns at once using pd.concat(axis=1) instead. To get a de-fragmented frame, use `newframe = frame.copy()`\n",
      "  us_equities_close[ticker] = data['Adj Close']\n"
     ]
    },
    {
     "name": "stdout",
     "output_type": "stream",
     "text": [
      "[*********************100%***********************]  1 of 1 completed\n"
     ]
    },
    {
     "name": "stderr",
     "output_type": "stream",
     "text": [
      "C:\\Users\\patel_223gv41\\AppData\\Local\\Temp\\ipykernel_10348\\3310917388.py:7: PerformanceWarning: DataFrame is highly fragmented.  This is usually the result of calling `frame.insert` many times, which has poor performance.  Consider joining all columns at once using pd.concat(axis=1) instead. To get a de-fragmented frame, use `newframe = frame.copy()`\n",
      "  us_equities_close[ticker] = data['Adj Close']\n"
     ]
    },
    {
     "name": "stdout",
     "output_type": "stream",
     "text": [
      "[*********************100%***********************]  1 of 1 completed\n"
     ]
    },
    {
     "name": "stderr",
     "output_type": "stream",
     "text": [
      "C:\\Users\\patel_223gv41\\AppData\\Local\\Temp\\ipykernel_10348\\3310917388.py:7: PerformanceWarning: DataFrame is highly fragmented.  This is usually the result of calling `frame.insert` many times, which has poor performance.  Consider joining all columns at once using pd.concat(axis=1) instead. To get a de-fragmented frame, use `newframe = frame.copy()`\n",
      "  us_equities_close[ticker] = data['Adj Close']\n"
     ]
    },
    {
     "name": "stdout",
     "output_type": "stream",
     "text": [
      "[*********************100%***********************]  1 of 1 completed\n"
     ]
    },
    {
     "name": "stderr",
     "output_type": "stream",
     "text": [
      "C:\\Users\\patel_223gv41\\AppData\\Local\\Temp\\ipykernel_10348\\3310917388.py:7: PerformanceWarning: DataFrame is highly fragmented.  This is usually the result of calling `frame.insert` many times, which has poor performance.  Consider joining all columns at once using pd.concat(axis=1) instead. To get a de-fragmented frame, use `newframe = frame.copy()`\n",
      "  us_equities_close[ticker] = data['Adj Close']\n"
     ]
    },
    {
     "name": "stdout",
     "output_type": "stream",
     "text": [
      "[*********************100%***********************]  1 of 1 completed\n"
     ]
    },
    {
     "name": "stderr",
     "output_type": "stream",
     "text": [
      "C:\\Users\\patel_223gv41\\AppData\\Local\\Temp\\ipykernel_10348\\3310917388.py:7: PerformanceWarning: DataFrame is highly fragmented.  This is usually the result of calling `frame.insert` many times, which has poor performance.  Consider joining all columns at once using pd.concat(axis=1) instead. To get a de-fragmented frame, use `newframe = frame.copy()`\n",
      "  us_equities_close[ticker] = data['Adj Close']\n"
     ]
    },
    {
     "name": "stdout",
     "output_type": "stream",
     "text": [
      "[*********************100%***********************]  1 of 1 completed\n"
     ]
    },
    {
     "name": "stderr",
     "output_type": "stream",
     "text": [
      "C:\\Users\\patel_223gv41\\AppData\\Local\\Temp\\ipykernel_10348\\3310917388.py:7: PerformanceWarning: DataFrame is highly fragmented.  This is usually the result of calling `frame.insert` many times, which has poor performance.  Consider joining all columns at once using pd.concat(axis=1) instead. To get a de-fragmented frame, use `newframe = frame.copy()`\n",
      "  us_equities_close[ticker] = data['Adj Close']\n"
     ]
    },
    {
     "name": "stdout",
     "output_type": "stream",
     "text": [
      "[*********************100%***********************]  1 of 1 completed\n"
     ]
    },
    {
     "name": "stderr",
     "output_type": "stream",
     "text": [
      "C:\\Users\\patel_223gv41\\AppData\\Local\\Temp\\ipykernel_10348\\3310917388.py:7: PerformanceWarning: DataFrame is highly fragmented.  This is usually the result of calling `frame.insert` many times, which has poor performance.  Consider joining all columns at once using pd.concat(axis=1) instead. To get a de-fragmented frame, use `newframe = frame.copy()`\n",
      "  us_equities_close[ticker] = data['Adj Close']\n"
     ]
    },
    {
     "name": "stdout",
     "output_type": "stream",
     "text": [
      "[*********************100%***********************]  1 of 1 completed\n"
     ]
    },
    {
     "name": "stderr",
     "output_type": "stream",
     "text": [
      "C:\\Users\\patel_223gv41\\AppData\\Local\\Temp\\ipykernel_10348\\3310917388.py:7: PerformanceWarning: DataFrame is highly fragmented.  This is usually the result of calling `frame.insert` many times, which has poor performance.  Consider joining all columns at once using pd.concat(axis=1) instead. To get a de-fragmented frame, use `newframe = frame.copy()`\n",
      "  us_equities_close[ticker] = data['Adj Close']\n"
     ]
    },
    {
     "name": "stdout",
     "output_type": "stream",
     "text": [
      "[*********************100%***********************]  1 of 1 completed\n"
     ]
    },
    {
     "name": "stderr",
     "output_type": "stream",
     "text": [
      "C:\\Users\\patel_223gv41\\AppData\\Local\\Temp\\ipykernel_10348\\3310917388.py:7: PerformanceWarning: DataFrame is highly fragmented.  This is usually the result of calling `frame.insert` many times, which has poor performance.  Consider joining all columns at once using pd.concat(axis=1) instead. To get a de-fragmented frame, use `newframe = frame.copy()`\n",
      "  us_equities_close[ticker] = data['Adj Close']\n"
     ]
    },
    {
     "name": "stdout",
     "output_type": "stream",
     "text": [
      "[*********************100%***********************]  1 of 1 completed\n"
     ]
    },
    {
     "name": "stderr",
     "output_type": "stream",
     "text": [
      "C:\\Users\\patel_223gv41\\AppData\\Local\\Temp\\ipykernel_10348\\3310917388.py:7: PerformanceWarning: DataFrame is highly fragmented.  This is usually the result of calling `frame.insert` many times, which has poor performance.  Consider joining all columns at once using pd.concat(axis=1) instead. To get a de-fragmented frame, use `newframe = frame.copy()`\n",
      "  us_equities_close[ticker] = data['Adj Close']\n"
     ]
    },
    {
     "name": "stdout",
     "output_type": "stream",
     "text": [
      "[*********************100%***********************]  1 of 1 completed\n",
      "[*********************100%***********************]  1 of 1 completed"
     ]
    },
    {
     "name": "stderr",
     "output_type": "stream",
     "text": [
      "C:\\Users\\patel_223gv41\\AppData\\Local\\Temp\\ipykernel_10348\\3310917388.py:7: PerformanceWarning: DataFrame is highly fragmented.  This is usually the result of calling `frame.insert` many times, which has poor performance.  Consider joining all columns at once using pd.concat(axis=1) instead. To get a de-fragmented frame, use `newframe = frame.copy()`\n",
      "  us_equities_close[ticker] = data['Adj Close']\n",
      "C:\\Users\\patel_223gv41\\AppData\\Local\\Temp\\ipykernel_10348\\3310917388.py:7: PerformanceWarning: DataFrame is highly fragmented.  This is usually the result of calling `frame.insert` many times, which has poor performance.  Consider joining all columns at once using pd.concat(axis=1) instead. To get a de-fragmented frame, use `newframe = frame.copy()`\n",
      "  us_equities_close[ticker] = data['Adj Close']\n"
     ]
    },
    {
     "name": "stdout",
     "output_type": "stream",
     "text": [
      "\n",
      "[*********************100%***********************]  1 of 1 completed\n"
     ]
    },
    {
     "name": "stderr",
     "output_type": "stream",
     "text": [
      "C:\\Users\\patel_223gv41\\AppData\\Local\\Temp\\ipykernel_10348\\3310917388.py:7: PerformanceWarning: DataFrame is highly fragmented.  This is usually the result of calling `frame.insert` many times, which has poor performance.  Consider joining all columns at once using pd.concat(axis=1) instead. To get a de-fragmented frame, use `newframe = frame.copy()`\n",
      "  us_equities_close[ticker] = data['Adj Close']\n"
     ]
    },
    {
     "name": "stdout",
     "output_type": "stream",
     "text": [
      "[*********************100%***********************]  1 of 1 completed\n"
     ]
    },
    {
     "name": "stderr",
     "output_type": "stream",
     "text": [
      "C:\\Users\\patel_223gv41\\AppData\\Local\\Temp\\ipykernel_10348\\3310917388.py:7: PerformanceWarning: DataFrame is highly fragmented.  This is usually the result of calling `frame.insert` many times, which has poor performance.  Consider joining all columns at once using pd.concat(axis=1) instead. To get a de-fragmented frame, use `newframe = frame.copy()`\n",
      "  us_equities_close[ticker] = data['Adj Close']\n"
     ]
    },
    {
     "name": "stdout",
     "output_type": "stream",
     "text": [
      "[*********************100%***********************]  1 of 1 completed\n",
      "[*********************100%***********************]  1 of 1 completed"
     ]
    },
    {
     "name": "stderr",
     "output_type": "stream",
     "text": [
      "C:\\Users\\patel_223gv41\\AppData\\Local\\Temp\\ipykernel_10348\\3310917388.py:7: PerformanceWarning: DataFrame is highly fragmented.  This is usually the result of calling `frame.insert` many times, which has poor performance.  Consider joining all columns at once using pd.concat(axis=1) instead. To get a de-fragmented frame, use `newframe = frame.copy()`\n",
      "  us_equities_close[ticker] = data['Adj Close']\n"
     ]
    },
    {
     "name": "stdout",
     "output_type": "stream",
     "text": [
      "\n"
     ]
    },
    {
     "name": "stderr",
     "output_type": "stream",
     "text": [
      "C:\\Users\\patel_223gv41\\AppData\\Local\\Temp\\ipykernel_10348\\3310917388.py:7: PerformanceWarning: DataFrame is highly fragmented.  This is usually the result of calling `frame.insert` many times, which has poor performance.  Consider joining all columns at once using pd.concat(axis=1) instead. To get a de-fragmented frame, use `newframe = frame.copy()`\n",
      "  us_equities_close[ticker] = data['Adj Close']\n"
     ]
    },
    {
     "name": "stdout",
     "output_type": "stream",
     "text": [
      "[*********************100%***********************]  1 of 1 completed\n"
     ]
    },
    {
     "name": "stderr",
     "output_type": "stream",
     "text": [
      "C:\\Users\\patel_223gv41\\AppData\\Local\\Temp\\ipykernel_10348\\3310917388.py:7: PerformanceWarning: DataFrame is highly fragmented.  This is usually the result of calling `frame.insert` many times, which has poor performance.  Consider joining all columns at once using pd.concat(axis=1) instead. To get a de-fragmented frame, use `newframe = frame.copy()`\n",
      "  us_equities_close[ticker] = data['Adj Close']\n"
     ]
    },
    {
     "name": "stdout",
     "output_type": "stream",
     "text": [
      "[*********************100%***********************]  1 of 1 completed\n"
     ]
    },
    {
     "name": "stderr",
     "output_type": "stream",
     "text": [
      "C:\\Users\\patel_223gv41\\AppData\\Local\\Temp\\ipykernel_10348\\3310917388.py:7: PerformanceWarning: DataFrame is highly fragmented.  This is usually the result of calling `frame.insert` many times, which has poor performance.  Consider joining all columns at once using pd.concat(axis=1) instead. To get a de-fragmented frame, use `newframe = frame.copy()`\n",
      "  us_equities_close[ticker] = data['Adj Close']\n"
     ]
    },
    {
     "name": "stdout",
     "output_type": "stream",
     "text": [
      "[*********************100%***********************]  1 of 1 completed\n"
     ]
    },
    {
     "name": "stderr",
     "output_type": "stream",
     "text": [
      "C:\\Users\\patel_223gv41\\AppData\\Local\\Temp\\ipykernel_10348\\3310917388.py:7: PerformanceWarning: DataFrame is highly fragmented.  This is usually the result of calling `frame.insert` many times, which has poor performance.  Consider joining all columns at once using pd.concat(axis=1) instead. To get a de-fragmented frame, use `newframe = frame.copy()`\n",
      "  us_equities_close[ticker] = data['Adj Close']\n"
     ]
    },
    {
     "name": "stdout",
     "output_type": "stream",
     "text": [
      "[*********************100%***********************]  1 of 1 completed\n",
      "[*********************100%***********************]  1 of 1 completed"
     ]
    },
    {
     "name": "stderr",
     "output_type": "stream",
     "text": [
      "C:\\Users\\patel_223gv41\\AppData\\Local\\Temp\\ipykernel_10348\\3310917388.py:7: PerformanceWarning: DataFrame is highly fragmented.  This is usually the result of calling `frame.insert` many times, which has poor performance.  Consider joining all columns at once using pd.concat(axis=1) instead. To get a de-fragmented frame, use `newframe = frame.copy()`\n",
      "  us_equities_close[ticker] = data['Adj Close']\n",
      "C:\\Users\\patel_223gv41\\AppData\\Local\\Temp\\ipykernel_10348\\3310917388.py:7: PerformanceWarning: DataFrame is highly fragmented.  This is usually the result of calling `frame.insert` many times, which has poor performance.  Consider joining all columns at once using pd.concat(axis=1) instead. To get a de-fragmented frame, use `newframe = frame.copy()`\n",
      "  us_equities_close[ticker] = data['Adj Close']\n"
     ]
    },
    {
     "name": "stdout",
     "output_type": "stream",
     "text": [
      "\n",
      "[*********************100%***********************]  1 of 1 completed\n"
     ]
    },
    {
     "name": "stderr",
     "output_type": "stream",
     "text": [
      "C:\\Users\\patel_223gv41\\AppData\\Local\\Temp\\ipykernel_10348\\3310917388.py:7: PerformanceWarning: DataFrame is highly fragmented.  This is usually the result of calling `frame.insert` many times, which has poor performance.  Consider joining all columns at once using pd.concat(axis=1) instead. To get a de-fragmented frame, use `newframe = frame.copy()`\n",
      "  us_equities_close[ticker] = data['Adj Close']\n"
     ]
    },
    {
     "name": "stdout",
     "output_type": "stream",
     "text": [
      "[*********************100%***********************]  1 of 1 completed\n"
     ]
    },
    {
     "name": "stderr",
     "output_type": "stream",
     "text": [
      "C:\\Users\\patel_223gv41\\AppData\\Local\\Temp\\ipykernel_10348\\3310917388.py:7: PerformanceWarning: DataFrame is highly fragmented.  This is usually the result of calling `frame.insert` many times, which has poor performance.  Consider joining all columns at once using pd.concat(axis=1) instead. To get a de-fragmented frame, use `newframe = frame.copy()`\n",
      "  us_equities_close[ticker] = data['Adj Close']\n"
     ]
    },
    {
     "name": "stdout",
     "output_type": "stream",
     "text": [
      "[*********************100%***********************]  1 of 1 completed\n"
     ]
    },
    {
     "name": "stderr",
     "output_type": "stream",
     "text": [
      "C:\\Users\\patel_223gv41\\AppData\\Local\\Temp\\ipykernel_10348\\3310917388.py:7: PerformanceWarning: DataFrame is highly fragmented.  This is usually the result of calling `frame.insert` many times, which has poor performance.  Consider joining all columns at once using pd.concat(axis=1) instead. To get a de-fragmented frame, use `newframe = frame.copy()`\n",
      "  us_equities_close[ticker] = data['Adj Close']\n"
     ]
    },
    {
     "name": "stdout",
     "output_type": "stream",
     "text": [
      "[*********************100%***********************]  1 of 1 completed\n"
     ]
    },
    {
     "name": "stderr",
     "output_type": "stream",
     "text": [
      "C:\\Users\\patel_223gv41\\AppData\\Local\\Temp\\ipykernel_10348\\3310917388.py:7: PerformanceWarning: DataFrame is highly fragmented.  This is usually the result of calling `frame.insert` many times, which has poor performance.  Consider joining all columns at once using pd.concat(axis=1) instead. To get a de-fragmented frame, use `newframe = frame.copy()`\n",
      "  us_equities_close[ticker] = data['Adj Close']\n"
     ]
    },
    {
     "name": "stdout",
     "output_type": "stream",
     "text": [
      "[*********************100%***********************]  1 of 1 completed\n",
      "[*********************100%***********************]  1 of 1 completed"
     ]
    },
    {
     "name": "stderr",
     "output_type": "stream",
     "text": [
      "C:\\Users\\patel_223gv41\\AppData\\Local\\Temp\\ipykernel_10348\\3310917388.py:7: PerformanceWarning: DataFrame is highly fragmented.  This is usually the result of calling `frame.insert` many times, which has poor performance.  Consider joining all columns at once using pd.concat(axis=1) instead. To get a de-fragmented frame, use `newframe = frame.copy()`\n",
      "  us_equities_close[ticker] = data['Adj Close']\n"
     ]
    },
    {
     "name": "stdout",
     "output_type": "stream",
     "text": [
      "\n",
      "[*********************100%***********************]  1 of 1 completed"
     ]
    },
    {
     "name": "stderr",
     "output_type": "stream",
     "text": [
      "C:\\Users\\patel_223gv41\\AppData\\Local\\Temp\\ipykernel_10348\\3310917388.py:7: PerformanceWarning: DataFrame is highly fragmented.  This is usually the result of calling `frame.insert` many times, which has poor performance.  Consider joining all columns at once using pd.concat(axis=1) instead. To get a de-fragmented frame, use `newframe = frame.copy()`\n",
      "  us_equities_close[ticker] = data['Adj Close']\n"
     ]
    },
    {
     "name": "stdout",
     "output_type": "stream",
     "text": [
      "\n"
     ]
    },
    {
     "name": "stderr",
     "output_type": "stream",
     "text": [
      "C:\\Users\\patel_223gv41\\AppData\\Local\\Temp\\ipykernel_10348\\3310917388.py:7: PerformanceWarning: DataFrame is highly fragmented.  This is usually the result of calling `frame.insert` many times, which has poor performance.  Consider joining all columns at once using pd.concat(axis=1) instead. To get a de-fragmented frame, use `newframe = frame.copy()`\n",
      "  us_equities_close[ticker] = data['Adj Close']\n"
     ]
    },
    {
     "name": "stdout",
     "output_type": "stream",
     "text": [
      "[*********************100%***********************]  1 of 1 completed\n"
     ]
    },
    {
     "name": "stderr",
     "output_type": "stream",
     "text": [
      "C:\\Users\\patel_223gv41\\AppData\\Local\\Temp\\ipykernel_10348\\3310917388.py:7: PerformanceWarning: DataFrame is highly fragmented.  This is usually the result of calling `frame.insert` many times, which has poor performance.  Consider joining all columns at once using pd.concat(axis=1) instead. To get a de-fragmented frame, use `newframe = frame.copy()`\n",
      "  us_equities_close[ticker] = data['Adj Close']\n"
     ]
    },
    {
     "name": "stdout",
     "output_type": "stream",
     "text": [
      "[*********************100%***********************]  1 of 1 completed\n"
     ]
    },
    {
     "name": "stderr",
     "output_type": "stream",
     "text": [
      "C:\\Users\\patel_223gv41\\AppData\\Local\\Temp\\ipykernel_10348\\3310917388.py:7: PerformanceWarning: DataFrame is highly fragmented.  This is usually the result of calling `frame.insert` many times, which has poor performance.  Consider joining all columns at once using pd.concat(axis=1) instead. To get a de-fragmented frame, use `newframe = frame.copy()`\n",
      "  us_equities_close[ticker] = data['Adj Close']\n"
     ]
    },
    {
     "name": "stdout",
     "output_type": "stream",
     "text": [
      "[*********************100%***********************]  1 of 1 completed\n"
     ]
    },
    {
     "name": "stderr",
     "output_type": "stream",
     "text": [
      "C:\\Users\\patel_223gv41\\AppData\\Local\\Temp\\ipykernel_10348\\3310917388.py:7: PerformanceWarning: DataFrame is highly fragmented.  This is usually the result of calling `frame.insert` many times, which has poor performance.  Consider joining all columns at once using pd.concat(axis=1) instead. To get a de-fragmented frame, use `newframe = frame.copy()`\n",
      "  us_equities_close[ticker] = data['Adj Close']\n"
     ]
    },
    {
     "name": "stdout",
     "output_type": "stream",
     "text": [
      "[*********************100%***********************]  1 of 1 completed\n"
     ]
    },
    {
     "name": "stderr",
     "output_type": "stream",
     "text": [
      "C:\\Users\\patel_223gv41\\AppData\\Local\\Temp\\ipykernel_10348\\3310917388.py:7: PerformanceWarning: DataFrame is highly fragmented.  This is usually the result of calling `frame.insert` many times, which has poor performance.  Consider joining all columns at once using pd.concat(axis=1) instead. To get a de-fragmented frame, use `newframe = frame.copy()`\n",
      "  us_equities_close[ticker] = data['Adj Close']\n"
     ]
    },
    {
     "name": "stdout",
     "output_type": "stream",
     "text": [
      "[*********************100%***********************]  1 of 1 completed\n"
     ]
    },
    {
     "name": "stderr",
     "output_type": "stream",
     "text": [
      "C:\\Users\\patel_223gv41\\AppData\\Local\\Temp\\ipykernel_10348\\3310917388.py:7: PerformanceWarning: DataFrame is highly fragmented.  This is usually the result of calling `frame.insert` many times, which has poor performance.  Consider joining all columns at once using pd.concat(axis=1) instead. To get a de-fragmented frame, use `newframe = frame.copy()`\n",
      "  us_equities_close[ticker] = data['Adj Close']\n"
     ]
    },
    {
     "name": "stdout",
     "output_type": "stream",
     "text": [
      "[*********************100%***********************]  1 of 1 completed\n"
     ]
    },
    {
     "name": "stderr",
     "output_type": "stream",
     "text": [
      "C:\\Users\\patel_223gv41\\AppData\\Local\\Temp\\ipykernel_10348\\3310917388.py:7: PerformanceWarning: DataFrame is highly fragmented.  This is usually the result of calling `frame.insert` many times, which has poor performance.  Consider joining all columns at once using pd.concat(axis=1) instead. To get a de-fragmented frame, use `newframe = frame.copy()`\n",
      "  us_equities_close[ticker] = data['Adj Close']\n"
     ]
    },
    {
     "name": "stdout",
     "output_type": "stream",
     "text": [
      "[*********************100%***********************]  1 of 1 completed\n"
     ]
    },
    {
     "name": "stderr",
     "output_type": "stream",
     "text": [
      "C:\\Users\\patel_223gv41\\AppData\\Local\\Temp\\ipykernel_10348\\3310917388.py:7: PerformanceWarning: DataFrame is highly fragmented.  This is usually the result of calling `frame.insert` many times, which has poor performance.  Consider joining all columns at once using pd.concat(axis=1) instead. To get a de-fragmented frame, use `newframe = frame.copy()`\n",
      "  us_equities_close[ticker] = data['Adj Close']\n"
     ]
    },
    {
     "name": "stdout",
     "output_type": "stream",
     "text": [
      "[*********************100%***********************]  1 of 1 completed\n"
     ]
    },
    {
     "name": "stderr",
     "output_type": "stream",
     "text": [
      "C:\\Users\\patel_223gv41\\AppData\\Local\\Temp\\ipykernel_10348\\3310917388.py:7: PerformanceWarning: DataFrame is highly fragmented.  This is usually the result of calling `frame.insert` many times, which has poor performance.  Consider joining all columns at once using pd.concat(axis=1) instead. To get a de-fragmented frame, use `newframe = frame.copy()`\n",
      "  us_equities_close[ticker] = data['Adj Close']\n"
     ]
    },
    {
     "name": "stdout",
     "output_type": "stream",
     "text": [
      "[*********************100%***********************]  1 of 1 completed\n"
     ]
    },
    {
     "name": "stderr",
     "output_type": "stream",
     "text": [
      "C:\\Users\\patel_223gv41\\AppData\\Local\\Temp\\ipykernel_10348\\3310917388.py:7: PerformanceWarning: DataFrame is highly fragmented.  This is usually the result of calling `frame.insert` many times, which has poor performance.  Consider joining all columns at once using pd.concat(axis=1) instead. To get a de-fragmented frame, use `newframe = frame.copy()`\n",
      "  us_equities_close[ticker] = data['Adj Close']\n"
     ]
    },
    {
     "name": "stdout",
     "output_type": "stream",
     "text": [
      "[*********************100%***********************]  1 of 1 completed\n"
     ]
    },
    {
     "name": "stderr",
     "output_type": "stream",
     "text": [
      "C:\\Users\\patel_223gv41\\AppData\\Local\\Temp\\ipykernel_10348\\3310917388.py:7: PerformanceWarning: DataFrame is highly fragmented.  This is usually the result of calling `frame.insert` many times, which has poor performance.  Consider joining all columns at once using pd.concat(axis=1) instead. To get a de-fragmented frame, use `newframe = frame.copy()`\n",
      "  us_equities_close[ticker] = data['Adj Close']\n"
     ]
    },
    {
     "name": "stdout",
     "output_type": "stream",
     "text": [
      "[*********************100%***********************]  1 of 1 completed\n"
     ]
    },
    {
     "name": "stderr",
     "output_type": "stream",
     "text": [
      "C:\\Users\\patel_223gv41\\AppData\\Local\\Temp\\ipykernel_10348\\3310917388.py:7: PerformanceWarning: DataFrame is highly fragmented.  This is usually the result of calling `frame.insert` many times, which has poor performance.  Consider joining all columns at once using pd.concat(axis=1) instead. To get a de-fragmented frame, use `newframe = frame.copy()`\n",
      "  us_equities_close[ticker] = data['Adj Close']\n"
     ]
    },
    {
     "name": "stdout",
     "output_type": "stream",
     "text": [
      "[*********************100%***********************]  1 of 1 completed\n"
     ]
    },
    {
     "name": "stderr",
     "output_type": "stream",
     "text": [
      "C:\\Users\\patel_223gv41\\AppData\\Local\\Temp\\ipykernel_10348\\3310917388.py:7: PerformanceWarning: DataFrame is highly fragmented.  This is usually the result of calling `frame.insert` many times, which has poor performance.  Consider joining all columns at once using pd.concat(axis=1) instead. To get a de-fragmented frame, use `newframe = frame.copy()`\n",
      "  us_equities_close[ticker] = data['Adj Close']\n"
     ]
    },
    {
     "name": "stdout",
     "output_type": "stream",
     "text": [
      "[*********************100%***********************]  1 of 1 completed\n"
     ]
    },
    {
     "name": "stderr",
     "output_type": "stream",
     "text": [
      "C:\\Users\\patel_223gv41\\AppData\\Local\\Temp\\ipykernel_10348\\3310917388.py:7: PerformanceWarning: DataFrame is highly fragmented.  This is usually the result of calling `frame.insert` many times, which has poor performance.  Consider joining all columns at once using pd.concat(axis=1) instead. To get a de-fragmented frame, use `newframe = frame.copy()`\n",
      "  us_equities_close[ticker] = data['Adj Close']\n"
     ]
    },
    {
     "name": "stdout",
     "output_type": "stream",
     "text": [
      "[*********************100%***********************]  1 of 1 completed\n"
     ]
    },
    {
     "name": "stderr",
     "output_type": "stream",
     "text": [
      "C:\\Users\\patel_223gv41\\AppData\\Local\\Temp\\ipykernel_10348\\3310917388.py:7: PerformanceWarning: DataFrame is highly fragmented.  This is usually the result of calling `frame.insert` many times, which has poor performance.  Consider joining all columns at once using pd.concat(axis=1) instead. To get a de-fragmented frame, use `newframe = frame.copy()`\n",
      "  us_equities_close[ticker] = data['Adj Close']\n"
     ]
    },
    {
     "name": "stdout",
     "output_type": "stream",
     "text": [
      "[*********************100%***********************]  1 of 1 completed\n",
      "[*********************100%***********************]  1 of 1 completed"
     ]
    },
    {
     "name": "stderr",
     "output_type": "stream",
     "text": [
      "C:\\Users\\patel_223gv41\\AppData\\Local\\Temp\\ipykernel_10348\\3310917388.py:7: PerformanceWarning: DataFrame is highly fragmented.  This is usually the result of calling `frame.insert` many times, which has poor performance.  Consider joining all columns at once using pd.concat(axis=1) instead. To get a de-fragmented frame, use `newframe = frame.copy()`\n",
      "  us_equities_close[ticker] = data['Adj Close']\n",
      "C:\\Users\\patel_223gv41\\AppData\\Local\\Temp\\ipykernel_10348\\3310917388.py:7: PerformanceWarning: DataFrame is highly fragmented.  This is usually the result of calling `frame.insert` many times, which has poor performance.  Consider joining all columns at once using pd.concat(axis=1) instead. To get a de-fragmented frame, use `newframe = frame.copy()`\n",
      "  us_equities_close[ticker] = data['Adj Close']\n"
     ]
    },
    {
     "name": "stdout",
     "output_type": "stream",
     "text": [
      "\n",
      "[*********************100%***********************]  1 of 1 completed\n"
     ]
    },
    {
     "name": "stderr",
     "output_type": "stream",
     "text": [
      "C:\\Users\\patel_223gv41\\AppData\\Local\\Temp\\ipykernel_10348\\3310917388.py:7: PerformanceWarning: DataFrame is highly fragmented.  This is usually the result of calling `frame.insert` many times, which has poor performance.  Consider joining all columns at once using pd.concat(axis=1) instead. To get a de-fragmented frame, use `newframe = frame.copy()`\n",
      "  us_equities_close[ticker] = data['Adj Close']\n"
     ]
    },
    {
     "name": "stdout",
     "output_type": "stream",
     "text": [
      "[*********************100%***********************]  1 of 1 completed\n"
     ]
    },
    {
     "name": "stderr",
     "output_type": "stream",
     "text": [
      "C:\\Users\\patel_223gv41\\AppData\\Local\\Temp\\ipykernel_10348\\3310917388.py:7: PerformanceWarning: DataFrame is highly fragmented.  This is usually the result of calling `frame.insert` many times, which has poor performance.  Consider joining all columns at once using pd.concat(axis=1) instead. To get a de-fragmented frame, use `newframe = frame.copy()`\n",
      "  us_equities_close[ticker] = data['Adj Close']\n"
     ]
    },
    {
     "name": "stdout",
     "output_type": "stream",
     "text": [
      "[*********************100%***********************]  1 of 1 completed\n",
      "[*********************100%***********************]  1 of 1 completed\n"
     ]
    },
    {
     "name": "stderr",
     "output_type": "stream",
     "text": [
      "C:\\Users\\patel_223gv41\\AppData\\Local\\Temp\\ipykernel_10348\\3310917388.py:7: PerformanceWarning: DataFrame is highly fragmented.  This is usually the result of calling `frame.insert` many times, which has poor performance.  Consider joining all columns at once using pd.concat(axis=1) instead. To get a de-fragmented frame, use `newframe = frame.copy()`\n",
      "  us_equities_close[ticker] = data['Adj Close']\n",
      "C:\\Users\\patel_223gv41\\AppData\\Local\\Temp\\ipykernel_10348\\3310917388.py:7: PerformanceWarning: DataFrame is highly fragmented.  This is usually the result of calling `frame.insert` many times, which has poor performance.  Consider joining all columns at once using pd.concat(axis=1) instead. To get a de-fragmented frame, use `newframe = frame.copy()`\n",
      "  us_equities_close[ticker] = data['Adj Close']\n"
     ]
    },
    {
     "name": "stdout",
     "output_type": "stream",
     "text": [
      "[*********************100%***********************]  1 of 1 completed\n"
     ]
    },
    {
     "name": "stderr",
     "output_type": "stream",
     "text": [
      "C:\\Users\\patel_223gv41\\AppData\\Local\\Temp\\ipykernel_10348\\3310917388.py:7: PerformanceWarning: DataFrame is highly fragmented.  This is usually the result of calling `frame.insert` many times, which has poor performance.  Consider joining all columns at once using pd.concat(axis=1) instead. To get a de-fragmented frame, use `newframe = frame.copy()`\n",
      "  us_equities_close[ticker] = data['Adj Close']\n"
     ]
    },
    {
     "name": "stdout",
     "output_type": "stream",
     "text": [
      "[*********************100%***********************]  1 of 1 completed\n"
     ]
    },
    {
     "name": "stderr",
     "output_type": "stream",
     "text": [
      "C:\\Users\\patel_223gv41\\AppData\\Local\\Temp\\ipykernel_10348\\3310917388.py:7: PerformanceWarning: DataFrame is highly fragmented.  This is usually the result of calling `frame.insert` many times, which has poor performance.  Consider joining all columns at once using pd.concat(axis=1) instead. To get a de-fragmented frame, use `newframe = frame.copy()`\n",
      "  us_equities_close[ticker] = data['Adj Close']\n"
     ]
    },
    {
     "name": "stdout",
     "output_type": "stream",
     "text": [
      "[*********************100%***********************]  1 of 1 completed\n",
      "[*********************100%***********************]  1 of 1 completed"
     ]
    },
    {
     "name": "stderr",
     "output_type": "stream",
     "text": [
      "C:\\Users\\patel_223gv41\\AppData\\Local\\Temp\\ipykernel_10348\\3310917388.py:7: PerformanceWarning: DataFrame is highly fragmented.  This is usually the result of calling `frame.insert` many times, which has poor performance.  Consider joining all columns at once using pd.concat(axis=1) instead. To get a de-fragmented frame, use `newframe = frame.copy()`\n",
      "  us_equities_close[ticker] = data['Adj Close']\n",
      "C:\\Users\\patel_223gv41\\AppData\\Local\\Temp\\ipykernel_10348\\3310917388.py:7: PerformanceWarning: DataFrame is highly fragmented.  This is usually the result of calling `frame.insert` many times, which has poor performance.  Consider joining all columns at once using pd.concat(axis=1) instead. To get a de-fragmented frame, use `newframe = frame.copy()`\n",
      "  us_equities_close[ticker] = data['Adj Close']\n"
     ]
    },
    {
     "name": "stdout",
     "output_type": "stream",
     "text": [
      "\n",
      "[*********************100%***********************]  1 of 1 completed\n",
      "[*********************100%***********************]  1 of 1 completed"
     ]
    },
    {
     "name": "stderr",
     "output_type": "stream",
     "text": [
      "C:\\Users\\patel_223gv41\\AppData\\Local\\Temp\\ipykernel_10348\\3310917388.py:7: PerformanceWarning: DataFrame is highly fragmented.  This is usually the result of calling `frame.insert` many times, which has poor performance.  Consider joining all columns at once using pd.concat(axis=1) instead. To get a de-fragmented frame, use `newframe = frame.copy()`\n",
      "  us_equities_close[ticker] = data['Adj Close']\n",
      "C:\\Users\\patel_223gv41\\AppData\\Local\\Temp\\ipykernel_10348\\3310917388.py:7: PerformanceWarning: DataFrame is highly fragmented.  This is usually the result of calling `frame.insert` many times, which has poor performance.  Consider joining all columns at once using pd.concat(axis=1) instead. To get a de-fragmented frame, use `newframe = frame.copy()`\n",
      "  us_equities_close[ticker] = data['Adj Close']\n"
     ]
    },
    {
     "name": "stdout",
     "output_type": "stream",
     "text": [
      "\n",
      "[*********************100%***********************]  1 of 1 completed\n"
     ]
    },
    {
     "name": "stderr",
     "output_type": "stream",
     "text": [
      "C:\\Users\\patel_223gv41\\AppData\\Local\\Temp\\ipykernel_10348\\3310917388.py:7: PerformanceWarning: DataFrame is highly fragmented.  This is usually the result of calling `frame.insert` many times, which has poor performance.  Consider joining all columns at once using pd.concat(axis=1) instead. To get a de-fragmented frame, use `newframe = frame.copy()`\n",
      "  us_equities_close[ticker] = data['Adj Close']\n"
     ]
    },
    {
     "name": "stdout",
     "output_type": "stream",
     "text": [
      "[*********************100%***********************]  1 of 1 completed\n"
     ]
    },
    {
     "name": "stderr",
     "output_type": "stream",
     "text": [
      "C:\\Users\\patel_223gv41\\AppData\\Local\\Temp\\ipykernel_10348\\3310917388.py:7: PerformanceWarning: DataFrame is highly fragmented.  This is usually the result of calling `frame.insert` many times, which has poor performance.  Consider joining all columns at once using pd.concat(axis=1) instead. To get a de-fragmented frame, use `newframe = frame.copy()`\n",
      "  us_equities_close[ticker] = data['Adj Close']\n"
     ]
    },
    {
     "name": "stdout",
     "output_type": "stream",
     "text": [
      "[*********************100%***********************]  1 of 1 completed\n"
     ]
    },
    {
     "name": "stderr",
     "output_type": "stream",
     "text": [
      "C:\\Users\\patel_223gv41\\AppData\\Local\\Temp\\ipykernel_10348\\3310917388.py:7: PerformanceWarning: DataFrame is highly fragmented.  This is usually the result of calling `frame.insert` many times, which has poor performance.  Consider joining all columns at once using pd.concat(axis=1) instead. To get a de-fragmented frame, use `newframe = frame.copy()`\n",
      "  us_equities_close[ticker] = data['Adj Close']\n"
     ]
    },
    {
     "name": "stdout",
     "output_type": "stream",
     "text": [
      "[*********************100%***********************]  1 of 1 completed\n"
     ]
    },
    {
     "name": "stderr",
     "output_type": "stream",
     "text": [
      "C:\\Users\\patel_223gv41\\AppData\\Local\\Temp\\ipykernel_10348\\3310917388.py:7: PerformanceWarning: DataFrame is highly fragmented.  This is usually the result of calling `frame.insert` many times, which has poor performance.  Consider joining all columns at once using pd.concat(axis=1) instead. To get a de-fragmented frame, use `newframe = frame.copy()`\n",
      "  us_equities_close[ticker] = data['Adj Close']\n"
     ]
    },
    {
     "name": "stdout",
     "output_type": "stream",
     "text": [
      "[*********************100%***********************]  1 of 1 completed\n"
     ]
    },
    {
     "name": "stderr",
     "output_type": "stream",
     "text": [
      "C:\\Users\\patel_223gv41\\AppData\\Local\\Temp\\ipykernel_10348\\3310917388.py:7: PerformanceWarning: DataFrame is highly fragmented.  This is usually the result of calling `frame.insert` many times, which has poor performance.  Consider joining all columns at once using pd.concat(axis=1) instead. To get a de-fragmented frame, use `newframe = frame.copy()`\n",
      "  us_equities_close[ticker] = data['Adj Close']\n"
     ]
    },
    {
     "name": "stdout",
     "output_type": "stream",
     "text": [
      "[*********************100%***********************]  1 of 1 completed\n"
     ]
    },
    {
     "name": "stderr",
     "output_type": "stream",
     "text": [
      "C:\\Users\\patel_223gv41\\AppData\\Local\\Temp\\ipykernel_10348\\3310917388.py:7: PerformanceWarning: DataFrame is highly fragmented.  This is usually the result of calling `frame.insert` many times, which has poor performance.  Consider joining all columns at once using pd.concat(axis=1) instead. To get a de-fragmented frame, use `newframe = frame.copy()`\n",
      "  us_equities_close[ticker] = data['Adj Close']\n"
     ]
    },
    {
     "name": "stdout",
     "output_type": "stream",
     "text": [
      "[*********************100%***********************]  1 of 1 completed\n"
     ]
    },
    {
     "name": "stderr",
     "output_type": "stream",
     "text": [
      "C:\\Users\\patel_223gv41\\AppData\\Local\\Temp\\ipykernel_10348\\3310917388.py:7: PerformanceWarning: DataFrame is highly fragmented.  This is usually the result of calling `frame.insert` many times, which has poor performance.  Consider joining all columns at once using pd.concat(axis=1) instead. To get a de-fragmented frame, use `newframe = frame.copy()`\n",
      "  us_equities_close[ticker] = data['Adj Close']\n"
     ]
    },
    {
     "name": "stdout",
     "output_type": "stream",
     "text": [
      "[*********************100%***********************]  1 of 1 completed\n"
     ]
    },
    {
     "name": "stderr",
     "output_type": "stream",
     "text": [
      "C:\\Users\\patel_223gv41\\AppData\\Local\\Temp\\ipykernel_10348\\3310917388.py:7: PerformanceWarning: DataFrame is highly fragmented.  This is usually the result of calling `frame.insert` many times, which has poor performance.  Consider joining all columns at once using pd.concat(axis=1) instead. To get a de-fragmented frame, use `newframe = frame.copy()`\n",
      "  us_equities_close[ticker] = data['Adj Close']\n"
     ]
    },
    {
     "name": "stdout",
     "output_type": "stream",
     "text": [
      "[*********************100%***********************]  1 of 1 completed\n"
     ]
    },
    {
     "name": "stderr",
     "output_type": "stream",
     "text": [
      "C:\\Users\\patel_223gv41\\AppData\\Local\\Temp\\ipykernel_10348\\3310917388.py:7: PerformanceWarning: DataFrame is highly fragmented.  This is usually the result of calling `frame.insert` many times, which has poor performance.  Consider joining all columns at once using pd.concat(axis=1) instead. To get a de-fragmented frame, use `newframe = frame.copy()`\n",
      "  us_equities_close[ticker] = data['Adj Close']\n"
     ]
    },
    {
     "name": "stdout",
     "output_type": "stream",
     "text": [
      "[*********************100%***********************]  1 of 1 completed\n",
      "[*********************100%***********************]  1 of 1 completed"
     ]
    },
    {
     "name": "stderr",
     "output_type": "stream",
     "text": [
      "C:\\Users\\patel_223gv41\\AppData\\Local\\Temp\\ipykernel_10348\\3310917388.py:7: PerformanceWarning: DataFrame is highly fragmented.  This is usually the result of calling `frame.insert` many times, which has poor performance.  Consider joining all columns at once using pd.concat(axis=1) instead. To get a de-fragmented frame, use `newframe = frame.copy()`\n",
      "  us_equities_close[ticker] = data['Adj Close']\n"
     ]
    },
    {
     "name": "stdout",
     "output_type": "stream",
     "text": [
      "\n"
     ]
    },
    {
     "name": "stderr",
     "output_type": "stream",
     "text": [
      "C:\\Users\\patel_223gv41\\AppData\\Local\\Temp\\ipykernel_10348\\3310917388.py:7: PerformanceWarning: DataFrame is highly fragmented.  This is usually the result of calling `frame.insert` many times, which has poor performance.  Consider joining all columns at once using pd.concat(axis=1) instead. To get a de-fragmented frame, use `newframe = frame.copy()`\n",
      "  us_equities_close[ticker] = data['Adj Close']\n"
     ]
    },
    {
     "name": "stdout",
     "output_type": "stream",
     "text": [
      "[*********************100%***********************]  1 of 1 completed\n"
     ]
    },
    {
     "name": "stderr",
     "output_type": "stream",
     "text": [
      "C:\\Users\\patel_223gv41\\AppData\\Local\\Temp\\ipykernel_10348\\3310917388.py:7: PerformanceWarning: DataFrame is highly fragmented.  This is usually the result of calling `frame.insert` many times, which has poor performance.  Consider joining all columns at once using pd.concat(axis=1) instead. To get a de-fragmented frame, use `newframe = frame.copy()`\n",
      "  us_equities_close[ticker] = data['Adj Close']\n"
     ]
    },
    {
     "name": "stdout",
     "output_type": "stream",
     "text": [
      "[*********************100%***********************]  1 of 1 completed\n"
     ]
    },
    {
     "name": "stderr",
     "output_type": "stream",
     "text": [
      "C:\\Users\\patel_223gv41\\AppData\\Local\\Temp\\ipykernel_10348\\3310917388.py:7: PerformanceWarning: DataFrame is highly fragmented.  This is usually the result of calling `frame.insert` many times, which has poor performance.  Consider joining all columns at once using pd.concat(axis=1) instead. To get a de-fragmented frame, use `newframe = frame.copy()`\n",
      "  us_equities_close[ticker] = data['Adj Close']\n"
     ]
    },
    {
     "name": "stdout",
     "output_type": "stream",
     "text": [
      "[*********************100%***********************]  1 of 1 completed\n"
     ]
    },
    {
     "name": "stderr",
     "output_type": "stream",
     "text": [
      "C:\\Users\\patel_223gv41\\AppData\\Local\\Temp\\ipykernel_10348\\3310917388.py:7: PerformanceWarning: DataFrame is highly fragmented.  This is usually the result of calling `frame.insert` many times, which has poor performance.  Consider joining all columns at once using pd.concat(axis=1) instead. To get a de-fragmented frame, use `newframe = frame.copy()`\n",
      "  us_equities_close[ticker] = data['Adj Close']\n"
     ]
    },
    {
     "name": "stdout",
     "output_type": "stream",
     "text": [
      "[*********************100%***********************]  1 of 1 completed\n"
     ]
    },
    {
     "name": "stderr",
     "output_type": "stream",
     "text": [
      "C:\\Users\\patel_223gv41\\AppData\\Local\\Temp\\ipykernel_10348\\3310917388.py:7: PerformanceWarning: DataFrame is highly fragmented.  This is usually the result of calling `frame.insert` many times, which has poor performance.  Consider joining all columns at once using pd.concat(axis=1) instead. To get a de-fragmented frame, use `newframe = frame.copy()`\n",
      "  us_equities_close[ticker] = data['Adj Close']\n"
     ]
    },
    {
     "name": "stdout",
     "output_type": "stream",
     "text": [
      "[*********************100%***********************]  1 of 1 completed\n"
     ]
    },
    {
     "name": "stderr",
     "output_type": "stream",
     "text": [
      "C:\\Users\\patel_223gv41\\AppData\\Local\\Temp\\ipykernel_10348\\3310917388.py:7: PerformanceWarning: DataFrame is highly fragmented.  This is usually the result of calling `frame.insert` many times, which has poor performance.  Consider joining all columns at once using pd.concat(axis=1) instead. To get a de-fragmented frame, use `newframe = frame.copy()`\n",
      "  us_equities_close[ticker] = data['Adj Close']\n"
     ]
    },
    {
     "name": "stdout",
     "output_type": "stream",
     "text": [
      "[*********************100%***********************]  1 of 1 completed\n"
     ]
    },
    {
     "name": "stderr",
     "output_type": "stream",
     "text": [
      "C:\\Users\\patel_223gv41\\AppData\\Local\\Temp\\ipykernel_10348\\3310917388.py:7: PerformanceWarning: DataFrame is highly fragmented.  This is usually the result of calling `frame.insert` many times, which has poor performance.  Consider joining all columns at once using pd.concat(axis=1) instead. To get a de-fragmented frame, use `newframe = frame.copy()`\n",
      "  us_equities_close[ticker] = data['Adj Close']\n"
     ]
    },
    {
     "name": "stdout",
     "output_type": "stream",
     "text": [
      "[*********************100%***********************]  1 of 1 completed\n"
     ]
    },
    {
     "name": "stderr",
     "output_type": "stream",
     "text": [
      "C:\\Users\\patel_223gv41\\AppData\\Local\\Temp\\ipykernel_10348\\3310917388.py:7: PerformanceWarning: DataFrame is highly fragmented.  This is usually the result of calling `frame.insert` many times, which has poor performance.  Consider joining all columns at once using pd.concat(axis=1) instead. To get a de-fragmented frame, use `newframe = frame.copy()`\n",
      "  us_equities_close[ticker] = data['Adj Close']\n"
     ]
    },
    {
     "name": "stdout",
     "output_type": "stream",
     "text": [
      "[*********************100%***********************]  1 of 1 completed\n"
     ]
    },
    {
     "name": "stderr",
     "output_type": "stream",
     "text": [
      "C:\\Users\\patel_223gv41\\AppData\\Local\\Temp\\ipykernel_10348\\3310917388.py:7: PerformanceWarning: DataFrame is highly fragmented.  This is usually the result of calling `frame.insert` many times, which has poor performance.  Consider joining all columns at once using pd.concat(axis=1) instead. To get a de-fragmented frame, use `newframe = frame.copy()`\n",
      "  us_equities_close[ticker] = data['Adj Close']\n"
     ]
    },
    {
     "name": "stdout",
     "output_type": "stream",
     "text": [
      "[*********************100%***********************]  1 of 1 completed\n"
     ]
    },
    {
     "name": "stderr",
     "output_type": "stream",
     "text": [
      "C:\\Users\\patel_223gv41\\AppData\\Local\\Temp\\ipykernel_10348\\3310917388.py:7: PerformanceWarning: DataFrame is highly fragmented.  This is usually the result of calling `frame.insert` many times, which has poor performance.  Consider joining all columns at once using pd.concat(axis=1) instead. To get a de-fragmented frame, use `newframe = frame.copy()`\n",
      "  us_equities_close[ticker] = data['Adj Close']\n"
     ]
    },
    {
     "name": "stdout",
     "output_type": "stream",
     "text": [
      "[*********************100%***********************]  1 of 1 completed\n"
     ]
    },
    {
     "name": "stderr",
     "output_type": "stream",
     "text": [
      "C:\\Users\\patel_223gv41\\AppData\\Local\\Temp\\ipykernel_10348\\3310917388.py:7: PerformanceWarning: DataFrame is highly fragmented.  This is usually the result of calling `frame.insert` many times, which has poor performance.  Consider joining all columns at once using pd.concat(axis=1) instead. To get a de-fragmented frame, use `newframe = frame.copy()`\n",
      "  us_equities_close[ticker] = data['Adj Close']\n"
     ]
    },
    {
     "name": "stdout",
     "output_type": "stream",
     "text": [
      "[*********************100%***********************]  1 of 1 completed\n"
     ]
    },
    {
     "name": "stderr",
     "output_type": "stream",
     "text": [
      "C:\\Users\\patel_223gv41\\AppData\\Local\\Temp\\ipykernel_10348\\3310917388.py:7: PerformanceWarning: DataFrame is highly fragmented.  This is usually the result of calling `frame.insert` many times, which has poor performance.  Consider joining all columns at once using pd.concat(axis=1) instead. To get a de-fragmented frame, use `newframe = frame.copy()`\n",
      "  us_equities_close[ticker] = data['Adj Close']\n"
     ]
    },
    {
     "name": "stdout",
     "output_type": "stream",
     "text": [
      "[*********************100%***********************]  1 of 1 completed\n"
     ]
    },
    {
     "name": "stderr",
     "output_type": "stream",
     "text": [
      "C:\\Users\\patel_223gv41\\AppData\\Local\\Temp\\ipykernel_10348\\3310917388.py:7: PerformanceWarning: DataFrame is highly fragmented.  This is usually the result of calling `frame.insert` many times, which has poor performance.  Consider joining all columns at once using pd.concat(axis=1) instead. To get a de-fragmented frame, use `newframe = frame.copy()`\n",
      "  us_equities_close[ticker] = data['Adj Close']\n"
     ]
    },
    {
     "name": "stdout",
     "output_type": "stream",
     "text": [
      "[*********************100%***********************]  1 of 1 completed\n",
      "[*********************100%***********************]  1 of 1 completed"
     ]
    },
    {
     "name": "stderr",
     "output_type": "stream",
     "text": [
      "C:\\Users\\patel_223gv41\\AppData\\Local\\Temp\\ipykernel_10348\\3310917388.py:7: PerformanceWarning: DataFrame is highly fragmented.  This is usually the result of calling `frame.insert` many times, which has poor performance.  Consider joining all columns at once using pd.concat(axis=1) instead. To get a de-fragmented frame, use `newframe = frame.copy()`\n",
      "  us_equities_close[ticker] = data['Adj Close']\n"
     ]
    },
    {
     "name": "stdout",
     "output_type": "stream",
     "text": [
      "\n",
      "[*********************100%***********************]  1 of 1 completed"
     ]
    },
    {
     "name": "stderr",
     "output_type": "stream",
     "text": [
      "C:\\Users\\patel_223gv41\\AppData\\Local\\Temp\\ipykernel_10348\\3310917388.py:7: PerformanceWarning: DataFrame is highly fragmented.  This is usually the result of calling `frame.insert` many times, which has poor performance.  Consider joining all columns at once using pd.concat(axis=1) instead. To get a de-fragmented frame, use `newframe = frame.copy()`\n",
      "  us_equities_close[ticker] = data['Adj Close']\n"
     ]
    },
    {
     "name": "stdout",
     "output_type": "stream",
     "text": [
      "\n"
     ]
    },
    {
     "name": "stderr",
     "output_type": "stream",
     "text": [
      "C:\\Users\\patel_223gv41\\AppData\\Local\\Temp\\ipykernel_10348\\3310917388.py:7: PerformanceWarning: DataFrame is highly fragmented.  This is usually the result of calling `frame.insert` many times, which has poor performance.  Consider joining all columns at once using pd.concat(axis=1) instead. To get a de-fragmented frame, use `newframe = frame.copy()`\n",
      "  us_equities_close[ticker] = data['Adj Close']\n"
     ]
    },
    {
     "name": "stdout",
     "output_type": "stream",
     "text": [
      "[*********************100%***********************]  1 of 1 completed\n"
     ]
    },
    {
     "name": "stderr",
     "output_type": "stream",
     "text": [
      "C:\\Users\\patel_223gv41\\AppData\\Local\\Temp\\ipykernel_10348\\3310917388.py:7: PerformanceWarning: DataFrame is highly fragmented.  This is usually the result of calling `frame.insert` many times, which has poor performance.  Consider joining all columns at once using pd.concat(axis=1) instead. To get a de-fragmented frame, use `newframe = frame.copy()`\n",
      "  us_equities_close[ticker] = data['Adj Close']\n"
     ]
    },
    {
     "name": "stdout",
     "output_type": "stream",
     "text": [
      "[*********************100%***********************]  1 of 1 completed\n"
     ]
    },
    {
     "name": "stderr",
     "output_type": "stream",
     "text": [
      "C:\\Users\\patel_223gv41\\AppData\\Local\\Temp\\ipykernel_10348\\3310917388.py:7: PerformanceWarning: DataFrame is highly fragmented.  This is usually the result of calling `frame.insert` many times, which has poor performance.  Consider joining all columns at once using pd.concat(axis=1) instead. To get a de-fragmented frame, use `newframe = frame.copy()`\n",
      "  us_equities_close[ticker] = data['Adj Close']\n"
     ]
    },
    {
     "name": "stdout",
     "output_type": "stream",
     "text": [
      "[*********************100%***********************]  1 of 1 completed\n"
     ]
    },
    {
     "name": "stderr",
     "output_type": "stream",
     "text": [
      "C:\\Users\\patel_223gv41\\AppData\\Local\\Temp\\ipykernel_10348\\3310917388.py:7: PerformanceWarning: DataFrame is highly fragmented.  This is usually the result of calling `frame.insert` many times, which has poor performance.  Consider joining all columns at once using pd.concat(axis=1) instead. To get a de-fragmented frame, use `newframe = frame.copy()`\n",
      "  us_equities_close[ticker] = data['Adj Close']\n"
     ]
    },
    {
     "name": "stdout",
     "output_type": "stream",
     "text": [
      "[*********************100%***********************]  1 of 1 completed\n",
      "[*********************100%***********************]  1 of 1 completed"
     ]
    },
    {
     "name": "stderr",
     "output_type": "stream",
     "text": [
      "C:\\Users\\patel_223gv41\\AppData\\Local\\Temp\\ipykernel_10348\\3310917388.py:7: PerformanceWarning: DataFrame is highly fragmented.  This is usually the result of calling `frame.insert` many times, which has poor performance.  Consider joining all columns at once using pd.concat(axis=1) instead. To get a de-fragmented frame, use `newframe = frame.copy()`\n",
      "  us_equities_close[ticker] = data['Adj Close']\n"
     ]
    },
    {
     "name": "stdout",
     "output_type": "stream",
     "text": [
      "\n",
      "[*********************100%***********************]  1 of 1 completed"
     ]
    },
    {
     "name": "stderr",
     "output_type": "stream",
     "text": [
      "C:\\Users\\patel_223gv41\\AppData\\Local\\Temp\\ipykernel_10348\\3310917388.py:7: PerformanceWarning: DataFrame is highly fragmented.  This is usually the result of calling `frame.insert` many times, which has poor performance.  Consider joining all columns at once using pd.concat(axis=1) instead. To get a de-fragmented frame, use `newframe = frame.copy()`\n",
      "  us_equities_close[ticker] = data['Adj Close']\n",
      "C:\\Users\\patel_223gv41\\AppData\\Local\\Temp\\ipykernel_10348\\3310917388.py:7: PerformanceWarning: DataFrame is highly fragmented.  This is usually the result of calling `frame.insert` many times, which has poor performance.  Consider joining all columns at once using pd.concat(axis=1) instead. To get a de-fragmented frame, use `newframe = frame.copy()`\n",
      "  us_equities_close[ticker] = data['Adj Close']\n"
     ]
    },
    {
     "name": "stdout",
     "output_type": "stream",
     "text": [
      "\n",
      "[*********************100%***********************]  1 of 1 completed\n"
     ]
    },
    {
     "name": "stderr",
     "output_type": "stream",
     "text": [
      "C:\\Users\\patel_223gv41\\AppData\\Local\\Temp\\ipykernel_10348\\3310917388.py:7: PerformanceWarning: DataFrame is highly fragmented.  This is usually the result of calling `frame.insert` many times, which has poor performance.  Consider joining all columns at once using pd.concat(axis=1) instead. To get a de-fragmented frame, use `newframe = frame.copy()`\n",
      "  us_equities_close[ticker] = data['Adj Close']\n"
     ]
    },
    {
     "name": "stdout",
     "output_type": "stream",
     "text": [
      "[*********************100%***********************]  1 of 1 completed\n"
     ]
    },
    {
     "name": "stderr",
     "output_type": "stream",
     "text": [
      "C:\\Users\\patel_223gv41\\AppData\\Local\\Temp\\ipykernel_10348\\3310917388.py:7: PerformanceWarning: DataFrame is highly fragmented.  This is usually the result of calling `frame.insert` many times, which has poor performance.  Consider joining all columns at once using pd.concat(axis=1) instead. To get a de-fragmented frame, use `newframe = frame.copy()`\n",
      "  us_equities_close[ticker] = data['Adj Close']\n"
     ]
    },
    {
     "name": "stdout",
     "output_type": "stream",
     "text": [
      "[*********************100%***********************]  1 of 1 completed\n",
      "[*********************100%***********************]  1 of 1 completed"
     ]
    },
    {
     "name": "stderr",
     "output_type": "stream",
     "text": [
      "C:\\Users\\patel_223gv41\\AppData\\Local\\Temp\\ipykernel_10348\\3310917388.py:7: PerformanceWarning: DataFrame is highly fragmented.  This is usually the result of calling `frame.insert` many times, which has poor performance.  Consider joining all columns at once using pd.concat(axis=1) instead. To get a de-fragmented frame, use `newframe = frame.copy()`\n",
      "  us_equities_close[ticker] = data['Adj Close']\n",
      "C:\\Users\\patel_223gv41\\AppData\\Local\\Temp\\ipykernel_10348\\3310917388.py:7: PerformanceWarning: DataFrame is highly fragmented.  This is usually the result of calling `frame.insert` many times, which has poor performance.  Consider joining all columns at once using pd.concat(axis=1) instead. To get a de-fragmented frame, use `newframe = frame.copy()`\n",
      "  us_equities_close[ticker] = data['Adj Close']\n"
     ]
    },
    {
     "name": "stdout",
     "output_type": "stream",
     "text": [
      "\n",
      "[*********************100%***********************]  1 of 1 completed\n",
      "[*********************100%***********************]  1 of 1 completed"
     ]
    },
    {
     "name": "stderr",
     "output_type": "stream",
     "text": [
      "C:\\Users\\patel_223gv41\\AppData\\Local\\Temp\\ipykernel_10348\\3310917388.py:7: PerformanceWarning: DataFrame is highly fragmented.  This is usually the result of calling `frame.insert` many times, which has poor performance.  Consider joining all columns at once using pd.concat(axis=1) instead. To get a de-fragmented frame, use `newframe = frame.copy()`\n",
      "  us_equities_close[ticker] = data['Adj Close']\n"
     ]
    },
    {
     "name": "stdout",
     "output_type": "stream",
     "text": [
      "\n"
     ]
    },
    {
     "name": "stderr",
     "output_type": "stream",
     "text": [
      "C:\\Users\\patel_223gv41\\AppData\\Local\\Temp\\ipykernel_10348\\3310917388.py:7: PerformanceWarning: DataFrame is highly fragmented.  This is usually the result of calling `frame.insert` many times, which has poor performance.  Consider joining all columns at once using pd.concat(axis=1) instead. To get a de-fragmented frame, use `newframe = frame.copy()`\n",
      "  us_equities_close[ticker] = data['Adj Close']\n"
     ]
    },
    {
     "name": "stdout",
     "output_type": "stream",
     "text": [
      "[*********************100%***********************]  1 of 1 completed\n"
     ]
    },
    {
     "name": "stderr",
     "output_type": "stream",
     "text": [
      "C:\\Users\\patel_223gv41\\AppData\\Local\\Temp\\ipykernel_10348\\3310917388.py:7: PerformanceWarning: DataFrame is highly fragmented.  This is usually the result of calling `frame.insert` many times, which has poor performance.  Consider joining all columns at once using pd.concat(axis=1) instead. To get a de-fragmented frame, use `newframe = frame.copy()`\n",
      "  us_equities_close[ticker] = data['Adj Close']\n"
     ]
    },
    {
     "name": "stdout",
     "output_type": "stream",
     "text": [
      "[*********************100%***********************]  1 of 1 completed\n"
     ]
    },
    {
     "name": "stderr",
     "output_type": "stream",
     "text": [
      "C:\\Users\\patel_223gv41\\AppData\\Local\\Temp\\ipykernel_10348\\3310917388.py:7: PerformanceWarning: DataFrame is highly fragmented.  This is usually the result of calling `frame.insert` many times, which has poor performance.  Consider joining all columns at once using pd.concat(axis=1) instead. To get a de-fragmented frame, use `newframe = frame.copy()`\n",
      "  us_equities_close[ticker] = data['Adj Close']\n"
     ]
    },
    {
     "name": "stdout",
     "output_type": "stream",
     "text": [
      "[*********************100%***********************]  1 of 1 completed\n"
     ]
    },
    {
     "name": "stderr",
     "output_type": "stream",
     "text": [
      "C:\\Users\\patel_223gv41\\AppData\\Local\\Temp\\ipykernel_10348\\3310917388.py:7: PerformanceWarning: DataFrame is highly fragmented.  This is usually the result of calling `frame.insert` many times, which has poor performance.  Consider joining all columns at once using pd.concat(axis=1) instead. To get a de-fragmented frame, use `newframe = frame.copy()`\n",
      "  us_equities_close[ticker] = data['Adj Close']\n"
     ]
    },
    {
     "name": "stdout",
     "output_type": "stream",
     "text": [
      "[*********************100%***********************]  1 of 1 completed\n"
     ]
    },
    {
     "name": "stderr",
     "output_type": "stream",
     "text": [
      "C:\\Users\\patel_223gv41\\AppData\\Local\\Temp\\ipykernel_10348\\3310917388.py:7: PerformanceWarning: DataFrame is highly fragmented.  This is usually the result of calling `frame.insert` many times, which has poor performance.  Consider joining all columns at once using pd.concat(axis=1) instead. To get a de-fragmented frame, use `newframe = frame.copy()`\n",
      "  us_equities_close[ticker] = data['Adj Close']\n"
     ]
    },
    {
     "name": "stdout",
     "output_type": "stream",
     "text": [
      "[*********************100%***********************]  1 of 1 completed\n"
     ]
    },
    {
     "name": "stderr",
     "output_type": "stream",
     "text": [
      "C:\\Users\\patel_223gv41\\AppData\\Local\\Temp\\ipykernel_10348\\3310917388.py:7: PerformanceWarning: DataFrame is highly fragmented.  This is usually the result of calling `frame.insert` many times, which has poor performance.  Consider joining all columns at once using pd.concat(axis=1) instead. To get a de-fragmented frame, use `newframe = frame.copy()`\n",
      "  us_equities_close[ticker] = data['Adj Close']\n"
     ]
    },
    {
     "name": "stdout",
     "output_type": "stream",
     "text": [
      "[*********************100%***********************]  1 of 1 completed\n"
     ]
    },
    {
     "name": "stderr",
     "output_type": "stream",
     "text": [
      "C:\\Users\\patel_223gv41\\AppData\\Local\\Temp\\ipykernel_10348\\3310917388.py:7: PerformanceWarning: DataFrame is highly fragmented.  This is usually the result of calling `frame.insert` many times, which has poor performance.  Consider joining all columns at once using pd.concat(axis=1) instead. To get a de-fragmented frame, use `newframe = frame.copy()`\n",
      "  us_equities_close[ticker] = data['Adj Close']\n"
     ]
    },
    {
     "name": "stdout",
     "output_type": "stream",
     "text": [
      "[*********************100%***********************]  1 of 1 completed\n",
      "[*********************100%***********************]  1 of 1 completed"
     ]
    },
    {
     "name": "stderr",
     "output_type": "stream",
     "text": [
      "C:\\Users\\patel_223gv41\\AppData\\Local\\Temp\\ipykernel_10348\\3310917388.py:7: PerformanceWarning: DataFrame is highly fragmented.  This is usually the result of calling `frame.insert` many times, which has poor performance.  Consider joining all columns at once using pd.concat(axis=1) instead. To get a de-fragmented frame, use `newframe = frame.copy()`\n",
      "  us_equities_close[ticker] = data['Adj Close']\n",
      "C:\\Users\\patel_223gv41\\AppData\\Local\\Temp\\ipykernel_10348\\3310917388.py:7: PerformanceWarning: DataFrame is highly fragmented.  This is usually the result of calling `frame.insert` many times, which has poor performance.  Consider joining all columns at once using pd.concat(axis=1) instead. To get a de-fragmented frame, use `newframe = frame.copy()`\n",
      "  us_equities_close[ticker] = data['Adj Close']\n"
     ]
    },
    {
     "name": "stdout",
     "output_type": "stream",
     "text": [
      "\n",
      "[*********************100%***********************]  1 of 1 completed\n"
     ]
    },
    {
     "name": "stderr",
     "output_type": "stream",
     "text": [
      "C:\\Users\\patel_223gv41\\AppData\\Local\\Temp\\ipykernel_10348\\3310917388.py:7: PerformanceWarning: DataFrame is highly fragmented.  This is usually the result of calling `frame.insert` many times, which has poor performance.  Consider joining all columns at once using pd.concat(axis=1) instead. To get a de-fragmented frame, use `newframe = frame.copy()`\n",
      "  us_equities_close[ticker] = data['Adj Close']\n"
     ]
    },
    {
     "name": "stdout",
     "output_type": "stream",
     "text": [
      "[*********************100%***********************]  1 of 1 completed\n"
     ]
    },
    {
     "name": "stderr",
     "output_type": "stream",
     "text": [
      "C:\\Users\\patel_223gv41\\AppData\\Local\\Temp\\ipykernel_10348\\3310917388.py:7: PerformanceWarning: DataFrame is highly fragmented.  This is usually the result of calling `frame.insert` many times, which has poor performance.  Consider joining all columns at once using pd.concat(axis=1) instead. To get a de-fragmented frame, use `newframe = frame.copy()`\n",
      "  us_equities_close[ticker] = data['Adj Close']\n"
     ]
    },
    {
     "name": "stdout",
     "output_type": "stream",
     "text": [
      "[*********************100%***********************]  1 of 1 completed\n"
     ]
    },
    {
     "name": "stderr",
     "output_type": "stream",
     "text": [
      "C:\\Users\\patel_223gv41\\AppData\\Local\\Temp\\ipykernel_10348\\3310917388.py:7: PerformanceWarning: DataFrame is highly fragmented.  This is usually the result of calling `frame.insert` many times, which has poor performance.  Consider joining all columns at once using pd.concat(axis=1) instead. To get a de-fragmented frame, use `newframe = frame.copy()`\n",
      "  us_equities_close[ticker] = data['Adj Close']\n"
     ]
    },
    {
     "name": "stdout",
     "output_type": "stream",
     "text": [
      "[*********************100%***********************]  1 of 1 completed\n"
     ]
    },
    {
     "name": "stderr",
     "output_type": "stream",
     "text": [
      "C:\\Users\\patel_223gv41\\AppData\\Local\\Temp\\ipykernel_10348\\3310917388.py:7: PerformanceWarning: DataFrame is highly fragmented.  This is usually the result of calling `frame.insert` many times, which has poor performance.  Consider joining all columns at once using pd.concat(axis=1) instead. To get a de-fragmented frame, use `newframe = frame.copy()`\n",
      "  us_equities_close[ticker] = data['Adj Close']\n"
     ]
    },
    {
     "name": "stdout",
     "output_type": "stream",
     "text": [
      "[*********************100%***********************]  1 of 1 completed\n"
     ]
    },
    {
     "name": "stderr",
     "output_type": "stream",
     "text": [
      "C:\\Users\\patel_223gv41\\AppData\\Local\\Temp\\ipykernel_10348\\3310917388.py:7: PerformanceWarning: DataFrame is highly fragmented.  This is usually the result of calling `frame.insert` many times, which has poor performance.  Consider joining all columns at once using pd.concat(axis=1) instead. To get a de-fragmented frame, use `newframe = frame.copy()`\n",
      "  us_equities_close[ticker] = data['Adj Close']\n"
     ]
    },
    {
     "name": "stdout",
     "output_type": "stream",
     "text": [
      "[*********************100%***********************]  1 of 1 completed\n"
     ]
    },
    {
     "name": "stderr",
     "output_type": "stream",
     "text": [
      "C:\\Users\\patel_223gv41\\AppData\\Local\\Temp\\ipykernel_10348\\3310917388.py:7: PerformanceWarning: DataFrame is highly fragmented.  This is usually the result of calling `frame.insert` many times, which has poor performance.  Consider joining all columns at once using pd.concat(axis=1) instead. To get a de-fragmented frame, use `newframe = frame.copy()`\n",
      "  us_equities_close[ticker] = data['Adj Close']\n"
     ]
    },
    {
     "name": "stdout",
     "output_type": "stream",
     "text": [
      "[*********************100%***********************]  1 of 1 completed\n"
     ]
    },
    {
     "name": "stderr",
     "output_type": "stream",
     "text": [
      "C:\\Users\\patel_223gv41\\AppData\\Local\\Temp\\ipykernel_10348\\3310917388.py:7: PerformanceWarning: DataFrame is highly fragmented.  This is usually the result of calling `frame.insert` many times, which has poor performance.  Consider joining all columns at once using pd.concat(axis=1) instead. To get a de-fragmented frame, use `newframe = frame.copy()`\n",
      "  us_equities_close[ticker] = data['Adj Close']\n"
     ]
    },
    {
     "name": "stdout",
     "output_type": "stream",
     "text": [
      "[*********************100%***********************]  1 of 1 completed\n"
     ]
    },
    {
     "name": "stderr",
     "output_type": "stream",
     "text": [
      "C:\\Users\\patel_223gv41\\AppData\\Local\\Temp\\ipykernel_10348\\3310917388.py:7: PerformanceWarning: DataFrame is highly fragmented.  This is usually the result of calling `frame.insert` many times, which has poor performance.  Consider joining all columns at once using pd.concat(axis=1) instead. To get a de-fragmented frame, use `newframe = frame.copy()`\n",
      "  us_equities_close[ticker] = data['Adj Close']\n"
     ]
    },
    {
     "name": "stdout",
     "output_type": "stream",
     "text": [
      "[*********************100%***********************]  1 of 1 completed\n"
     ]
    },
    {
     "name": "stderr",
     "output_type": "stream",
     "text": [
      "C:\\Users\\patel_223gv41\\AppData\\Local\\Temp\\ipykernel_10348\\3310917388.py:7: PerformanceWarning: DataFrame is highly fragmented.  This is usually the result of calling `frame.insert` many times, which has poor performance.  Consider joining all columns at once using pd.concat(axis=1) instead. To get a de-fragmented frame, use `newframe = frame.copy()`\n",
      "  us_equities_close[ticker] = data['Adj Close']\n"
     ]
    },
    {
     "name": "stdout",
     "output_type": "stream",
     "text": [
      "[*********************100%***********************]  1 of 1 completed\n"
     ]
    },
    {
     "name": "stderr",
     "output_type": "stream",
     "text": [
      "C:\\Users\\patel_223gv41\\AppData\\Local\\Temp\\ipykernel_10348\\3310917388.py:7: PerformanceWarning: DataFrame is highly fragmented.  This is usually the result of calling `frame.insert` many times, which has poor performance.  Consider joining all columns at once using pd.concat(axis=1) instead. To get a de-fragmented frame, use `newframe = frame.copy()`\n",
      "  us_equities_close[ticker] = data['Adj Close']\n"
     ]
    },
    {
     "name": "stdout",
     "output_type": "stream",
     "text": [
      "[*********************100%***********************]  1 of 1 completed\n"
     ]
    },
    {
     "name": "stderr",
     "output_type": "stream",
     "text": [
      "C:\\Users\\patel_223gv41\\AppData\\Local\\Temp\\ipykernel_10348\\3310917388.py:7: PerformanceWarning: DataFrame is highly fragmented.  This is usually the result of calling `frame.insert` many times, which has poor performance.  Consider joining all columns at once using pd.concat(axis=1) instead. To get a de-fragmented frame, use `newframe = frame.copy()`\n",
      "  us_equities_close[ticker] = data['Adj Close']\n"
     ]
    },
    {
     "name": "stdout",
     "output_type": "stream",
     "text": [
      "[*********************100%***********************]  1 of 1 completed\n"
     ]
    },
    {
     "name": "stderr",
     "output_type": "stream",
     "text": [
      "C:\\Users\\patel_223gv41\\AppData\\Local\\Temp\\ipykernel_10348\\3310917388.py:7: PerformanceWarning: DataFrame is highly fragmented.  This is usually the result of calling `frame.insert` many times, which has poor performance.  Consider joining all columns at once using pd.concat(axis=1) instead. To get a de-fragmented frame, use `newframe = frame.copy()`\n",
      "  us_equities_close[ticker] = data['Adj Close']\n"
     ]
    },
    {
     "name": "stdout",
     "output_type": "stream",
     "text": [
      "[*********************100%***********************]  1 of 1 completed\n"
     ]
    },
    {
     "name": "stderr",
     "output_type": "stream",
     "text": [
      "C:\\Users\\patel_223gv41\\AppData\\Local\\Temp\\ipykernel_10348\\3310917388.py:7: PerformanceWarning: DataFrame is highly fragmented.  This is usually the result of calling `frame.insert` many times, which has poor performance.  Consider joining all columns at once using pd.concat(axis=1) instead. To get a de-fragmented frame, use `newframe = frame.copy()`\n",
      "  us_equities_close[ticker] = data['Adj Close']\n"
     ]
    },
    {
     "name": "stdout",
     "output_type": "stream",
     "text": [
      "[*********************100%***********************]  1 of 1 completed\n"
     ]
    },
    {
     "name": "stderr",
     "output_type": "stream",
     "text": [
      "C:\\Users\\patel_223gv41\\AppData\\Local\\Temp\\ipykernel_10348\\3310917388.py:7: PerformanceWarning: DataFrame is highly fragmented.  This is usually the result of calling `frame.insert` many times, which has poor performance.  Consider joining all columns at once using pd.concat(axis=1) instead. To get a de-fragmented frame, use `newframe = frame.copy()`\n",
      "  us_equities_close[ticker] = data['Adj Close']\n"
     ]
    },
    {
     "name": "stdout",
     "output_type": "stream",
     "text": [
      "[*********************100%***********************]  1 of 1 completed\n"
     ]
    },
    {
     "name": "stderr",
     "output_type": "stream",
     "text": [
      "C:\\Users\\patel_223gv41\\AppData\\Local\\Temp\\ipykernel_10348\\3310917388.py:7: PerformanceWarning: DataFrame is highly fragmented.  This is usually the result of calling `frame.insert` many times, which has poor performance.  Consider joining all columns at once using pd.concat(axis=1) instead. To get a de-fragmented frame, use `newframe = frame.copy()`\n",
      "  us_equities_close[ticker] = data['Adj Close']\n"
     ]
    },
    {
     "name": "stdout",
     "output_type": "stream",
     "text": [
      "[*********************100%***********************]  1 of 1 completed\n"
     ]
    },
    {
     "name": "stderr",
     "output_type": "stream",
     "text": [
      "C:\\Users\\patel_223gv41\\AppData\\Local\\Temp\\ipykernel_10348\\3310917388.py:7: PerformanceWarning: DataFrame is highly fragmented.  This is usually the result of calling `frame.insert` many times, which has poor performance.  Consider joining all columns at once using pd.concat(axis=1) instead. To get a de-fragmented frame, use `newframe = frame.copy()`\n",
      "  us_equities_close[ticker] = data['Adj Close']\n"
     ]
    },
    {
     "name": "stdout",
     "output_type": "stream",
     "text": [
      "[*********************100%***********************]  1 of 1 completed\n"
     ]
    },
    {
     "name": "stderr",
     "output_type": "stream",
     "text": [
      "C:\\Users\\patel_223gv41\\AppData\\Local\\Temp\\ipykernel_10348\\3310917388.py:7: PerformanceWarning: DataFrame is highly fragmented.  This is usually the result of calling `frame.insert` many times, which has poor performance.  Consider joining all columns at once using pd.concat(axis=1) instead. To get a de-fragmented frame, use `newframe = frame.copy()`\n",
      "  us_equities_close[ticker] = data['Adj Close']\n"
     ]
    },
    {
     "name": "stdout",
     "output_type": "stream",
     "text": [
      "[*********************100%***********************]  1 of 1 completed\n"
     ]
    },
    {
     "name": "stderr",
     "output_type": "stream",
     "text": [
      "C:\\Users\\patel_223gv41\\AppData\\Local\\Temp\\ipykernel_10348\\3310917388.py:7: PerformanceWarning: DataFrame is highly fragmented.  This is usually the result of calling `frame.insert` many times, which has poor performance.  Consider joining all columns at once using pd.concat(axis=1) instead. To get a de-fragmented frame, use `newframe = frame.copy()`\n",
      "  us_equities_close[ticker] = data['Adj Close']\n"
     ]
    },
    {
     "name": "stdout",
     "output_type": "stream",
     "text": [
      "[*********************100%***********************]  1 of 1 completed\n"
     ]
    },
    {
     "name": "stderr",
     "output_type": "stream",
     "text": [
      "C:\\Users\\patel_223gv41\\AppData\\Local\\Temp\\ipykernel_10348\\3310917388.py:7: PerformanceWarning: DataFrame is highly fragmented.  This is usually the result of calling `frame.insert` many times, which has poor performance.  Consider joining all columns at once using pd.concat(axis=1) instead. To get a de-fragmented frame, use `newframe = frame.copy()`\n",
      "  us_equities_close[ticker] = data['Adj Close']\n"
     ]
    },
    {
     "name": "stdout",
     "output_type": "stream",
     "text": [
      "[*********************100%***********************]  1 of 1 completed\n"
     ]
    },
    {
     "name": "stderr",
     "output_type": "stream",
     "text": [
      "C:\\Users\\patel_223gv41\\AppData\\Local\\Temp\\ipykernel_10348\\3310917388.py:7: PerformanceWarning: DataFrame is highly fragmented.  This is usually the result of calling `frame.insert` many times, which has poor performance.  Consider joining all columns at once using pd.concat(axis=1) instead. To get a de-fragmented frame, use `newframe = frame.copy()`\n",
      "  us_equities_close[ticker] = data['Adj Close']\n"
     ]
    },
    {
     "name": "stdout",
     "output_type": "stream",
     "text": [
      "[*********************100%***********************]  1 of 1 completed\n"
     ]
    },
    {
     "name": "stderr",
     "output_type": "stream",
     "text": [
      "C:\\Users\\patel_223gv41\\AppData\\Local\\Temp\\ipykernel_10348\\3310917388.py:7: PerformanceWarning: DataFrame is highly fragmented.  This is usually the result of calling `frame.insert` many times, which has poor performance.  Consider joining all columns at once using pd.concat(axis=1) instead. To get a de-fragmented frame, use `newframe = frame.copy()`\n",
      "  us_equities_close[ticker] = data['Adj Close']\n"
     ]
    },
    {
     "name": "stdout",
     "output_type": "stream",
     "text": [
      "[*********************100%***********************]  1 of 1 completed\n"
     ]
    },
    {
     "name": "stderr",
     "output_type": "stream",
     "text": [
      "C:\\Users\\patel_223gv41\\AppData\\Local\\Temp\\ipykernel_10348\\3310917388.py:7: PerformanceWarning: DataFrame is highly fragmented.  This is usually the result of calling `frame.insert` many times, which has poor performance.  Consider joining all columns at once using pd.concat(axis=1) instead. To get a de-fragmented frame, use `newframe = frame.copy()`\n",
      "  us_equities_close[ticker] = data['Adj Close']\n"
     ]
    },
    {
     "name": "stdout",
     "output_type": "stream",
     "text": [
      "[*********************100%***********************]  1 of 1 completed\n"
     ]
    },
    {
     "name": "stderr",
     "output_type": "stream",
     "text": [
      "C:\\Users\\patel_223gv41\\AppData\\Local\\Temp\\ipykernel_10348\\3310917388.py:7: PerformanceWarning: DataFrame is highly fragmented.  This is usually the result of calling `frame.insert` many times, which has poor performance.  Consider joining all columns at once using pd.concat(axis=1) instead. To get a de-fragmented frame, use `newframe = frame.copy()`\n",
      "  us_equities_close[ticker] = data['Adj Close']\n"
     ]
    },
    {
     "name": "stdout",
     "output_type": "stream",
     "text": [
      "[*********************100%***********************]  1 of 1 completed\n"
     ]
    },
    {
     "name": "stderr",
     "output_type": "stream",
     "text": [
      "C:\\Users\\patel_223gv41\\AppData\\Local\\Temp\\ipykernel_10348\\3310917388.py:7: PerformanceWarning: DataFrame is highly fragmented.  This is usually the result of calling `frame.insert` many times, which has poor performance.  Consider joining all columns at once using pd.concat(axis=1) instead. To get a de-fragmented frame, use `newframe = frame.copy()`\n",
      "  us_equities_close[ticker] = data['Adj Close']\n"
     ]
    },
    {
     "name": "stdout",
     "output_type": "stream",
     "text": [
      "[*********************100%***********************]  1 of 1 completed\n"
     ]
    },
    {
     "name": "stderr",
     "output_type": "stream",
     "text": [
      "C:\\Users\\patel_223gv41\\AppData\\Local\\Temp\\ipykernel_10348\\3310917388.py:7: PerformanceWarning: DataFrame is highly fragmented.  This is usually the result of calling `frame.insert` many times, which has poor performance.  Consider joining all columns at once using pd.concat(axis=1) instead. To get a de-fragmented frame, use `newframe = frame.copy()`\n",
      "  us_equities_close[ticker] = data['Adj Close']\n"
     ]
    },
    {
     "name": "stdout",
     "output_type": "stream",
     "text": [
      "[*********************100%***********************]  1 of 1 completed\n"
     ]
    },
    {
     "name": "stderr",
     "output_type": "stream",
     "text": [
      "C:\\Users\\patel_223gv41\\AppData\\Local\\Temp\\ipykernel_10348\\3310917388.py:7: PerformanceWarning: DataFrame is highly fragmented.  This is usually the result of calling `frame.insert` many times, which has poor performance.  Consider joining all columns at once using pd.concat(axis=1) instead. To get a de-fragmented frame, use `newframe = frame.copy()`\n",
      "  us_equities_close[ticker] = data['Adj Close']\n"
     ]
    },
    {
     "name": "stdout",
     "output_type": "stream",
     "text": [
      "[*********************100%***********************]  1 of 1 completed\n"
     ]
    },
    {
     "name": "stderr",
     "output_type": "stream",
     "text": [
      "C:\\Users\\patel_223gv41\\AppData\\Local\\Temp\\ipykernel_10348\\3310917388.py:7: PerformanceWarning: DataFrame is highly fragmented.  This is usually the result of calling `frame.insert` many times, which has poor performance.  Consider joining all columns at once using pd.concat(axis=1) instead. To get a de-fragmented frame, use `newframe = frame.copy()`\n",
      "  us_equities_close[ticker] = data['Adj Close']\n"
     ]
    },
    {
     "name": "stdout",
     "output_type": "stream",
     "text": [
      "[*********************100%***********************]  1 of 1 completed\n"
     ]
    },
    {
     "name": "stderr",
     "output_type": "stream",
     "text": [
      "C:\\Users\\patel_223gv41\\AppData\\Local\\Temp\\ipykernel_10348\\3310917388.py:7: PerformanceWarning: DataFrame is highly fragmented.  This is usually the result of calling `frame.insert` many times, which has poor performance.  Consider joining all columns at once using pd.concat(axis=1) instead. To get a de-fragmented frame, use `newframe = frame.copy()`\n",
      "  us_equities_close[ticker] = data['Adj Close']\n"
     ]
    },
    {
     "name": "stdout",
     "output_type": "stream",
     "text": [
      "[*********************100%***********************]  1 of 1 completed\n"
     ]
    },
    {
     "name": "stderr",
     "output_type": "stream",
     "text": [
      "C:\\Users\\patel_223gv41\\AppData\\Local\\Temp\\ipykernel_10348\\3310917388.py:7: PerformanceWarning: DataFrame is highly fragmented.  This is usually the result of calling `frame.insert` many times, which has poor performance.  Consider joining all columns at once using pd.concat(axis=1) instead. To get a de-fragmented frame, use `newframe = frame.copy()`\n",
      "  us_equities_close[ticker] = data['Adj Close']\n"
     ]
    },
    {
     "name": "stdout",
     "output_type": "stream",
     "text": [
      "[*********************100%***********************]  1 of 1 completed\n"
     ]
    },
    {
     "name": "stderr",
     "output_type": "stream",
     "text": [
      "C:\\Users\\patel_223gv41\\AppData\\Local\\Temp\\ipykernel_10348\\3310917388.py:7: PerformanceWarning: DataFrame is highly fragmented.  This is usually the result of calling `frame.insert` many times, which has poor performance.  Consider joining all columns at once using pd.concat(axis=1) instead. To get a de-fragmented frame, use `newframe = frame.copy()`\n",
      "  us_equities_close[ticker] = data['Adj Close']\n"
     ]
    },
    {
     "name": "stdout",
     "output_type": "stream",
     "text": [
      "[*********************100%***********************]  1 of 1 completed\n"
     ]
    },
    {
     "name": "stderr",
     "output_type": "stream",
     "text": [
      "C:\\Users\\patel_223gv41\\AppData\\Local\\Temp\\ipykernel_10348\\3310917388.py:7: PerformanceWarning: DataFrame is highly fragmented.  This is usually the result of calling `frame.insert` many times, which has poor performance.  Consider joining all columns at once using pd.concat(axis=1) instead. To get a de-fragmented frame, use `newframe = frame.copy()`\n",
      "  us_equities_close[ticker] = data['Adj Close']\n"
     ]
    },
    {
     "name": "stdout",
     "output_type": "stream",
     "text": [
      "[*********************100%***********************]  1 of 1 completed\n"
     ]
    },
    {
     "name": "stderr",
     "output_type": "stream",
     "text": [
      "C:\\Users\\patel_223gv41\\AppData\\Local\\Temp\\ipykernel_10348\\3310917388.py:7: PerformanceWarning: DataFrame is highly fragmented.  This is usually the result of calling `frame.insert` many times, which has poor performance.  Consider joining all columns at once using pd.concat(axis=1) instead. To get a de-fragmented frame, use `newframe = frame.copy()`\n",
      "  us_equities_close[ticker] = data['Adj Close']\n"
     ]
    }
   ],
   "source": [
    "us_equities_close = pd.DataFrame()\n",
    "\n",
    "for ticker in tickers:\n",
    "\n",
    "\tdata = yf.download(ticker, start=start_date, end=end_date)\n",
    "\n",
    "\tus_equities_close[ticker] = data['Adj Close']"
   ]
  },
  {
   "cell_type": "code",
   "execution_count": 6,
   "metadata": {},
   "outputs": [
    {
     "data": {
      "text/html": [
       "<div>\n",
       "<style scoped>\n",
       "    .dataframe tbody tr th:only-of-type {\n",
       "        vertical-align: middle;\n",
       "    }\n",
       "\n",
       "    .dataframe tbody tr th {\n",
       "        vertical-align: top;\n",
       "    }\n",
       "\n",
       "    .dataframe thead th {\n",
       "        text-align: right;\n",
       "    }\n",
       "</style>\n",
       "<table border=\"1\" class=\"dataframe\">\n",
       "  <thead>\n",
       "    <tr style=\"text-align: right;\">\n",
       "      <th></th>\n",
       "      <th>AAPL</th>\n",
       "      <th>MSFT</th>\n",
       "      <th>GOOG</th>\n",
       "      <th>GOOGL</th>\n",
       "      <th>AMZN</th>\n",
       "      <th>BRK.B</th>\n",
       "      <th>NVDA</th>\n",
       "      <th>XOM</th>\n",
       "      <th>UNH</th>\n",
       "      <th>TSLA</th>\n",
       "      <th>...</th>\n",
       "      <th>AIZ</th>\n",
       "      <th>DXC</th>\n",
       "      <th>NWL</th>\n",
       "      <th>NCLH</th>\n",
       "      <th>ALK</th>\n",
       "      <th>LNC</th>\n",
       "      <th>LUMN</th>\n",
       "      <th>TECH</th>\n",
       "      <th>TAP</th>\n",
       "      <th>GEHC</th>\n",
       "    </tr>\n",
       "    <tr>\n",
       "      <th>Date</th>\n",
       "      <th></th>\n",
       "      <th></th>\n",
       "      <th></th>\n",
       "      <th></th>\n",
       "      <th></th>\n",
       "      <th></th>\n",
       "      <th></th>\n",
       "      <th></th>\n",
       "      <th></th>\n",
       "      <th></th>\n",
       "      <th></th>\n",
       "      <th></th>\n",
       "      <th></th>\n",
       "      <th></th>\n",
       "      <th></th>\n",
       "      <th></th>\n",
       "      <th></th>\n",
       "      <th></th>\n",
       "      <th></th>\n",
       "      <th></th>\n",
       "      <th></th>\n",
       "    </tr>\n",
       "  </thead>\n",
       "  <tbody>\n",
       "    <tr>\n",
       "      <th>2010-01-04 00:00:00-05:00</th>\n",
       "      <td>6.515212</td>\n",
       "      <td>23.683075</td>\n",
       "      <td>15.610239</td>\n",
       "      <td>15.684434</td>\n",
       "      <td>6.695000</td>\n",
       "      <td>NaN</td>\n",
       "      <td>4.242310</td>\n",
       "      <td>41.998310</td>\n",
       "      <td>25.983179</td>\n",
       "      <td>NaN</td>\n",
       "      <td>...</td>\n",
       "      <td>23.222075</td>\n",
       "      <td>17.669441</td>\n",
       "      <td>10.288642</td>\n",
       "      <td>NaN</td>\n",
       "      <td>7.839311</td>\n",
       "      <td>19.833183</td>\n",
       "      <td>12.972063</td>\n",
       "      <td>14.882518</td>\n",
       "      <td>33.836285</td>\n",
       "      <td>NaN</td>\n",
       "    </tr>\n",
       "    <tr>\n",
       "      <th>2010-01-05 00:00:00-05:00</th>\n",
       "      <td>6.526477</td>\n",
       "      <td>23.690720</td>\n",
       "      <td>15.541497</td>\n",
       "      <td>15.615365</td>\n",
       "      <td>6.734500</td>\n",
       "      <td>NaN</td>\n",
       "      <td>4.304259</td>\n",
       "      <td>42.162292</td>\n",
       "      <td>25.941975</td>\n",
       "      <td>NaN</td>\n",
       "      <td>...</td>\n",
       "      <td>23.915041</td>\n",
       "      <td>17.663315</td>\n",
       "      <td>10.227718</td>\n",
       "      <td>NaN</td>\n",
       "      <td>8.268705</td>\n",
       "      <td>20.247017</td>\n",
       "      <td>12.993295</td>\n",
       "      <td>14.754669</td>\n",
       "      <td>33.431015</td>\n",
       "      <td>NaN</td>\n",
       "    </tr>\n",
       "    <tr>\n",
       "      <th>2010-01-06 00:00:00-05:00</th>\n",
       "      <td>6.422665</td>\n",
       "      <td>23.545334</td>\n",
       "      <td>15.149715</td>\n",
       "      <td>15.221722</td>\n",
       "      <td>6.612500</td>\n",
       "      <td>NaN</td>\n",
       "      <td>4.331791</td>\n",
       "      <td>42.526711</td>\n",
       "      <td>26.197435</td>\n",
       "      <td>NaN</td>\n",
       "      <td>...</td>\n",
       "      <td>23.845736</td>\n",
       "      <td>17.727585</td>\n",
       "      <td>10.410480</td>\n",
       "      <td>NaN</td>\n",
       "      <td>8.194520</td>\n",
       "      <td>20.553562</td>\n",
       "      <td>12.483757</td>\n",
       "      <td>14.715665</td>\n",
       "      <td>33.394157</td>\n",
       "      <td>NaN</td>\n",
       "    </tr>\n",
       "    <tr>\n",
       "      <th>2010-01-07 00:00:00-05:00</th>\n",
       "      <td>6.410792</td>\n",
       "      <td>23.300467</td>\n",
       "      <td>14.797037</td>\n",
       "      <td>14.867367</td>\n",
       "      <td>6.500000</td>\n",
       "      <td>NaN</td>\n",
       "      <td>4.246898</td>\n",
       "      <td>42.393082</td>\n",
       "      <td>27.202810</td>\n",
       "      <td>NaN</td>\n",
       "      <td>...</td>\n",
       "      <td>24.138321</td>\n",
       "      <td>17.550097</td>\n",
       "      <td>10.708307</td>\n",
       "      <td>NaN</td>\n",
       "      <td>8.151803</td>\n",
       "      <td>21.044210</td>\n",
       "      <td>12.363444</td>\n",
       "      <td>14.750337</td>\n",
       "      <td>32.834152</td>\n",
       "      <td>NaN</td>\n",
       "    </tr>\n",
       "    <tr>\n",
       "      <th>2010-01-08 00:00:00-05:00</th>\n",
       "      <td>6.453412</td>\n",
       "      <td>23.461163</td>\n",
       "      <td>14.994298</td>\n",
       "      <td>15.065566</td>\n",
       "      <td>6.676000</td>\n",
       "      <td>NaN</td>\n",
       "      <td>4.256076</td>\n",
       "      <td>42.223019</td>\n",
       "      <td>26.947350</td>\n",
       "      <td>NaN</td>\n",
       "      <td>...</td>\n",
       "      <td>24.153725</td>\n",
       "      <td>17.504194</td>\n",
       "      <td>10.674462</td>\n",
       "      <td>NaN</td>\n",
       "      <td>7.989937</td>\n",
       "      <td>20.722216</td>\n",
       "      <td>12.328061</td>\n",
       "      <td>14.722172</td>\n",
       "      <td>32.789944</td>\n",
       "      <td>NaN</td>\n",
       "    </tr>\n",
       "    <tr>\n",
       "      <th>...</th>\n",
       "      <td>...</td>\n",
       "      <td>...</td>\n",
       "      <td>...</td>\n",
       "      <td>...</td>\n",
       "      <td>...</td>\n",
       "      <td>...</td>\n",
       "      <td>...</td>\n",
       "      <td>...</td>\n",
       "      <td>...</td>\n",
       "      <td>...</td>\n",
       "      <td>...</td>\n",
       "      <td>...</td>\n",
       "      <td>...</td>\n",
       "      <td>...</td>\n",
       "      <td>...</td>\n",
       "      <td>...</td>\n",
       "      <td>...</td>\n",
       "      <td>...</td>\n",
       "      <td>...</td>\n",
       "      <td>...</td>\n",
       "      <td>...</td>\n",
       "    </tr>\n",
       "    <tr>\n",
       "      <th>2022-12-23 00:00:00-05:00</th>\n",
       "      <td>131.860001</td>\n",
       "      <td>238.729996</td>\n",
       "      <td>89.809998</td>\n",
       "      <td>89.230003</td>\n",
       "      <td>85.250000</td>\n",
       "      <td>NaN</td>\n",
       "      <td>152.059998</td>\n",
       "      <td>108.680000</td>\n",
       "      <td>531.309998</td>\n",
       "      <td>123.150002</td>\n",
       "      <td>...</td>\n",
       "      <td>125.029999</td>\n",
       "      <td>26.530001</td>\n",
       "      <td>12.990000</td>\n",
       "      <td>13.00</td>\n",
       "      <td>43.310001</td>\n",
       "      <td>29.705101</td>\n",
       "      <td>5.240000</td>\n",
       "      <td>82.730003</td>\n",
       "      <td>51.930000</td>\n",
       "      <td>57.500000</td>\n",
       "    </tr>\n",
       "    <tr>\n",
       "      <th>2022-12-27 00:00:00-05:00</th>\n",
       "      <td>130.029999</td>\n",
       "      <td>236.960007</td>\n",
       "      <td>87.930000</td>\n",
       "      <td>87.389999</td>\n",
       "      <td>83.040001</td>\n",
       "      <td>NaN</td>\n",
       "      <td>141.210007</td>\n",
       "      <td>110.190002</td>\n",
       "      <td>531.989990</td>\n",
       "      <td>109.099998</td>\n",
       "      <td>...</td>\n",
       "      <td>124.570000</td>\n",
       "      <td>26.690001</td>\n",
       "      <td>13.040000</td>\n",
       "      <td>12.54</td>\n",
       "      <td>42.259998</td>\n",
       "      <td>29.369898</td>\n",
       "      <td>5.280000</td>\n",
       "      <td>82.209999</td>\n",
       "      <td>52.330002</td>\n",
       "      <td>57.450001</td>\n",
       "    </tr>\n",
       "    <tr>\n",
       "      <th>2022-12-28 00:00:00-05:00</th>\n",
       "      <td>126.040001</td>\n",
       "      <td>234.529999</td>\n",
       "      <td>86.459999</td>\n",
       "      <td>86.019997</td>\n",
       "      <td>81.820000</td>\n",
       "      <td>NaN</td>\n",
       "      <td>140.360001</td>\n",
       "      <td>108.379997</td>\n",
       "      <td>528.450012</td>\n",
       "      <td>112.709999</td>\n",
       "      <td>...</td>\n",
       "      <td>123.959999</td>\n",
       "      <td>25.980000</td>\n",
       "      <td>12.920000</td>\n",
       "      <td>12.14</td>\n",
       "      <td>41.299999</td>\n",
       "      <td>29.113564</td>\n",
       "      <td>5.090000</td>\n",
       "      <td>80.690002</td>\n",
       "      <td>51.380001</td>\n",
       "      <td>57.500000</td>\n",
       "    </tr>\n",
       "    <tr>\n",
       "      <th>2022-12-29 00:00:00-05:00</th>\n",
       "      <td>129.610001</td>\n",
       "      <td>241.009995</td>\n",
       "      <td>88.949997</td>\n",
       "      <td>88.449997</td>\n",
       "      <td>84.180000</td>\n",
       "      <td>NaN</td>\n",
       "      <td>146.029999</td>\n",
       "      <td>109.199997</td>\n",
       "      <td>529.880005</td>\n",
       "      <td>121.820000</td>\n",
       "      <td>...</td>\n",
       "      <td>126.629997</td>\n",
       "      <td>26.740000</td>\n",
       "      <td>13.140000</td>\n",
       "      <td>12.47</td>\n",
       "      <td>42.810001</td>\n",
       "      <td>30.217768</td>\n",
       "      <td>5.300000</td>\n",
       "      <td>84.470001</td>\n",
       "      <td>51.599998</td>\n",
       "      <td>58.000000</td>\n",
       "    </tr>\n",
       "    <tr>\n",
       "      <th>2022-12-30 00:00:00-05:00</th>\n",
       "      <td>129.929993</td>\n",
       "      <td>239.820007</td>\n",
       "      <td>88.730003</td>\n",
       "      <td>88.230003</td>\n",
       "      <td>84.000000</td>\n",
       "      <td>NaN</td>\n",
       "      <td>146.139999</td>\n",
       "      <td>110.300003</td>\n",
       "      <td>530.179993</td>\n",
       "      <td>123.180000</td>\n",
       "      <td>...</td>\n",
       "      <td>125.059998</td>\n",
       "      <td>26.500000</td>\n",
       "      <td>13.080000</td>\n",
       "      <td>12.24</td>\n",
       "      <td>42.939999</td>\n",
       "      <td>30.286781</td>\n",
       "      <td>5.220000</td>\n",
       "      <td>82.879997</td>\n",
       "      <td>51.520000</td>\n",
       "      <td>58.380001</td>\n",
       "    </tr>\n",
       "  </tbody>\n",
       "</table>\n",
       "<p>3272 rows × 503 columns</p>\n",
       "</div>"
      ],
      "text/plain": [
       "                                 AAPL        MSFT       GOOG      GOOGL  \\\n",
       "Date                                                                      \n",
       "2010-01-04 00:00:00-05:00    6.515212   23.683075  15.610239  15.684434   \n",
       "2010-01-05 00:00:00-05:00    6.526477   23.690720  15.541497  15.615365   \n",
       "2010-01-06 00:00:00-05:00    6.422665   23.545334  15.149715  15.221722   \n",
       "2010-01-07 00:00:00-05:00    6.410792   23.300467  14.797037  14.867367   \n",
       "2010-01-08 00:00:00-05:00    6.453412   23.461163  14.994298  15.065566   \n",
       "...                               ...         ...        ...        ...   \n",
       "2022-12-23 00:00:00-05:00  131.860001  238.729996  89.809998  89.230003   \n",
       "2022-12-27 00:00:00-05:00  130.029999  236.960007  87.930000  87.389999   \n",
       "2022-12-28 00:00:00-05:00  126.040001  234.529999  86.459999  86.019997   \n",
       "2022-12-29 00:00:00-05:00  129.610001  241.009995  88.949997  88.449997   \n",
       "2022-12-30 00:00:00-05:00  129.929993  239.820007  88.730003  88.230003   \n",
       "\n",
       "                                AMZN  BRK.B        NVDA         XOM  \\\n",
       "Date                                                                  \n",
       "2010-01-04 00:00:00-05:00   6.695000    NaN    4.242310   41.998310   \n",
       "2010-01-05 00:00:00-05:00   6.734500    NaN    4.304259   42.162292   \n",
       "2010-01-06 00:00:00-05:00   6.612500    NaN    4.331791   42.526711   \n",
       "2010-01-07 00:00:00-05:00   6.500000    NaN    4.246898   42.393082   \n",
       "2010-01-08 00:00:00-05:00   6.676000    NaN    4.256076   42.223019   \n",
       "...                              ...    ...         ...         ...   \n",
       "2022-12-23 00:00:00-05:00  85.250000    NaN  152.059998  108.680000   \n",
       "2022-12-27 00:00:00-05:00  83.040001    NaN  141.210007  110.190002   \n",
       "2022-12-28 00:00:00-05:00  81.820000    NaN  140.360001  108.379997   \n",
       "2022-12-29 00:00:00-05:00  84.180000    NaN  146.029999  109.199997   \n",
       "2022-12-30 00:00:00-05:00  84.000000    NaN  146.139999  110.300003   \n",
       "\n",
       "                                  UNH        TSLA  ...         AIZ        DXC  \\\n",
       "Date                                               ...                          \n",
       "2010-01-04 00:00:00-05:00   25.983179         NaN  ...   23.222075  17.669441   \n",
       "2010-01-05 00:00:00-05:00   25.941975         NaN  ...   23.915041  17.663315   \n",
       "2010-01-06 00:00:00-05:00   26.197435         NaN  ...   23.845736  17.727585   \n",
       "2010-01-07 00:00:00-05:00   27.202810         NaN  ...   24.138321  17.550097   \n",
       "2010-01-08 00:00:00-05:00   26.947350         NaN  ...   24.153725  17.504194   \n",
       "...                               ...         ...  ...         ...        ...   \n",
       "2022-12-23 00:00:00-05:00  531.309998  123.150002  ...  125.029999  26.530001   \n",
       "2022-12-27 00:00:00-05:00  531.989990  109.099998  ...  124.570000  26.690001   \n",
       "2022-12-28 00:00:00-05:00  528.450012  112.709999  ...  123.959999  25.980000   \n",
       "2022-12-29 00:00:00-05:00  529.880005  121.820000  ...  126.629997  26.740000   \n",
       "2022-12-30 00:00:00-05:00  530.179993  123.180000  ...  125.059998  26.500000   \n",
       "\n",
       "                                 NWL   NCLH        ALK        LNC       LUMN  \\\n",
       "Date                                                                           \n",
       "2010-01-04 00:00:00-05:00  10.288642    NaN   7.839311  19.833183  12.972063   \n",
       "2010-01-05 00:00:00-05:00  10.227718    NaN   8.268705  20.247017  12.993295   \n",
       "2010-01-06 00:00:00-05:00  10.410480    NaN   8.194520  20.553562  12.483757   \n",
       "2010-01-07 00:00:00-05:00  10.708307    NaN   8.151803  21.044210  12.363444   \n",
       "2010-01-08 00:00:00-05:00  10.674462    NaN   7.989937  20.722216  12.328061   \n",
       "...                              ...    ...        ...        ...        ...   \n",
       "2022-12-23 00:00:00-05:00  12.990000  13.00  43.310001  29.705101   5.240000   \n",
       "2022-12-27 00:00:00-05:00  13.040000  12.54  42.259998  29.369898   5.280000   \n",
       "2022-12-28 00:00:00-05:00  12.920000  12.14  41.299999  29.113564   5.090000   \n",
       "2022-12-29 00:00:00-05:00  13.140000  12.47  42.810001  30.217768   5.300000   \n",
       "2022-12-30 00:00:00-05:00  13.080000  12.24  42.939999  30.286781   5.220000   \n",
       "\n",
       "                                TECH        TAP       GEHC  \n",
       "Date                                                        \n",
       "2010-01-04 00:00:00-05:00  14.882518  33.836285        NaN  \n",
       "2010-01-05 00:00:00-05:00  14.754669  33.431015        NaN  \n",
       "2010-01-06 00:00:00-05:00  14.715665  33.394157        NaN  \n",
       "2010-01-07 00:00:00-05:00  14.750337  32.834152        NaN  \n",
       "2010-01-08 00:00:00-05:00  14.722172  32.789944        NaN  \n",
       "...                              ...        ...        ...  \n",
       "2022-12-23 00:00:00-05:00  82.730003  51.930000  57.500000  \n",
       "2022-12-27 00:00:00-05:00  82.209999  52.330002  57.450001  \n",
       "2022-12-28 00:00:00-05:00  80.690002  51.380001  57.500000  \n",
       "2022-12-29 00:00:00-05:00  84.470001  51.599998  58.000000  \n",
       "2022-12-30 00:00:00-05:00  82.879997  51.520000  58.380001  \n",
       "\n",
       "[3272 rows x 503 columns]"
      ]
     },
     "execution_count": 6,
     "metadata": {},
     "output_type": "execute_result"
    }
   ],
   "source": [
    "us_equities_close"
   ]
  },
  {
   "cell_type": "code",
   "execution_count": 7,
   "metadata": {},
   "outputs": [],
   "source": [
    "\n",
    "#print(us_equities_close.isnull().sum().sort_values(ascending = False))\n",
    "\n",
    "us_equities_close.dropna(axis=1, inplace=True)"
   ]
  },
  {
   "cell_type": "code",
   "execution_count": 8,
   "metadata": {},
   "outputs": [
    {
     "data": {
      "text/html": [
       "<div>\n",
       "<style scoped>\n",
       "    .dataframe tbody tr th:only-of-type {\n",
       "        vertical-align: middle;\n",
       "    }\n",
       "\n",
       "    .dataframe tbody tr th {\n",
       "        vertical-align: top;\n",
       "    }\n",
       "\n",
       "    .dataframe thead th {\n",
       "        text-align: right;\n",
       "    }\n",
       "</style>\n",
       "<table border=\"1\" class=\"dataframe\">\n",
       "  <thead>\n",
       "    <tr style=\"text-align: right;\">\n",
       "      <th></th>\n",
       "      <th>AAPL</th>\n",
       "      <th>MSFT</th>\n",
       "      <th>GOOG</th>\n",
       "      <th>GOOGL</th>\n",
       "      <th>AMZN</th>\n",
       "      <th>NVDA</th>\n",
       "      <th>XOM</th>\n",
       "      <th>UNH</th>\n",
       "      <th>JNJ</th>\n",
       "      <th>V</th>\n",
       "      <th>...</th>\n",
       "      <th>MHK</th>\n",
       "      <th>DVA</th>\n",
       "      <th>AIZ</th>\n",
       "      <th>DXC</th>\n",
       "      <th>NWL</th>\n",
       "      <th>ALK</th>\n",
       "      <th>LNC</th>\n",
       "      <th>LUMN</th>\n",
       "      <th>TECH</th>\n",
       "      <th>TAP</th>\n",
       "    </tr>\n",
       "    <tr>\n",
       "      <th>Date</th>\n",
       "      <th></th>\n",
       "      <th></th>\n",
       "      <th></th>\n",
       "      <th></th>\n",
       "      <th></th>\n",
       "      <th></th>\n",
       "      <th></th>\n",
       "      <th></th>\n",
       "      <th></th>\n",
       "      <th></th>\n",
       "      <th></th>\n",
       "      <th></th>\n",
       "      <th></th>\n",
       "      <th></th>\n",
       "      <th></th>\n",
       "      <th></th>\n",
       "      <th></th>\n",
       "      <th></th>\n",
       "      <th></th>\n",
       "      <th></th>\n",
       "      <th></th>\n",
       "    </tr>\n",
       "  </thead>\n",
       "  <tbody>\n",
       "    <tr>\n",
       "      <th>2010-01-04 00:00:00-05:00</th>\n",
       "      <td>6.515212</td>\n",
       "      <td>23.683075</td>\n",
       "      <td>15.610239</td>\n",
       "      <td>15.684434</td>\n",
       "      <td>6.695000</td>\n",
       "      <td>4.242310</td>\n",
       "      <td>41.998310</td>\n",
       "      <td>25.983179</td>\n",
       "      <td>44.278534</td>\n",
       "      <td>20.094738</td>\n",
       "      <td>...</td>\n",
       "      <td>48.310001</td>\n",
       "      <td>29.959999</td>\n",
       "      <td>23.222075</td>\n",
       "      <td>17.669441</td>\n",
       "      <td>10.288642</td>\n",
       "      <td>7.839311</td>\n",
       "      <td>19.833183</td>\n",
       "      <td>12.972063</td>\n",
       "      <td>14.882518</td>\n",
       "      <td>33.836285</td>\n",
       "    </tr>\n",
       "    <tr>\n",
       "      <th>2010-01-05 00:00:00-05:00</th>\n",
       "      <td>6.526477</td>\n",
       "      <td>23.690720</td>\n",
       "      <td>15.541497</td>\n",
       "      <td>15.615365</td>\n",
       "      <td>6.734500</td>\n",
       "      <td>4.304259</td>\n",
       "      <td>42.162292</td>\n",
       "      <td>25.941975</td>\n",
       "      <td>43.765083</td>\n",
       "      <td>19.864475</td>\n",
       "      <td>...</td>\n",
       "      <td>48.119999</td>\n",
       "      <td>29.705000</td>\n",
       "      <td>23.915041</td>\n",
       "      <td>17.663315</td>\n",
       "      <td>10.227718</td>\n",
       "      <td>8.268705</td>\n",
       "      <td>20.247017</td>\n",
       "      <td>12.993295</td>\n",
       "      <td>14.754669</td>\n",
       "      <td>33.431015</td>\n",
       "    </tr>\n",
       "    <tr>\n",
       "      <th>2010-01-06 00:00:00-05:00</th>\n",
       "      <td>6.422665</td>\n",
       "      <td>23.545334</td>\n",
       "      <td>15.149715</td>\n",
       "      <td>15.221722</td>\n",
       "      <td>6.612500</td>\n",
       "      <td>4.331791</td>\n",
       "      <td>42.526711</td>\n",
       "      <td>26.197435</td>\n",
       "      <td>44.121067</td>\n",
       "      <td>19.597733</td>\n",
       "      <td>...</td>\n",
       "      <td>47.930000</td>\n",
       "      <td>29.530001</td>\n",
       "      <td>23.845736</td>\n",
       "      <td>17.727585</td>\n",
       "      <td>10.410480</td>\n",
       "      <td>8.194520</td>\n",
       "      <td>20.553562</td>\n",
       "      <td>12.483757</td>\n",
       "      <td>14.715665</td>\n",
       "      <td>33.394157</td>\n",
       "    </tr>\n",
       "    <tr>\n",
       "      <th>2010-01-07 00:00:00-05:00</th>\n",
       "      <td>6.410792</td>\n",
       "      <td>23.300467</td>\n",
       "      <td>14.797037</td>\n",
       "      <td>14.867367</td>\n",
       "      <td>6.500000</td>\n",
       "      <td>4.246898</td>\n",
       "      <td>42.393082</td>\n",
       "      <td>27.202810</td>\n",
       "      <td>43.806171</td>\n",
       "      <td>19.780115</td>\n",
       "      <td>...</td>\n",
       "      <td>48.770000</td>\n",
       "      <td>29.785000</td>\n",
       "      <td>24.138321</td>\n",
       "      <td>17.550097</td>\n",
       "      <td>10.708307</td>\n",
       "      <td>8.151803</td>\n",
       "      <td>21.044210</td>\n",
       "      <td>12.363444</td>\n",
       "      <td>14.750337</td>\n",
       "      <td>32.834152</td>\n",
       "    </tr>\n",
       "    <tr>\n",
       "      <th>2010-01-08 00:00:00-05:00</th>\n",
       "      <td>6.453412</td>\n",
       "      <td>23.461163</td>\n",
       "      <td>14.994298</td>\n",
       "      <td>15.065566</td>\n",
       "      <td>6.676000</td>\n",
       "      <td>4.256076</td>\n",
       "      <td>42.223019</td>\n",
       "      <td>26.947350</td>\n",
       "      <td>43.956768</td>\n",
       "      <td>19.834835</td>\n",
       "      <td>...</td>\n",
       "      <td>49.639999</td>\n",
       "      <td>30.500000</td>\n",
       "      <td>24.153725</td>\n",
       "      <td>17.504194</td>\n",
       "      <td>10.674462</td>\n",
       "      <td>7.989937</td>\n",
       "      <td>20.722216</td>\n",
       "      <td>12.328061</td>\n",
       "      <td>14.722172</td>\n",
       "      <td>32.789944</td>\n",
       "    </tr>\n",
       "    <tr>\n",
       "      <th>...</th>\n",
       "      <td>...</td>\n",
       "      <td>...</td>\n",
       "      <td>...</td>\n",
       "      <td>...</td>\n",
       "      <td>...</td>\n",
       "      <td>...</td>\n",
       "      <td>...</td>\n",
       "      <td>...</td>\n",
       "      <td>...</td>\n",
       "      <td>...</td>\n",
       "      <td>...</td>\n",
       "      <td>...</td>\n",
       "      <td>...</td>\n",
       "      <td>...</td>\n",
       "      <td>...</td>\n",
       "      <td>...</td>\n",
       "      <td>...</td>\n",
       "      <td>...</td>\n",
       "      <td>...</td>\n",
       "      <td>...</td>\n",
       "      <td>...</td>\n",
       "    </tr>\n",
       "    <tr>\n",
       "      <th>2022-12-23 00:00:00-05:00</th>\n",
       "      <td>131.860001</td>\n",
       "      <td>238.729996</td>\n",
       "      <td>89.809998</td>\n",
       "      <td>89.230003</td>\n",
       "      <td>85.250000</td>\n",
       "      <td>152.059998</td>\n",
       "      <td>108.680000</td>\n",
       "      <td>531.309998</td>\n",
       "      <td>177.479996</td>\n",
       "      <td>205.830002</td>\n",
       "      <td>...</td>\n",
       "      <td>97.959999</td>\n",
       "      <td>73.760002</td>\n",
       "      <td>125.029999</td>\n",
       "      <td>26.530001</td>\n",
       "      <td>12.990000</td>\n",
       "      <td>43.310001</td>\n",
       "      <td>29.705101</td>\n",
       "      <td>5.240000</td>\n",
       "      <td>82.730003</td>\n",
       "      <td>51.930000</td>\n",
       "    </tr>\n",
       "    <tr>\n",
       "      <th>2022-12-27 00:00:00-05:00</th>\n",
       "      <td>130.029999</td>\n",
       "      <td>236.960007</td>\n",
       "      <td>87.930000</td>\n",
       "      <td>87.389999</td>\n",
       "      <td>83.040001</td>\n",
       "      <td>141.210007</td>\n",
       "      <td>110.190002</td>\n",
       "      <td>531.989990</td>\n",
       "      <td>177.429993</td>\n",
       "      <td>206.289993</td>\n",
       "      <td>...</td>\n",
       "      <td>98.209999</td>\n",
       "      <td>73.900002</td>\n",
       "      <td>124.570000</td>\n",
       "      <td>26.690001</td>\n",
       "      <td>13.040000</td>\n",
       "      <td>42.259998</td>\n",
       "      <td>29.369898</td>\n",
       "      <td>5.280000</td>\n",
       "      <td>82.209999</td>\n",
       "      <td>52.330002</td>\n",
       "    </tr>\n",
       "    <tr>\n",
       "      <th>2022-12-28 00:00:00-05:00</th>\n",
       "      <td>126.040001</td>\n",
       "      <td>234.529999</td>\n",
       "      <td>86.459999</td>\n",
       "      <td>86.019997</td>\n",
       "      <td>81.820000</td>\n",
       "      <td>140.360001</td>\n",
       "      <td>108.379997</td>\n",
       "      <td>528.450012</td>\n",
       "      <td>176.660004</td>\n",
       "      <td>204.990005</td>\n",
       "      <td>...</td>\n",
       "      <td>96.360001</td>\n",
       "      <td>72.800003</td>\n",
       "      <td>123.959999</td>\n",
       "      <td>25.980000</td>\n",
       "      <td>12.920000</td>\n",
       "      <td>41.299999</td>\n",
       "      <td>29.113564</td>\n",
       "      <td>5.090000</td>\n",
       "      <td>80.690002</td>\n",
       "      <td>51.380001</td>\n",
       "    </tr>\n",
       "    <tr>\n",
       "      <th>2022-12-29 00:00:00-05:00</th>\n",
       "      <td>129.610001</td>\n",
       "      <td>241.009995</td>\n",
       "      <td>88.949997</td>\n",
       "      <td>88.449997</td>\n",
       "      <td>84.180000</td>\n",
       "      <td>146.029999</td>\n",
       "      <td>109.199997</td>\n",
       "      <td>529.880005</td>\n",
       "      <td>177.559998</td>\n",
       "      <td>208.059998</td>\n",
       "      <td>...</td>\n",
       "      <td>102.050003</td>\n",
       "      <td>75.209999</td>\n",
       "      <td>126.629997</td>\n",
       "      <td>26.740000</td>\n",
       "      <td>13.140000</td>\n",
       "      <td>42.810001</td>\n",
       "      <td>30.217768</td>\n",
       "      <td>5.300000</td>\n",
       "      <td>84.470001</td>\n",
       "      <td>51.599998</td>\n",
       "    </tr>\n",
       "    <tr>\n",
       "      <th>2022-12-30 00:00:00-05:00</th>\n",
       "      <td>129.929993</td>\n",
       "      <td>239.820007</td>\n",
       "      <td>88.730003</td>\n",
       "      <td>88.230003</td>\n",
       "      <td>84.000000</td>\n",
       "      <td>146.139999</td>\n",
       "      <td>110.300003</td>\n",
       "      <td>530.179993</td>\n",
       "      <td>176.649994</td>\n",
       "      <td>207.759995</td>\n",
       "      <td>...</td>\n",
       "      <td>102.220001</td>\n",
       "      <td>74.669998</td>\n",
       "      <td>125.059998</td>\n",
       "      <td>26.500000</td>\n",
       "      <td>13.080000</td>\n",
       "      <td>42.939999</td>\n",
       "      <td>30.286781</td>\n",
       "      <td>5.220000</td>\n",
       "      <td>82.879997</td>\n",
       "      <td>51.520000</td>\n",
       "    </tr>\n",
       "  </tbody>\n",
       "</table>\n",
       "<p>3272 rows × 438 columns</p>\n",
       "</div>"
      ],
      "text/plain": [
       "                                 AAPL        MSFT       GOOG      GOOGL  \\\n",
       "Date                                                                      \n",
       "2010-01-04 00:00:00-05:00    6.515212   23.683075  15.610239  15.684434   \n",
       "2010-01-05 00:00:00-05:00    6.526477   23.690720  15.541497  15.615365   \n",
       "2010-01-06 00:00:00-05:00    6.422665   23.545334  15.149715  15.221722   \n",
       "2010-01-07 00:00:00-05:00    6.410792   23.300467  14.797037  14.867367   \n",
       "2010-01-08 00:00:00-05:00    6.453412   23.461163  14.994298  15.065566   \n",
       "...                               ...         ...        ...        ...   \n",
       "2022-12-23 00:00:00-05:00  131.860001  238.729996  89.809998  89.230003   \n",
       "2022-12-27 00:00:00-05:00  130.029999  236.960007  87.930000  87.389999   \n",
       "2022-12-28 00:00:00-05:00  126.040001  234.529999  86.459999  86.019997   \n",
       "2022-12-29 00:00:00-05:00  129.610001  241.009995  88.949997  88.449997   \n",
       "2022-12-30 00:00:00-05:00  129.929993  239.820007  88.730003  88.230003   \n",
       "\n",
       "                                AMZN        NVDA         XOM         UNH  \\\n",
       "Date                                                                       \n",
       "2010-01-04 00:00:00-05:00   6.695000    4.242310   41.998310   25.983179   \n",
       "2010-01-05 00:00:00-05:00   6.734500    4.304259   42.162292   25.941975   \n",
       "2010-01-06 00:00:00-05:00   6.612500    4.331791   42.526711   26.197435   \n",
       "2010-01-07 00:00:00-05:00   6.500000    4.246898   42.393082   27.202810   \n",
       "2010-01-08 00:00:00-05:00   6.676000    4.256076   42.223019   26.947350   \n",
       "...                              ...         ...         ...         ...   \n",
       "2022-12-23 00:00:00-05:00  85.250000  152.059998  108.680000  531.309998   \n",
       "2022-12-27 00:00:00-05:00  83.040001  141.210007  110.190002  531.989990   \n",
       "2022-12-28 00:00:00-05:00  81.820000  140.360001  108.379997  528.450012   \n",
       "2022-12-29 00:00:00-05:00  84.180000  146.029999  109.199997  529.880005   \n",
       "2022-12-30 00:00:00-05:00  84.000000  146.139999  110.300003  530.179993   \n",
       "\n",
       "                                  JNJ           V  ...         MHK        DVA  \\\n",
       "Date                                               ...                          \n",
       "2010-01-04 00:00:00-05:00   44.278534   20.094738  ...   48.310001  29.959999   \n",
       "2010-01-05 00:00:00-05:00   43.765083   19.864475  ...   48.119999  29.705000   \n",
       "2010-01-06 00:00:00-05:00   44.121067   19.597733  ...   47.930000  29.530001   \n",
       "2010-01-07 00:00:00-05:00   43.806171   19.780115  ...   48.770000  29.785000   \n",
       "2010-01-08 00:00:00-05:00   43.956768   19.834835  ...   49.639999  30.500000   \n",
       "...                               ...         ...  ...         ...        ...   \n",
       "2022-12-23 00:00:00-05:00  177.479996  205.830002  ...   97.959999  73.760002   \n",
       "2022-12-27 00:00:00-05:00  177.429993  206.289993  ...   98.209999  73.900002   \n",
       "2022-12-28 00:00:00-05:00  176.660004  204.990005  ...   96.360001  72.800003   \n",
       "2022-12-29 00:00:00-05:00  177.559998  208.059998  ...  102.050003  75.209999   \n",
       "2022-12-30 00:00:00-05:00  176.649994  207.759995  ...  102.220001  74.669998   \n",
       "\n",
       "                                  AIZ        DXC        NWL        ALK  \\\n",
       "Date                                                                     \n",
       "2010-01-04 00:00:00-05:00   23.222075  17.669441  10.288642   7.839311   \n",
       "2010-01-05 00:00:00-05:00   23.915041  17.663315  10.227718   8.268705   \n",
       "2010-01-06 00:00:00-05:00   23.845736  17.727585  10.410480   8.194520   \n",
       "2010-01-07 00:00:00-05:00   24.138321  17.550097  10.708307   8.151803   \n",
       "2010-01-08 00:00:00-05:00   24.153725  17.504194  10.674462   7.989937   \n",
       "...                               ...        ...        ...        ...   \n",
       "2022-12-23 00:00:00-05:00  125.029999  26.530001  12.990000  43.310001   \n",
       "2022-12-27 00:00:00-05:00  124.570000  26.690001  13.040000  42.259998   \n",
       "2022-12-28 00:00:00-05:00  123.959999  25.980000  12.920000  41.299999   \n",
       "2022-12-29 00:00:00-05:00  126.629997  26.740000  13.140000  42.810001   \n",
       "2022-12-30 00:00:00-05:00  125.059998  26.500000  13.080000  42.939999   \n",
       "\n",
       "                                 LNC       LUMN       TECH        TAP  \n",
       "Date                                                                   \n",
       "2010-01-04 00:00:00-05:00  19.833183  12.972063  14.882518  33.836285  \n",
       "2010-01-05 00:00:00-05:00  20.247017  12.993295  14.754669  33.431015  \n",
       "2010-01-06 00:00:00-05:00  20.553562  12.483757  14.715665  33.394157  \n",
       "2010-01-07 00:00:00-05:00  21.044210  12.363444  14.750337  32.834152  \n",
       "2010-01-08 00:00:00-05:00  20.722216  12.328061  14.722172  32.789944  \n",
       "...                              ...        ...        ...        ...  \n",
       "2022-12-23 00:00:00-05:00  29.705101   5.240000  82.730003  51.930000  \n",
       "2022-12-27 00:00:00-05:00  29.369898   5.280000  82.209999  52.330002  \n",
       "2022-12-28 00:00:00-05:00  29.113564   5.090000  80.690002  51.380001  \n",
       "2022-12-29 00:00:00-05:00  30.217768   5.300000  84.470001  51.599998  \n",
       "2022-12-30 00:00:00-05:00  30.286781   5.220000  82.879997  51.520000  \n",
       "\n",
       "[3272 rows x 438 columns]"
      ]
     },
     "execution_count": 8,
     "metadata": {},
     "output_type": "execute_result"
    }
   ],
   "source": [
    "us_equities_close"
   ]
  },
  {
   "cell_type": "code",
   "execution_count": 9,
   "metadata": {},
   "outputs": [],
   "source": [
    "us_equities_close.index = us_equities_close.index.date\n",
    "us_equities_close.index.name = \"date\""
   ]
  },
  {
   "cell_type": "code",
   "execution_count": 10,
   "metadata": {},
   "outputs": [
    {
     "data": {
      "text/html": [
       "<div>\n",
       "<style scoped>\n",
       "    .dataframe tbody tr th:only-of-type {\n",
       "        vertical-align: middle;\n",
       "    }\n",
       "\n",
       "    .dataframe tbody tr th {\n",
       "        vertical-align: top;\n",
       "    }\n",
       "\n",
       "    .dataframe thead th {\n",
       "        text-align: right;\n",
       "    }\n",
       "</style>\n",
       "<table border=\"1\" class=\"dataframe\">\n",
       "  <thead>\n",
       "    <tr style=\"text-align: right;\">\n",
       "      <th></th>\n",
       "      <th>AAPL</th>\n",
       "      <th>MSFT</th>\n",
       "      <th>GOOG</th>\n",
       "      <th>GOOGL</th>\n",
       "      <th>AMZN</th>\n",
       "      <th>NVDA</th>\n",
       "      <th>XOM</th>\n",
       "      <th>UNH</th>\n",
       "      <th>JNJ</th>\n",
       "      <th>V</th>\n",
       "      <th>...</th>\n",
       "      <th>MHK</th>\n",
       "      <th>DVA</th>\n",
       "      <th>AIZ</th>\n",
       "      <th>DXC</th>\n",
       "      <th>NWL</th>\n",
       "      <th>ALK</th>\n",
       "      <th>LNC</th>\n",
       "      <th>LUMN</th>\n",
       "      <th>TECH</th>\n",
       "      <th>TAP</th>\n",
       "    </tr>\n",
       "    <tr>\n",
       "      <th>date</th>\n",
       "      <th></th>\n",
       "      <th></th>\n",
       "      <th></th>\n",
       "      <th></th>\n",
       "      <th></th>\n",
       "      <th></th>\n",
       "      <th></th>\n",
       "      <th></th>\n",
       "      <th></th>\n",
       "      <th></th>\n",
       "      <th></th>\n",
       "      <th></th>\n",
       "      <th></th>\n",
       "      <th></th>\n",
       "      <th></th>\n",
       "      <th></th>\n",
       "      <th></th>\n",
       "      <th></th>\n",
       "      <th></th>\n",
       "      <th></th>\n",
       "      <th></th>\n",
       "    </tr>\n",
       "  </thead>\n",
       "  <tbody>\n",
       "    <tr>\n",
       "      <th>2010-01-04</th>\n",
       "      <td>6.515212</td>\n",
       "      <td>23.683075</td>\n",
       "      <td>15.610239</td>\n",
       "      <td>15.684434</td>\n",
       "      <td>6.695000</td>\n",
       "      <td>4.242310</td>\n",
       "      <td>41.998310</td>\n",
       "      <td>25.983179</td>\n",
       "      <td>44.278534</td>\n",
       "      <td>20.094738</td>\n",
       "      <td>...</td>\n",
       "      <td>48.310001</td>\n",
       "      <td>29.959999</td>\n",
       "      <td>23.222075</td>\n",
       "      <td>17.669441</td>\n",
       "      <td>10.288642</td>\n",
       "      <td>7.839311</td>\n",
       "      <td>19.833183</td>\n",
       "      <td>12.972063</td>\n",
       "      <td>14.882518</td>\n",
       "      <td>33.836285</td>\n",
       "    </tr>\n",
       "    <tr>\n",
       "      <th>2010-01-05</th>\n",
       "      <td>6.526477</td>\n",
       "      <td>23.690720</td>\n",
       "      <td>15.541497</td>\n",
       "      <td>15.615365</td>\n",
       "      <td>6.734500</td>\n",
       "      <td>4.304259</td>\n",
       "      <td>42.162292</td>\n",
       "      <td>25.941975</td>\n",
       "      <td>43.765083</td>\n",
       "      <td>19.864475</td>\n",
       "      <td>...</td>\n",
       "      <td>48.119999</td>\n",
       "      <td>29.705000</td>\n",
       "      <td>23.915041</td>\n",
       "      <td>17.663315</td>\n",
       "      <td>10.227718</td>\n",
       "      <td>8.268705</td>\n",
       "      <td>20.247017</td>\n",
       "      <td>12.993295</td>\n",
       "      <td>14.754669</td>\n",
       "      <td>33.431015</td>\n",
       "    </tr>\n",
       "    <tr>\n",
       "      <th>2010-01-06</th>\n",
       "      <td>6.422665</td>\n",
       "      <td>23.545334</td>\n",
       "      <td>15.149715</td>\n",
       "      <td>15.221722</td>\n",
       "      <td>6.612500</td>\n",
       "      <td>4.331791</td>\n",
       "      <td>42.526711</td>\n",
       "      <td>26.197435</td>\n",
       "      <td>44.121067</td>\n",
       "      <td>19.597733</td>\n",
       "      <td>...</td>\n",
       "      <td>47.930000</td>\n",
       "      <td>29.530001</td>\n",
       "      <td>23.845736</td>\n",
       "      <td>17.727585</td>\n",
       "      <td>10.410480</td>\n",
       "      <td>8.194520</td>\n",
       "      <td>20.553562</td>\n",
       "      <td>12.483757</td>\n",
       "      <td>14.715665</td>\n",
       "      <td>33.394157</td>\n",
       "    </tr>\n",
       "    <tr>\n",
       "      <th>2010-01-07</th>\n",
       "      <td>6.410792</td>\n",
       "      <td>23.300467</td>\n",
       "      <td>14.797037</td>\n",
       "      <td>14.867367</td>\n",
       "      <td>6.500000</td>\n",
       "      <td>4.246898</td>\n",
       "      <td>42.393082</td>\n",
       "      <td>27.202810</td>\n",
       "      <td>43.806171</td>\n",
       "      <td>19.780115</td>\n",
       "      <td>...</td>\n",
       "      <td>48.770000</td>\n",
       "      <td>29.785000</td>\n",
       "      <td>24.138321</td>\n",
       "      <td>17.550097</td>\n",
       "      <td>10.708307</td>\n",
       "      <td>8.151803</td>\n",
       "      <td>21.044210</td>\n",
       "      <td>12.363444</td>\n",
       "      <td>14.750337</td>\n",
       "      <td>32.834152</td>\n",
       "    </tr>\n",
       "    <tr>\n",
       "      <th>2010-01-08</th>\n",
       "      <td>6.453412</td>\n",
       "      <td>23.461163</td>\n",
       "      <td>14.994298</td>\n",
       "      <td>15.065566</td>\n",
       "      <td>6.676000</td>\n",
       "      <td>4.256076</td>\n",
       "      <td>42.223019</td>\n",
       "      <td>26.947350</td>\n",
       "      <td>43.956768</td>\n",
       "      <td>19.834835</td>\n",
       "      <td>...</td>\n",
       "      <td>49.639999</td>\n",
       "      <td>30.500000</td>\n",
       "      <td>24.153725</td>\n",
       "      <td>17.504194</td>\n",
       "      <td>10.674462</td>\n",
       "      <td>7.989937</td>\n",
       "      <td>20.722216</td>\n",
       "      <td>12.328061</td>\n",
       "      <td>14.722172</td>\n",
       "      <td>32.789944</td>\n",
       "    </tr>\n",
       "    <tr>\n",
       "      <th>...</th>\n",
       "      <td>...</td>\n",
       "      <td>...</td>\n",
       "      <td>...</td>\n",
       "      <td>...</td>\n",
       "      <td>...</td>\n",
       "      <td>...</td>\n",
       "      <td>...</td>\n",
       "      <td>...</td>\n",
       "      <td>...</td>\n",
       "      <td>...</td>\n",
       "      <td>...</td>\n",
       "      <td>...</td>\n",
       "      <td>...</td>\n",
       "      <td>...</td>\n",
       "      <td>...</td>\n",
       "      <td>...</td>\n",
       "      <td>...</td>\n",
       "      <td>...</td>\n",
       "      <td>...</td>\n",
       "      <td>...</td>\n",
       "      <td>...</td>\n",
       "    </tr>\n",
       "    <tr>\n",
       "      <th>2022-12-23</th>\n",
       "      <td>131.860001</td>\n",
       "      <td>238.729996</td>\n",
       "      <td>89.809998</td>\n",
       "      <td>89.230003</td>\n",
       "      <td>85.250000</td>\n",
       "      <td>152.059998</td>\n",
       "      <td>108.680000</td>\n",
       "      <td>531.309998</td>\n",
       "      <td>177.479996</td>\n",
       "      <td>205.830002</td>\n",
       "      <td>...</td>\n",
       "      <td>97.959999</td>\n",
       "      <td>73.760002</td>\n",
       "      <td>125.029999</td>\n",
       "      <td>26.530001</td>\n",
       "      <td>12.990000</td>\n",
       "      <td>43.310001</td>\n",
       "      <td>29.705101</td>\n",
       "      <td>5.240000</td>\n",
       "      <td>82.730003</td>\n",
       "      <td>51.930000</td>\n",
       "    </tr>\n",
       "    <tr>\n",
       "      <th>2022-12-27</th>\n",
       "      <td>130.029999</td>\n",
       "      <td>236.960007</td>\n",
       "      <td>87.930000</td>\n",
       "      <td>87.389999</td>\n",
       "      <td>83.040001</td>\n",
       "      <td>141.210007</td>\n",
       "      <td>110.190002</td>\n",
       "      <td>531.989990</td>\n",
       "      <td>177.429993</td>\n",
       "      <td>206.289993</td>\n",
       "      <td>...</td>\n",
       "      <td>98.209999</td>\n",
       "      <td>73.900002</td>\n",
       "      <td>124.570000</td>\n",
       "      <td>26.690001</td>\n",
       "      <td>13.040000</td>\n",
       "      <td>42.259998</td>\n",
       "      <td>29.369898</td>\n",
       "      <td>5.280000</td>\n",
       "      <td>82.209999</td>\n",
       "      <td>52.330002</td>\n",
       "    </tr>\n",
       "    <tr>\n",
       "      <th>2022-12-28</th>\n",
       "      <td>126.040001</td>\n",
       "      <td>234.529999</td>\n",
       "      <td>86.459999</td>\n",
       "      <td>86.019997</td>\n",
       "      <td>81.820000</td>\n",
       "      <td>140.360001</td>\n",
       "      <td>108.379997</td>\n",
       "      <td>528.450012</td>\n",
       "      <td>176.660004</td>\n",
       "      <td>204.990005</td>\n",
       "      <td>...</td>\n",
       "      <td>96.360001</td>\n",
       "      <td>72.800003</td>\n",
       "      <td>123.959999</td>\n",
       "      <td>25.980000</td>\n",
       "      <td>12.920000</td>\n",
       "      <td>41.299999</td>\n",
       "      <td>29.113564</td>\n",
       "      <td>5.090000</td>\n",
       "      <td>80.690002</td>\n",
       "      <td>51.380001</td>\n",
       "    </tr>\n",
       "    <tr>\n",
       "      <th>2022-12-29</th>\n",
       "      <td>129.610001</td>\n",
       "      <td>241.009995</td>\n",
       "      <td>88.949997</td>\n",
       "      <td>88.449997</td>\n",
       "      <td>84.180000</td>\n",
       "      <td>146.029999</td>\n",
       "      <td>109.199997</td>\n",
       "      <td>529.880005</td>\n",
       "      <td>177.559998</td>\n",
       "      <td>208.059998</td>\n",
       "      <td>...</td>\n",
       "      <td>102.050003</td>\n",
       "      <td>75.209999</td>\n",
       "      <td>126.629997</td>\n",
       "      <td>26.740000</td>\n",
       "      <td>13.140000</td>\n",
       "      <td>42.810001</td>\n",
       "      <td>30.217768</td>\n",
       "      <td>5.300000</td>\n",
       "      <td>84.470001</td>\n",
       "      <td>51.599998</td>\n",
       "    </tr>\n",
       "    <tr>\n",
       "      <th>2022-12-30</th>\n",
       "      <td>129.929993</td>\n",
       "      <td>239.820007</td>\n",
       "      <td>88.730003</td>\n",
       "      <td>88.230003</td>\n",
       "      <td>84.000000</td>\n",
       "      <td>146.139999</td>\n",
       "      <td>110.300003</td>\n",
       "      <td>530.179993</td>\n",
       "      <td>176.649994</td>\n",
       "      <td>207.759995</td>\n",
       "      <td>...</td>\n",
       "      <td>102.220001</td>\n",
       "      <td>74.669998</td>\n",
       "      <td>125.059998</td>\n",
       "      <td>26.500000</td>\n",
       "      <td>13.080000</td>\n",
       "      <td>42.939999</td>\n",
       "      <td>30.286781</td>\n",
       "      <td>5.220000</td>\n",
       "      <td>82.879997</td>\n",
       "      <td>51.520000</td>\n",
       "    </tr>\n",
       "  </tbody>\n",
       "</table>\n",
       "<p>3272 rows × 438 columns</p>\n",
       "</div>"
      ],
      "text/plain": [
       "                  AAPL        MSFT       GOOG      GOOGL       AMZN  \\\n",
       "date                                                                  \n",
       "2010-01-04    6.515212   23.683075  15.610239  15.684434   6.695000   \n",
       "2010-01-05    6.526477   23.690720  15.541497  15.615365   6.734500   \n",
       "2010-01-06    6.422665   23.545334  15.149715  15.221722   6.612500   \n",
       "2010-01-07    6.410792   23.300467  14.797037  14.867367   6.500000   \n",
       "2010-01-08    6.453412   23.461163  14.994298  15.065566   6.676000   \n",
       "...                ...         ...        ...        ...        ...   \n",
       "2022-12-23  131.860001  238.729996  89.809998  89.230003  85.250000   \n",
       "2022-12-27  130.029999  236.960007  87.930000  87.389999  83.040001   \n",
       "2022-12-28  126.040001  234.529999  86.459999  86.019997  81.820000   \n",
       "2022-12-29  129.610001  241.009995  88.949997  88.449997  84.180000   \n",
       "2022-12-30  129.929993  239.820007  88.730003  88.230003  84.000000   \n",
       "\n",
       "                  NVDA         XOM         UNH         JNJ           V  ...  \\\n",
       "date                                                                    ...   \n",
       "2010-01-04    4.242310   41.998310   25.983179   44.278534   20.094738  ...   \n",
       "2010-01-05    4.304259   42.162292   25.941975   43.765083   19.864475  ...   \n",
       "2010-01-06    4.331791   42.526711   26.197435   44.121067   19.597733  ...   \n",
       "2010-01-07    4.246898   42.393082   27.202810   43.806171   19.780115  ...   \n",
       "2010-01-08    4.256076   42.223019   26.947350   43.956768   19.834835  ...   \n",
       "...                ...         ...         ...         ...         ...  ...   \n",
       "2022-12-23  152.059998  108.680000  531.309998  177.479996  205.830002  ...   \n",
       "2022-12-27  141.210007  110.190002  531.989990  177.429993  206.289993  ...   \n",
       "2022-12-28  140.360001  108.379997  528.450012  176.660004  204.990005  ...   \n",
       "2022-12-29  146.029999  109.199997  529.880005  177.559998  208.059998  ...   \n",
       "2022-12-30  146.139999  110.300003  530.179993  176.649994  207.759995  ...   \n",
       "\n",
       "                   MHK        DVA         AIZ        DXC        NWL  \\\n",
       "date                                                                  \n",
       "2010-01-04   48.310001  29.959999   23.222075  17.669441  10.288642   \n",
       "2010-01-05   48.119999  29.705000   23.915041  17.663315  10.227718   \n",
       "2010-01-06   47.930000  29.530001   23.845736  17.727585  10.410480   \n",
       "2010-01-07   48.770000  29.785000   24.138321  17.550097  10.708307   \n",
       "2010-01-08   49.639999  30.500000   24.153725  17.504194  10.674462   \n",
       "...                ...        ...         ...        ...        ...   \n",
       "2022-12-23   97.959999  73.760002  125.029999  26.530001  12.990000   \n",
       "2022-12-27   98.209999  73.900002  124.570000  26.690001  13.040000   \n",
       "2022-12-28   96.360001  72.800003  123.959999  25.980000  12.920000   \n",
       "2022-12-29  102.050003  75.209999  126.629997  26.740000  13.140000   \n",
       "2022-12-30  102.220001  74.669998  125.059998  26.500000  13.080000   \n",
       "\n",
       "                  ALK        LNC       LUMN       TECH        TAP  \n",
       "date                                                               \n",
       "2010-01-04   7.839311  19.833183  12.972063  14.882518  33.836285  \n",
       "2010-01-05   8.268705  20.247017  12.993295  14.754669  33.431015  \n",
       "2010-01-06   8.194520  20.553562  12.483757  14.715665  33.394157  \n",
       "2010-01-07   8.151803  21.044210  12.363444  14.750337  32.834152  \n",
       "2010-01-08   7.989937  20.722216  12.328061  14.722172  32.789944  \n",
       "...               ...        ...        ...        ...        ...  \n",
       "2022-12-23  43.310001  29.705101   5.240000  82.730003  51.930000  \n",
       "2022-12-27  42.259998  29.369898   5.280000  82.209999  52.330002  \n",
       "2022-12-28  41.299999  29.113564   5.090000  80.690002  51.380001  \n",
       "2022-12-29  42.810001  30.217768   5.300000  84.470001  51.599998  \n",
       "2022-12-30  42.939999  30.286781   5.220000  82.879997  51.520000  \n",
       "\n",
       "[3272 rows x 438 columns]"
      ]
     },
     "execution_count": 10,
     "metadata": {},
     "output_type": "execute_result"
    }
   ],
   "source": [
    "us_equities_close"
   ]
  },
  {
   "cell_type": "code",
   "execution_count": 11,
   "metadata": {},
   "outputs": [],
   "source": [
    "us_equities_close.to_csv(\"sample_US_equity_close.csv\")"
   ]
  }
 ],
 "metadata": {
  "kernelspec": {
   "display_name": "Python 3",
   "language": "python",
   "name": "python3"
  },
  "language_info": {
   "codemirror_mode": {
    "name": "ipython",
    "version": 3
   },
   "file_extension": ".py",
   "mimetype": "text/x-python",
   "name": "python",
   "nbconvert_exporter": "python",
   "pygments_lexer": "ipython3",
   "version": "3.8.10"
  },
  "orig_nbformat": 4,
  "vscode": {
   "interpreter": {
    "hash": "ebc54687aefdcd75e400cbdf1055601fb5433e4cbcb3dedb2c792bb13c2d3644"
   }
  }
 },
 "nbformat": 4,
 "nbformat_minor": 2
}
